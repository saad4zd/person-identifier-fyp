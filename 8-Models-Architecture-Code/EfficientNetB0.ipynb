{
 "cells": [
  {
   "cell_type": "markdown",
   "metadata": {},
   "source": [
    "### Importing Libraries"
   ]
  },
  {
   "cell_type": "code",
   "execution_count": 1,
   "metadata": {},
   "outputs": [
    {
     "name": "stderr",
     "output_type": "stream",
     "text": [
      "2024-04-22 03:23:08.331134: I tensorflow/core/util/port.cc:110] oneDNN custom operations are on. You may see slightly different numerical results due to floating-point round-off errors from different computation orders. To turn them off, set the environment variable `TF_ENABLE_ONEDNN_OPTS=0`.\n",
      "2024-04-22 03:23:08.385408: I tensorflow/core/platform/cpu_feature_guard.cc:182] This TensorFlow binary is optimized to use available CPU instructions in performance-critical operations.\n",
      "To enable the following instructions: AVX2 AVX512F AVX512_VNNI FMA, in other operations, rebuild TensorFlow with the appropriate compiler flags.\n",
      "2024-04-22 03:23:09.328663: W tensorflow/compiler/tf2tensorrt/utils/py_utils.cc:38] TF-TRT Warning: Could not find TensorRT\n",
      "/home/saad-bscs/.local/lib/python3.10/site-packages/matplotlib/projections/__init__.py:63: UserWarning: Unable to import Axes3D. This may be due to multiple versions of Matplotlib being installed (e.g. as a system package and as a pip package). As a result, the 3D projection is not available.\n",
      "  warnings.warn(\"Unable to import Axes3D. This may be due to multiple versions of \"\n"
     ]
    }
   ],
   "source": [
    "import os\n",
    "import tensorflow as tf\n",
    "import matplotlib.pyplot as plt\n",
    "from tensorflow.keras.metrics import top_k_categorical_accuracy\n",
    "from tensorflow.keras.preprocessing.image import ImageDataGenerator\n",
    "from tensorflow.keras.callbacks import ModelCheckpoint, EarlyStopping, ReduceLROnPlateau\n",
    "from tensorflow.keras.layers import Conv2D, BatchNormalization, Activation, DepthwiseConv2D, GlobalAveragePooling2D, Reshape, Dense, Multiply, Add"
   ]
  },
  {
   "cell_type": "markdown",
   "metadata": {},
   "source": [
    "### Constants"
   ]
  },
  {
   "cell_type": "code",
   "execution_count": 2,
   "metadata": {},
   "outputs": [],
   "source": [
    "batch_size = 32\n",
    "num_classes = 124\n",
    "tf.random.set_seed(42)\n",
    "img_height, img_width = 128, 128\n",
    "data_dir = os.path.join(os.getcwd(), \"../5-Gait-Energy-Images\")"
   ]
  },
  {
   "cell_type": "markdown",
   "metadata": {},
   "source": [
    "### Training Data Augmentation"
   ]
  },
  {
   "cell_type": "code",
   "execution_count": 3,
   "metadata": {},
   "outputs": [],
   "source": [
    "train_datagen = ImageDataGenerator(\n",
    "    shear_range=0.2,\n",
    "    rescale=1.0 / 255,\n",
    "    rotation_range=20,\n",
    "    fill_mode=\"nearest\",\n",
    "    horizontal_flip=True,\n",
    "    zoom_range=[0.8, 1.2],\n",
    "    width_shift_range=0.2,\n",
    "    validation_split=0.15,\n",
    "    height_shift_range=0.2,\n",
    "    channel_shift_range=10,\n",
    "    brightness_range=[0.8, 1.2],\n",
    ")"
   ]
  },
  {
   "cell_type": "markdown",
   "metadata": {},
   "source": [
    "### Testing Data Augmentation"
   ]
  },
  {
   "cell_type": "code",
   "execution_count": 4,
   "metadata": {},
   "outputs": [],
   "source": [
    "test_datagen = ImageDataGenerator(rescale=1.0 / 255, validation_split=0.15)"
   ]
  },
  {
   "cell_type": "markdown",
   "metadata": {},
   "source": [
    "### Load and split data into training and testing sets"
   ]
  },
  {
   "cell_type": "code",
   "execution_count": 5,
   "metadata": {},
   "outputs": [
    {
     "name": "stdout",
     "output_type": "stream",
     "text": [
      "Found 11587 images belonging to 124 classes.\n",
      "Found 1974 images belonging to 124 classes.\n"
     ]
    }
   ],
   "source": [
    "train_generator = train_datagen.flow_from_directory(\n",
    "    data_dir,\n",
    "    seed=42,\n",
    "    shuffle=True,\n",
    "    subset=\"training\",\n",
    "    batch_size=batch_size,\n",
    "    color_mode=\"grayscale\",\n",
    "    class_mode=\"categorical\",\n",
    "    target_size=(img_height, img_width),\n",
    ")\n",
    "\n",
    "test_generator = test_datagen.flow_from_directory(\n",
    "    data_dir,\n",
    "    seed=42,\n",
    "    shuffle=False,\n",
    "    subset=\"validation\",\n",
    "    batch_size=batch_size,\n",
    "    color_mode=\"grayscale\",\n",
    "    class_mode=\"categorical\",\n",
    "    target_size=(img_height, img_width),\n",
    ")"
   ]
  },
  {
   "cell_type": "markdown",
   "metadata": {},
   "source": [
    "### EfficientNetB0 Model"
   ]
  },
  {
   "cell_type": "code",
   "execution_count": 6,
   "metadata": {},
   "outputs": [],
   "source": [
    "def efficientnet_b0_block(inputs, filters, kernel_size, strides=(1, 1), expansion=1):\n",
    "    channel_axis = 1 if tf.keras.backend.image_data_format() == 'channels_first' else -1\n",
    "    in_channels = tf.keras.backend.int_shape(inputs)[channel_axis]\n",
    "\n",
    "    x = Conv2D(expansion * in_channels, kernel_size=1, padding='same')(inputs)\n",
    "    x = BatchNormalization(axis=channel_axis)(x)\n",
    "    x = Activation('swish')(x)\n",
    "\n",
    "    x = DepthwiseConv2D(kernel_size, strides=strides, padding='same')(x)\n",
    "    x = BatchNormalization(axis=channel_axis)(x)\n",
    "    x = Activation('swish')(x)\n",
    "\n",
    "    x = Conv2D(filters, kernel_size=1, padding='same')(x)\n",
    "    x = BatchNormalization(axis=channel_axis)(x)\n",
    "\n",
    "    squeeze = GlobalAveragePooling2D()(x)\n",
    "    excitation = Dense(units=filters // 16, activation='swish')(squeeze)\n",
    "    excitation = Dense(units=filters, activation='sigmoid')(excitation)\n",
    "    excitation = Reshape((1, 1, filters))(excitation)\n",
    "    scaled_inputs = Multiply()([x, excitation])\n",
    "\n",
    "    if in_channels == filters:\n",
    "        x = Add()([inputs, scaled_inputs])\n",
    "    return x\n",
    "\n",
    "def build_efficientnet_b0(input_shape, num_classes):\n",
    "    inputs = tf.keras.Input(shape=input_shape)\n",
    "\n",
    "    x = Conv2D(32, kernel_size=3, strides=2, padding='same')(inputs)\n",
    "    x = BatchNormalization()(x)\n",
    "    x = Activation('swish')(x)\n",
    "\n",
    "    x = efficientnet_b0_block(x, 16, (3, 3), strides=(1, 1), expansion=1)\n",
    "    x = efficientnet_b0_block(x, 24, (3, 3), strides=(2, 2), expansion=6)\n",
    "    x = efficientnet_b0_block(x, 40, (5, 5), strides=(2, 2), expansion=6)\n",
    "    x = efficientnet_b0_block(x, 80, (3, 3), strides=(2, 2), expansion=6)\n",
    "    x = efficientnet_b0_block(x, 112, (5, 5), strides=(1, 1), expansion=6)\n",
    "    x = efficientnet_b0_block(x, 192, (5, 5), strides=(2, 2), expansion=6)\n",
    "    x = efficientnet_b0_block(x, 320, (3, 3), strides=(1, 1), expansion=6)\n",
    "\n",
    "    x = Conv2D(1280, kernel_size=1, strides=1, padding='same')(x)\n",
    "    x = BatchNormalization()(x)\n",
    "    x = Activation('swish')(x)\n",
    "    x = GlobalAveragePooling2D()(x)\n",
    "\n",
    "    outputs = Dense(num_classes, activation='softmax')(x)\n",
    "    model = tf.keras.Model(inputs, outputs)\n",
    "    return model"
   ]
  },
  {
   "cell_type": "markdown",
   "metadata": {},
   "source": [
    "### Create the model"
   ]
  },
  {
   "cell_type": "code",
   "execution_count": 7,
   "metadata": {},
   "outputs": [
    {
     "name": "stderr",
     "output_type": "stream",
     "text": [
      "2024-04-22 03:23:11.714495: W tensorflow/core/common_runtime/gpu/gpu_device.cc:1960] Cannot dlopen some GPU libraries. Please make sure the missing libraries mentioned above are installed properly if you would like to use GPU. Follow the guide at https://www.tensorflow.org/install/gpu for how to download and setup the required libraries for your platform.\n",
      "Skipping registering GPU devices...\n"
     ]
    }
   ],
   "source": [
    "model = build_efficientnet_b0(input_shape=(128, 128, 1), num_classes=124)"
   ]
  },
  {
   "cell_type": "markdown",
   "metadata": {},
   "source": [
    "### Define Top k Accuracy Function"
   ]
  },
  {
   "cell_type": "code",
   "execution_count": 8,
   "metadata": {},
   "outputs": [],
   "source": [
    "def top_5_accuracy(y_true, y_pred):\n",
    "    return top_k_categorical_accuracy(y_true, y_pred, k=5)"
   ]
  },
  {
   "cell_type": "markdown",
   "metadata": {},
   "source": [
    "### Compile the model"
   ]
  },
  {
   "cell_type": "code",
   "execution_count": 9,
   "metadata": {},
   "outputs": [],
   "source": [
    "model.compile(optimizer='adam', loss='categorical_crossentropy',\n",
    "              metrics=['acc', top_5_accuracy])"
   ]
  },
  {
   "cell_type": "markdown",
   "metadata": {},
   "source": [
    "### Define the Callbacks"
   ]
  },
  {
   "cell_type": "code",
   "execution_count": 10,
   "metadata": {},
   "outputs": [],
   "source": [
    "checkpoint = ModelCheckpoint(\n",
    "    \"best_model.h5\", monitor='val_acc', save_best_only=True, mode='max')\n",
    "early_stopping = EarlyStopping(\n",
    "    monitor='val_acc', patience=30, restore_best_weights=True)\n",
    "reduce_lr = ReduceLROnPlateau(\n",
    "    monitor='val_acc', factor=0.1, patience=5, min_lr=1e-7)"
   ]
  },
  {
   "cell_type": "markdown",
   "metadata": {},
   "source": [
    "### Train the model"
   ]
  },
  {
   "cell_type": "code",
   "execution_count": 11,
   "metadata": {},
   "outputs": [
    {
     "name": "stdout",
     "output_type": "stream",
     "text": [
      "Epoch 1/500\n",
      "363/363 [==============================] - ETA: 0s - loss: 4.4906 - acc: 0.0377 - top_5_accuracy: 0.1463"
     ]
    },
    {
     "name": "stderr",
     "output_type": "stream",
     "text": [
      "/usr/local/lib/python3.10/dist-packages/keras/src/engine/training.py:3000: UserWarning: You are saving your model as an HDF5 file via `model.save()`. This file format is considered legacy. We recommend using instead the native Keras format, e.g. `model.save('my_model.keras')`.\n",
      "  saving_api.save_model(\n"
     ]
    },
    {
     "name": "stdout",
     "output_type": "stream",
     "text": [
      "363/363 [==============================] - 78s 195ms/step - loss: 4.4906 - acc: 0.0377 - top_5_accuracy: 0.1463 - val_loss: 5.3490 - val_acc: 0.0081 - val_top_5_accuracy: 0.0405 - lr: 0.0010\n",
      "Epoch 2/500\n",
      "363/363 [==============================] - 69s 188ms/step - loss: 3.7425 - acc: 0.1118 - top_5_accuracy: 0.3289 - val_loss: 5.5367 - val_acc: 0.0456 - val_top_5_accuracy: 0.1809 - lr: 0.0010\n",
      "Epoch 3/500\n",
      "363/363 [==============================] - 72s 195ms/step - loss: 3.1844 - acc: 0.2010 - top_5_accuracy: 0.4837 - val_loss: 14.9888 - val_acc: 0.0476 - val_top_5_accuracy: 0.1317 - lr: 0.0010\n",
      "Epoch 4/500\n",
      "363/363 [==============================] - 69s 188ms/step - loss: 2.7705 - acc: 0.2776 - top_5_accuracy: 0.5933 - val_loss: 4.3287 - val_acc: 0.1900 - val_top_5_accuracy: 0.4113 - lr: 0.0010\n",
      "Epoch 5/500\n",
      "363/363 [==============================] - 71s 192ms/step - loss: 2.4255 - acc: 0.3400 - top_5_accuracy: 0.6766 - val_loss: 6.9412 - val_acc: 0.1028 - val_top_5_accuracy: 0.2923 - lr: 0.0010\n",
      "Epoch 6/500\n",
      "363/363 [==============================] - 70s 191ms/step - loss: 2.1485 - acc: 0.4040 - top_5_accuracy: 0.7442 - val_loss: 4.8284 - val_acc: 0.1839 - val_top_5_accuracy: 0.4230 - lr: 0.0010\n",
      "Epoch 7/500\n",
      "363/363 [==============================] - 76s 208ms/step - loss: 1.9300 - acc: 0.4551 - top_5_accuracy: 0.7784 - val_loss: 2.7125 - val_acc: 0.3698 - val_top_5_accuracy: 0.6743 - lr: 0.0010\n",
      "Epoch 8/500\n",
      "363/363 [==============================] - 71s 192ms/step - loss: 1.7455 - acc: 0.4975 - top_5_accuracy: 0.8192 - val_loss: 3.8046 - val_acc: 0.2655 - val_top_5_accuracy: 0.5486 - lr: 0.0010\n",
      "Epoch 9/500\n",
      "363/363 [==============================] - 68s 186ms/step - loss: 1.5955 - acc: 0.5357 - top_5_accuracy: 0.8516 - val_loss: 3.5053 - val_acc: 0.3055 - val_top_5_accuracy: 0.6120 - lr: 0.0010\n",
      "Epoch 10/500\n",
      "363/363 [==============================] - 72s 195ms/step - loss: 1.4458 - acc: 0.5760 - top_5_accuracy: 0.8762 - val_loss: 3.6041 - val_acc: 0.2882 - val_top_5_accuracy: 0.6059 - lr: 0.0010\n",
      "Epoch 11/500\n",
      "363/363 [==============================] - 76s 208ms/step - loss: 1.3134 - acc: 0.6059 - top_5_accuracy: 0.8945 - val_loss: 3.2790 - val_acc: 0.3602 - val_top_5_accuracy: 0.6510 - lr: 0.0010\n",
      "Epoch 12/500\n",
      "363/363 [==============================] - 69s 189ms/step - loss: 1.2326 - acc: 0.6323 - top_5_accuracy: 0.9047 - val_loss: 3.1445 - val_acc: 0.3896 - val_top_5_accuracy: 0.6854 - lr: 0.0010\n",
      "Epoch 13/500\n",
      "363/363 [==============================] - 75s 204ms/step - loss: 1.1332 - acc: 0.6562 - top_5_accuracy: 0.9186 - val_loss: 4.1757 - val_acc: 0.3009 - val_top_5_accuracy: 0.5963 - lr: 0.0010\n",
      "Epoch 14/500\n",
      "363/363 [==============================] - 70s 190ms/step - loss: 1.0397 - acc: 0.6858 - top_5_accuracy: 0.9297 - val_loss: 3.0337 - val_acc: 0.3865 - val_top_5_accuracy: 0.7016 - lr: 0.0010\n",
      "Epoch 15/500\n",
      "363/363 [==============================] - 71s 193ms/step - loss: 0.9990 - acc: 0.6937 - top_5_accuracy: 0.9335 - val_loss: 3.2127 - val_acc: 0.3759 - val_top_5_accuracy: 0.6707 - lr: 0.0010\n",
      "Epoch 16/500\n",
      "363/363 [==============================] - 69s 188ms/step - loss: 0.9125 - acc: 0.7244 - top_5_accuracy: 0.9421 - val_loss: 2.1998 - val_acc: 0.5106 - val_top_5_accuracy: 0.8070 - lr: 0.0010\n",
      "Epoch 17/500\n",
      "363/363 [==============================] - 69s 188ms/step - loss: 0.8409 - acc: 0.7414 - top_5_accuracy: 0.9524 - val_loss: 3.2525 - val_acc: 0.4048 - val_top_5_accuracy: 0.6869 - lr: 0.0010\n",
      "Epoch 18/500\n",
      "363/363 [==============================] - 68s 185ms/step - loss: 0.7784 - acc: 0.7571 - top_5_accuracy: 0.9604 - val_loss: 6.6185 - val_acc: 0.1773 - val_top_5_accuracy: 0.3784 - lr: 0.0010\n",
      "Epoch 19/500\n",
      "363/363 [==============================] - 71s 194ms/step - loss: 0.7829 - acc: 0.7604 - top_5_accuracy: 0.9594 - val_loss: 3.3967 - val_acc: 0.3668 - val_top_5_accuracy: 0.6424 - lr: 0.0010\n",
      "Epoch 20/500\n",
      "363/363 [==============================] - 74s 200ms/step - loss: 0.7181 - acc: 0.7804 - top_5_accuracy: 0.9672 - val_loss: 3.0506 - val_acc: 0.3789 - val_top_5_accuracy: 0.6626 - lr: 0.0010\n",
      "Epoch 21/500\n",
      "363/363 [==============================] - 71s 192ms/step - loss: 0.6661 - acc: 0.7911 - top_5_accuracy: 0.9694 - val_loss: 1.5413 - val_acc: 0.6059 - val_top_5_accuracy: 0.8936 - lr: 0.0010\n",
      "Epoch 22/500\n",
      "363/363 [==============================] - 72s 196ms/step - loss: 0.6342 - acc: 0.8051 - top_5_accuracy: 0.9729 - val_loss: 4.0629 - val_acc: 0.2680 - val_top_5_accuracy: 0.5866 - lr: 0.0010\n",
      "Epoch 23/500\n",
      "363/363 [==============================] - 71s 192ms/step - loss: 0.6213 - acc: 0.8077 - top_5_accuracy: 0.9713 - val_loss: 3.3537 - val_acc: 0.3754 - val_top_5_accuracy: 0.6895 - lr: 0.0010\n",
      "Epoch 24/500\n",
      "363/363 [==============================] - 69s 188ms/step - loss: 0.5860 - acc: 0.8139 - top_5_accuracy: 0.9753 - val_loss: 2.2840 - val_acc: 0.5258 - val_top_5_accuracy: 0.8186 - lr: 0.0010\n",
      "Epoch 25/500\n",
      "363/363 [==============================] - 69s 188ms/step - loss: 0.5711 - acc: 0.8224 - top_5_accuracy: 0.9765 - val_loss: 5.6786 - val_acc: 0.1641 - val_top_5_accuracy: 0.4772 - lr: 0.0010\n",
      "Epoch 26/500\n",
      "363/363 [==============================] - 71s 193ms/step - loss: 0.5421 - acc: 0.8296 - top_5_accuracy: 0.9790 - val_loss: 1.4255 - val_acc: 0.6565 - val_top_5_accuracy: 0.9139 - lr: 0.0010\n",
      "Epoch 27/500\n",
      "363/363 [==============================] - 77s 211ms/step - loss: 0.5057 - acc: 0.8423 - top_5_accuracy: 0.9816 - val_loss: 4.8700 - val_acc: 0.2356 - val_top_5_accuracy: 0.4939 - lr: 0.0010\n",
      "Epoch 28/500\n",
      "363/363 [==============================] - 73s 200ms/step - loss: 0.5058 - acc: 0.8392 - top_5_accuracy: 0.9822 - val_loss: 1.8757 - val_acc: 0.5628 - val_top_5_accuracy: 0.8435 - lr: 0.0010\n",
      "Epoch 29/500\n",
      "363/363 [==============================] - 72s 197ms/step - loss: 0.4556 - acc: 0.8585 - top_5_accuracy: 0.9848 - val_loss: 2.2350 - val_acc: 0.5284 - val_top_5_accuracy: 0.8333 - lr: 0.0010\n",
      "Epoch 30/500\n",
      "363/363 [==============================] - 73s 199ms/step - loss: 0.4804 - acc: 0.8468 - top_5_accuracy: 0.9843 - val_loss: 2.0866 - val_acc: 0.5694 - val_top_5_accuracy: 0.8399 - lr: 0.0010\n",
      "Epoch 31/500\n",
      "363/363 [==============================] - 75s 205ms/step - loss: 0.4653 - acc: 0.8549 - top_5_accuracy: 0.9840 - val_loss: 0.8193 - val_acc: 0.7801 - val_top_5_accuracy: 0.9564 - lr: 0.0010\n",
      "Epoch 32/500\n",
      "363/363 [==============================] - 72s 195ms/step - loss: 0.4116 - acc: 0.8718 - top_5_accuracy: 0.9869 - val_loss: 1.5819 - val_acc: 0.6342 - val_top_5_accuracy: 0.8931 - lr: 0.0010\n",
      "Epoch 33/500\n",
      "363/363 [==============================] - 73s 198ms/step - loss: 0.4393 - acc: 0.8636 - top_5_accuracy: 0.9858 - val_loss: 0.8199 - val_acc: 0.7715 - val_top_5_accuracy: 0.9549 - lr: 0.0010\n",
      "Epoch 34/500\n",
      "363/363 [==============================] - 74s 201ms/step - loss: 0.4000 - acc: 0.8732 - top_5_accuracy: 0.9898 - val_loss: 1.0499 - val_acc: 0.7178 - val_top_5_accuracy: 0.9341 - lr: 0.0010\n",
      "Epoch 35/500\n",
      "363/363 [==============================] - 73s 198ms/step - loss: 0.3898 - acc: 0.8747 - top_5_accuracy: 0.9896 - val_loss: 1.0396 - val_acc: 0.7239 - val_top_5_accuracy: 0.9433 - lr: 0.0010\n",
      "Epoch 36/500\n",
      "363/363 [==============================] - 73s 200ms/step - loss: 0.3480 - acc: 0.8887 - top_5_accuracy: 0.9901 - val_loss: 1.6692 - val_acc: 0.6342 - val_top_5_accuracy: 0.9012 - lr: 0.0010\n",
      "Epoch 37/500\n",
      "363/363 [==============================] - 73s 197ms/step - loss: 0.2205 - acc: 0.9317 - top_5_accuracy: 0.9949 - val_loss: 0.6105 - val_acc: 0.8495 - val_top_5_accuracy: 0.9742 - lr: 1.0000e-04\n",
      "Epoch 38/500\n",
      "363/363 [==============================] - 71s 194ms/step - loss: 0.1655 - acc: 0.9486 - top_5_accuracy: 0.9969 - val_loss: 0.6024 - val_acc: 0.8455 - val_top_5_accuracy: 0.9716 - lr: 1.0000e-04\n",
      "Epoch 39/500\n",
      "363/363 [==============================] - 73s 198ms/step - loss: 0.1531 - acc: 0.9539 - top_5_accuracy: 0.9976 - val_loss: 0.6185 - val_acc: 0.8501 - val_top_5_accuracy: 0.9696 - lr: 1.0000e-04\n",
      "Epoch 40/500\n",
      "363/363 [==============================] - 78s 214ms/step - loss: 0.1374 - acc: 0.9595 - top_5_accuracy: 0.9976 - val_loss: 0.5814 - val_acc: 0.8501 - val_top_5_accuracy: 0.9721 - lr: 1.0000e-04\n",
      "Epoch 41/500\n",
      "363/363 [==============================] - 77s 210ms/step - loss: 0.1305 - acc: 0.9616 - top_5_accuracy: 0.9980 - val_loss: 0.5312 - val_acc: 0.8678 - val_top_5_accuracy: 0.9747 - lr: 1.0000e-04\n",
      "Epoch 42/500\n",
      "363/363 [==============================] - 74s 200ms/step - loss: 0.1260 - acc: 0.9643 - top_5_accuracy: 0.9980 - val_loss: 0.5238 - val_acc: 0.8718 - val_top_5_accuracy: 0.9752 - lr: 1.0000e-04\n",
      "Epoch 43/500\n",
      "363/363 [==============================] - 78s 212ms/step - loss: 0.1233 - acc: 0.9622 - top_5_accuracy: 0.9976 - val_loss: 0.5133 - val_acc: 0.8713 - val_top_5_accuracy: 0.9772 - lr: 1.0000e-04\n",
      "Epoch 44/500\n",
      "363/363 [==============================] - 77s 210ms/step - loss: 0.1193 - acc: 0.9647 - top_5_accuracy: 0.9990 - val_loss: 0.5320 - val_acc: 0.8739 - val_top_5_accuracy: 0.9752 - lr: 1.0000e-04\n",
      "Epoch 45/500\n",
      "363/363 [==============================] - 72s 195ms/step - loss: 0.1175 - acc: 0.9665 - top_5_accuracy: 0.9982 - val_loss: 0.5338 - val_acc: 0.8673 - val_top_5_accuracy: 0.9752 - lr: 1.0000e-04\n",
      "Epoch 46/500\n",
      "363/363 [==============================] - 72s 194ms/step - loss: 0.1140 - acc: 0.9667 - top_5_accuracy: 0.9985 - val_loss: 0.5163 - val_acc: 0.8652 - val_top_5_accuracy: 0.9757 - lr: 1.0000e-04\n",
      "Epoch 47/500\n",
      "363/363 [==============================] - 73s 200ms/step - loss: 0.1127 - acc: 0.9662 - top_5_accuracy: 0.9984 - val_loss: 0.5288 - val_acc: 0.8698 - val_top_5_accuracy: 0.9772 - lr: 1.0000e-04\n",
      "Epoch 48/500\n",
      "363/363 [==============================] - 75s 204ms/step - loss: 0.1146 - acc: 0.9644 - top_5_accuracy: 0.9983 - val_loss: 0.4821 - val_acc: 0.8794 - val_top_5_accuracy: 0.9807 - lr: 1.0000e-04\n",
      "Epoch 49/500\n",
      "363/363 [==============================] - 71s 194ms/step - loss: 0.1006 - acc: 0.9711 - top_5_accuracy: 0.9991 - val_loss: 0.5027 - val_acc: 0.8723 - val_top_5_accuracy: 0.9762 - lr: 1.0000e-04\n",
      "Epoch 50/500\n",
      "363/363 [==============================] - 78s 212ms/step - loss: 0.0955 - acc: 0.9723 - top_5_accuracy: 0.9991 - val_loss: 0.4863 - val_acc: 0.8784 - val_top_5_accuracy: 0.9782 - lr: 1.0000e-04\n",
      "Epoch 51/500\n",
      "363/363 [==============================] - 72s 196ms/step - loss: 0.1075 - acc: 0.9675 - top_5_accuracy: 0.9986 - val_loss: 0.5324 - val_acc: 0.8632 - val_top_5_accuracy: 0.9772 - lr: 1.0000e-04\n",
      "Epoch 52/500\n",
      "363/363 [==============================] - 74s 201ms/step - loss: 0.0998 - acc: 0.9716 - top_5_accuracy: 0.9984 - val_loss: 0.5574 - val_acc: 0.8612 - val_top_5_accuracy: 0.9737 - lr: 1.0000e-04\n",
      "Epoch 53/500\n",
      "363/363 [==============================] - 80s 218ms/step - loss: 0.0959 - acc: 0.9725 - top_5_accuracy: 0.9991 - val_loss: 0.4628 - val_acc: 0.8840 - val_top_5_accuracy: 0.9807 - lr: 1.0000e-04\n",
      "Epoch 54/500\n",
      "363/363 [==============================] - 76s 208ms/step - loss: 0.1072 - acc: 0.9655 - top_5_accuracy: 0.9988 - val_loss: 0.5143 - val_acc: 0.8658 - val_top_5_accuracy: 0.9782 - lr: 1.0000e-04\n",
      "Epoch 55/500\n",
      "363/363 [==============================] - 73s 198ms/step - loss: 0.0989 - acc: 0.9702 - top_5_accuracy: 0.9993 - val_loss: 0.4744 - val_acc: 0.8891 - val_top_5_accuracy: 0.9777 - lr: 1.0000e-04\n",
      "Epoch 56/500\n",
      "363/363 [==============================] - 73s 199ms/step - loss: 0.0916 - acc: 0.9727 - top_5_accuracy: 0.9991 - val_loss: 0.4879 - val_acc: 0.8708 - val_top_5_accuracy: 0.9777 - lr: 1.0000e-04\n",
      "Epoch 57/500\n",
      "363/363 [==============================] - 74s 202ms/step - loss: 0.0945 - acc: 0.9719 - top_5_accuracy: 0.9993 - val_loss: 0.5229 - val_acc: 0.8728 - val_top_5_accuracy: 0.9757 - lr: 1.0000e-04\n",
      "Epoch 58/500\n",
      "363/363 [==============================] - 75s 202ms/step - loss: 0.0885 - acc: 0.9749 - top_5_accuracy: 0.9984 - val_loss: 0.4495 - val_acc: 0.8921 - val_top_5_accuracy: 0.9792 - lr: 1.0000e-04\n",
      "Epoch 59/500\n",
      "363/363 [==============================] - 78s 214ms/step - loss: 0.0853 - acc: 0.9757 - top_5_accuracy: 0.9987 - val_loss: 0.4664 - val_acc: 0.8810 - val_top_5_accuracy: 0.9807 - lr: 1.0000e-04\n",
      "Epoch 60/500\n",
      "363/363 [==============================] - 71s 192ms/step - loss: 0.0924 - acc: 0.9714 - top_5_accuracy: 0.9991 - val_loss: 0.4581 - val_acc: 0.8850 - val_top_5_accuracy: 0.9782 - lr: 1.0000e-04\n",
      "Epoch 61/500\n",
      "363/363 [==============================] - 73s 200ms/step - loss: 0.0934 - acc: 0.9712 - top_5_accuracy: 0.9985 - val_loss: 0.5059 - val_acc: 0.8723 - val_top_5_accuracy: 0.9782 - lr: 1.0000e-04\n",
      "Epoch 62/500\n",
      "363/363 [==============================] - 78s 211ms/step - loss: 0.0906 - acc: 0.9713 - top_5_accuracy: 0.9992 - val_loss: 0.5534 - val_acc: 0.8678 - val_top_5_accuracy: 0.9752 - lr: 1.0000e-04\n",
      "Epoch 63/500\n",
      "363/363 [==============================] - 74s 202ms/step - loss: 0.0810 - acc: 0.9770 - top_5_accuracy: 0.9993 - val_loss: 0.4735 - val_acc: 0.8850 - val_top_5_accuracy: 0.9777 - lr: 1.0000e-04\n",
      "Epoch 64/500\n",
      "363/363 [==============================] - 77s 210ms/step - loss: 0.0779 - acc: 0.9777 - top_5_accuracy: 0.9991 - val_loss: 0.4717 - val_acc: 0.8855 - val_top_5_accuracy: 0.9797 - lr: 1.0000e-05\n",
      "Epoch 65/500\n",
      "363/363 [==============================] - 73s 199ms/step - loss: 0.0794 - acc: 0.9772 - top_5_accuracy: 0.9993 - val_loss: 0.4705 - val_acc: 0.8865 - val_top_5_accuracy: 0.9802 - lr: 1.0000e-05\n",
      "Epoch 66/500\n",
      "363/363 [==============================] - 73s 199ms/step - loss: 0.0762 - acc: 0.9770 - top_5_accuracy: 0.9995 - val_loss: 0.4883 - val_acc: 0.8784 - val_top_5_accuracy: 0.9787 - lr: 1.0000e-05\n",
      "Epoch 67/500\n",
      "363/363 [==============================] - 72s 196ms/step - loss: 0.0775 - acc: 0.9770 - top_5_accuracy: 0.9992 - val_loss: 0.4773 - val_acc: 0.8845 - val_top_5_accuracy: 0.9772 - lr: 1.0000e-05\n",
      "Epoch 68/500\n",
      "363/363 [==============================] - 72s 196ms/step - loss: 0.0737 - acc: 0.9778 - top_5_accuracy: 0.9994 - val_loss: 0.4660 - val_acc: 0.8865 - val_top_5_accuracy: 0.9782 - lr: 1.0000e-05\n",
      "Epoch 69/500\n",
      "363/363 [==============================] - 73s 198ms/step - loss: 0.0804 - acc: 0.9763 - top_5_accuracy: 0.9995 - val_loss: 0.4743 - val_acc: 0.8845 - val_top_5_accuracy: 0.9787 - lr: 1.0000e-06\n",
      "Epoch 70/500\n",
      "363/363 [==============================] - 78s 212ms/step - loss: 0.0727 - acc: 0.9797 - top_5_accuracy: 0.9996 - val_loss: 0.4710 - val_acc: 0.8865 - val_top_5_accuracy: 0.9787 - lr: 1.0000e-06\n",
      "Epoch 71/500\n",
      "363/363 [==============================] - 73s 198ms/step - loss: 0.0728 - acc: 0.9803 - top_5_accuracy: 0.9993 - val_loss: 0.4731 - val_acc: 0.8860 - val_top_5_accuracy: 0.9782 - lr: 1.0000e-06\n",
      "Epoch 72/500\n",
      "363/363 [==============================] - 71s 192ms/step - loss: 0.0738 - acc: 0.9779 - top_5_accuracy: 0.9997 - val_loss: 0.4704 - val_acc: 0.8860 - val_top_5_accuracy: 0.9787 - lr: 1.0000e-06\n",
      "Epoch 73/500\n",
      "363/363 [==============================] - 75s 203ms/step - loss: 0.0779 - acc: 0.9754 - top_5_accuracy: 0.9991 - val_loss: 0.4716 - val_acc: 0.8865 - val_top_5_accuracy: 0.9787 - lr: 1.0000e-06\n",
      "Epoch 74/500\n",
      "363/363 [==============================] - 72s 195ms/step - loss: 0.0703 - acc: 0.9797 - top_5_accuracy: 0.9991 - val_loss: 0.4704 - val_acc: 0.8850 - val_top_5_accuracy: 0.9782 - lr: 1.0000e-07\n",
      "Epoch 75/500\n",
      "363/363 [==============================] - 73s 199ms/step - loss: 0.0730 - acc: 0.9783 - top_5_accuracy: 0.9997 - val_loss: 0.4730 - val_acc: 0.8865 - val_top_5_accuracy: 0.9802 - lr: 1.0000e-07\n",
      "Epoch 76/500\n",
      "363/363 [==============================] - 73s 198ms/step - loss: 0.0717 - acc: 0.9799 - top_5_accuracy: 0.9991 - val_loss: 0.4681 - val_acc: 0.8850 - val_top_5_accuracy: 0.9782 - lr: 1.0000e-07\n",
      "Epoch 77/500\n",
      "363/363 [==============================] - 69s 188ms/step - loss: 0.0736 - acc: 0.9786 - top_5_accuracy: 0.9993 - val_loss: 0.4761 - val_acc: 0.8845 - val_top_5_accuracy: 0.9787 - lr: 1.0000e-07\n",
      "Epoch 78/500\n",
      "363/363 [==============================] - 78s 213ms/step - loss: 0.0748 - acc: 0.9785 - top_5_accuracy: 0.9997 - val_loss: 0.4717 - val_acc: 0.8875 - val_top_5_accuracy: 0.9787 - lr: 1.0000e-07\n",
      "Epoch 79/500\n",
      "363/363 [==============================] - 73s 198ms/step - loss: 0.0683 - acc: 0.9803 - top_5_accuracy: 0.9994 - val_loss: 0.4696 - val_acc: 0.8860 - val_top_5_accuracy: 0.9792 - lr: 1.0000e-07\n",
      "Epoch 80/500\n",
      "363/363 [==============================] - 73s 198ms/step - loss: 0.0744 - acc: 0.9788 - top_5_accuracy: 0.9991 - val_loss: 0.4672 - val_acc: 0.8860 - val_top_5_accuracy: 0.9787 - lr: 1.0000e-07\n",
      "Epoch 81/500\n",
      "363/363 [==============================] - 69s 186ms/step - loss: 0.0706 - acc: 0.9801 - top_5_accuracy: 0.9997 - val_loss: 0.4673 - val_acc: 0.8880 - val_top_5_accuracy: 0.9797 - lr: 1.0000e-07\n",
      "Epoch 82/500\n",
      "363/363 [==============================] - 69s 189ms/step - loss: 0.0715 - acc: 0.9789 - top_5_accuracy: 0.9995 - val_loss: 0.4712 - val_acc: 0.8860 - val_top_5_accuracy: 0.9782 - lr: 1.0000e-07\n",
      "Epoch 83/500\n",
      "363/363 [==============================] - 74s 201ms/step - loss: 0.0694 - acc: 0.9801 - top_5_accuracy: 0.9995 - val_loss: 0.4742 - val_acc: 0.8840 - val_top_5_accuracy: 0.9782 - lr: 1.0000e-07\n",
      "Epoch 84/500\n",
      "363/363 [==============================] - 69s 186ms/step - loss: 0.0778 - acc: 0.9766 - top_5_accuracy: 0.9990 - val_loss: 0.4710 - val_acc: 0.8865 - val_top_5_accuracy: 0.9782 - lr: 1.0000e-07\n",
      "Epoch 85/500\n",
      "363/363 [==============================] - 69s 188ms/step - loss: 0.0764 - acc: 0.9782 - top_5_accuracy: 0.9994 - val_loss: 0.4719 - val_acc: 0.8840 - val_top_5_accuracy: 0.9782 - lr: 1.0000e-07\n",
      "Epoch 86/500\n",
      "363/363 [==============================] - 69s 187ms/step - loss: 0.0757 - acc: 0.9801 - top_5_accuracy: 0.9988 - val_loss: 0.4682 - val_acc: 0.8870 - val_top_5_accuracy: 0.9782 - lr: 1.0000e-07\n",
      "Epoch 87/500\n",
      "363/363 [==============================] - 69s 188ms/step - loss: 0.0751 - acc: 0.9795 - top_5_accuracy: 0.9992 - val_loss: 0.4697 - val_acc: 0.8865 - val_top_5_accuracy: 0.9787 - lr: 1.0000e-07\n",
      "Epoch 88/500\n",
      "363/363 [==============================] - 77s 210ms/step - loss: 0.0787 - acc: 0.9764 - top_5_accuracy: 0.9993 - val_loss: 0.4725 - val_acc: 0.8860 - val_top_5_accuracy: 0.9782 - lr: 1.0000e-07\n"
     ]
    }
   ],
   "source": [
    "history = model.fit(\n",
    "    train_generator,\n",
    "    validation_data=test_generator,\n",
    "    epochs=500,\n",
    "    callbacks=[checkpoint, early_stopping, reduce_lr],\n",
    "    use_multiprocessing=True)"
   ]
  },
  {
   "cell_type": "markdown",
   "metadata": {},
   "source": [
    "### Evaluate model on training set"
   ]
  },
  {
   "cell_type": "code",
   "execution_count": 12,
   "metadata": {},
   "outputs": [
    {
     "name": "stdout",
     "output_type": "stream",
     "text": [
      "363/363 [==============================] - 37s 101ms/step - loss: 0.0547 - acc: 0.9840 - top_5_accuracy: 0.9994\n",
      "Training Loss: 0.05\n",
      "Training Accuracy: 0.98\n",
      "Training Top 5 Accuracy: 1.0\n"
     ]
    }
   ],
   "source": [
    "train_loss, train_accuracy, top5train = model.evaluate(train_generator)\n",
    "print(f\"Training Loss: {round(train_loss, 2)}\")\n",
    "print(f\"Training Accuracy: {round(train_accuracy, 2)}\")\n",
    "print(f\"Training Top 5 Accuracy: {round(top5train, 2)}\")"
   ]
  },
  {
   "cell_type": "markdown",
   "metadata": {},
   "source": [
    "### Evaluate model on testing set"
   ]
  },
  {
   "cell_type": "code",
   "execution_count": 13,
   "metadata": {},
   "outputs": [
    {
     "name": "stdout",
     "output_type": "stream",
     "text": [
      "62/62 [==============================] - 3s 48ms/step - loss: 0.4495 - acc: 0.8921 - top_5_accuracy: 0.9792\n",
      "Testing Loss: 0.45\n",
      "Testing Accuracy: 0.89\n",
      "Testing Top 5 Accuracy: 0.98\n"
     ]
    }
   ],
   "source": [
    "test_loss, test_accuracy, top5test = model.evaluate(test_generator)\n",
    "print(f\"Testing Loss: {round(test_loss, 2)}\")\n",
    "print(f\"Testing Accuracy: {round(test_accuracy, 2)}\")\n",
    "print(f\"Testing Top 5 Accuracy: {round(top5test, 2)}\")"
   ]
  },
  {
   "cell_type": "markdown",
   "metadata": {},
   "source": [
    "### Save the model"
   ]
  },
  {
   "cell_type": "code",
   "execution_count": 14,
   "metadata": {},
   "outputs": [],
   "source": [
    "model.save('../10-Trained-Models/EfficientNetB0.h5')"
   ]
  },
  {
   "cell_type": "markdown",
   "metadata": {},
   "source": [
    "### Model Summary"
   ]
  },
  {
   "cell_type": "code",
   "execution_count": 15,
   "metadata": {},
   "outputs": [
    {
     "name": "stdout",
     "output_type": "stream",
     "text": [
      "Model: \"model\"\n",
      "_________________________________________________________________\n",
      " Layer (type)                Output Shape              Param #   \n",
      "=================================================================\n",
      " input_1 (InputLayer)        [(None, 128, 128, 1)]     0         \n",
      "                                                                 \n",
      " conv2d (Conv2D)             (None, 64, 64, 32)        320       \n",
      "                                                                 \n",
      " batch_normalization (Batch  (None, 64, 64, 32)        128       \n",
      " Normalization)                                                  \n",
      "                                                                 \n",
      " activation (Activation)     (None, 64, 64, 32)        0         \n",
      "                                                                 \n",
      " conv2d_1 (Conv2D)           (None, 64, 64, 32)        1056      \n",
      "                                                                 \n",
      " batch_normalization_1 (Bat  (None, 64, 64, 32)        128       \n",
      " chNormalization)                                                \n",
      "                                                                 \n",
      " activation_1 (Activation)   (None, 64, 64, 32)        0         \n",
      "                                                                 \n",
      " depthwise_conv2d (Depthwis  (None, 64, 64, 32)        320       \n",
      " eConv2D)                                                        \n",
      "                                                                 \n",
      " batch_normalization_2 (Bat  (None, 64, 64, 32)        128       \n",
      " chNormalization)                                                \n",
      "                                                                 \n",
      " activation_2 (Activation)   (None, 64, 64, 32)        0         \n",
      "                                                                 \n",
      " conv2d_2 (Conv2D)           (None, 64, 64, 16)        528       \n",
      "                                                                 \n",
      " batch_normalization_3 (Bat  (None, 64, 64, 16)        64        \n",
      " chNormalization)                                                \n",
      "                                                                 \n",
      " conv2d_3 (Conv2D)           (None, 64, 64, 96)        1632      \n",
      "                                                                 \n",
      " batch_normalization_4 (Bat  (None, 64, 64, 96)        384       \n",
      " chNormalization)                                                \n",
      "                                                                 \n",
      " activation_3 (Activation)   (None, 64, 64, 96)        0         \n",
      "                                                                 \n",
      " depthwise_conv2d_1 (Depthw  (None, 32, 32, 96)        960       \n",
      " iseConv2D)                                                      \n",
      "                                                                 \n",
      " batch_normalization_5 (Bat  (None, 32, 32, 96)        384       \n",
      " chNormalization)                                                \n",
      "                                                                 \n",
      " activation_4 (Activation)   (None, 32, 32, 96)        0         \n",
      "                                                                 \n",
      " conv2d_4 (Conv2D)           (None, 32, 32, 24)        2328      \n",
      "                                                                 \n",
      " batch_normalization_6 (Bat  (None, 32, 32, 24)        96        \n",
      " chNormalization)                                                \n",
      "                                                                 \n",
      " conv2d_5 (Conv2D)           (None, 32, 32, 144)       3600      \n",
      "                                                                 \n",
      " batch_normalization_7 (Bat  (None, 32, 32, 144)       576       \n",
      " chNormalization)                                                \n",
      "                                                                 \n",
      " activation_5 (Activation)   (None, 32, 32, 144)       0         \n",
      "                                                                 \n",
      " depthwise_conv2d_2 (Depthw  (None, 16, 16, 144)       3744      \n",
      " iseConv2D)                                                      \n",
      "                                                                 \n",
      " batch_normalization_8 (Bat  (None, 16, 16, 144)       576       \n",
      " chNormalization)                                                \n",
      "                                                                 \n",
      " activation_6 (Activation)   (None, 16, 16, 144)       0         \n",
      "                                                                 \n",
      " conv2d_6 (Conv2D)           (None, 16, 16, 40)        5800      \n",
      "                                                                 \n",
      " batch_normalization_9 (Bat  (None, 16, 16, 40)        160       \n",
      " chNormalization)                                                \n",
      "                                                                 \n",
      " conv2d_7 (Conv2D)           (None, 16, 16, 240)       9840      \n",
      "                                                                 \n",
      " batch_normalization_10 (Ba  (None, 16, 16, 240)       960       \n",
      " tchNormalization)                                               \n",
      "                                                                 \n",
      " activation_7 (Activation)   (None, 16, 16, 240)       0         \n",
      "                                                                 \n",
      " depthwise_conv2d_3 (Depthw  (None, 8, 8, 240)         2400      \n",
      " iseConv2D)                                                      \n",
      "                                                                 \n",
      " batch_normalization_11 (Ba  (None, 8, 8, 240)         960       \n",
      " tchNormalization)                                               \n",
      "                                                                 \n",
      " activation_8 (Activation)   (None, 8, 8, 240)         0         \n",
      "                                                                 \n",
      " conv2d_8 (Conv2D)           (None, 8, 8, 80)          19280     \n",
      "                                                                 \n",
      " batch_normalization_12 (Ba  (None, 8, 8, 80)          320       \n",
      " tchNormalization)                                               \n",
      "                                                                 \n",
      " conv2d_9 (Conv2D)           (None, 8, 8, 480)         38880     \n",
      "                                                                 \n",
      " batch_normalization_13 (Ba  (None, 8, 8, 480)         1920      \n",
      " tchNormalization)                                               \n",
      "                                                                 \n",
      " activation_9 (Activation)   (None, 8, 8, 480)         0         \n",
      "                                                                 \n",
      " depthwise_conv2d_4 (Depthw  (None, 8, 8, 480)         12480     \n",
      " iseConv2D)                                                      \n",
      "                                                                 \n",
      " batch_normalization_14 (Ba  (None, 8, 8, 480)         1920      \n",
      " tchNormalization)                                               \n",
      "                                                                 \n",
      " activation_10 (Activation)  (None, 8, 8, 480)         0         \n",
      "                                                                 \n",
      " conv2d_10 (Conv2D)          (None, 8, 8, 112)         53872     \n",
      "                                                                 \n",
      " batch_normalization_15 (Ba  (None, 8, 8, 112)         448       \n",
      " tchNormalization)                                               \n",
      "                                                                 \n",
      " conv2d_11 (Conv2D)          (None, 8, 8, 672)         75936     \n",
      "                                                                 \n",
      " batch_normalization_16 (Ba  (None, 8, 8, 672)         2688      \n",
      " tchNormalization)                                               \n",
      "                                                                 \n",
      " activation_11 (Activation)  (None, 8, 8, 672)         0         \n",
      "                                                                 \n",
      " depthwise_conv2d_5 (Depthw  (None, 4, 4, 672)         17472     \n",
      " iseConv2D)                                                      \n",
      "                                                                 \n",
      " batch_normalization_17 (Ba  (None, 4, 4, 672)         2688      \n",
      " tchNormalization)                                               \n",
      "                                                                 \n",
      " activation_12 (Activation)  (None, 4, 4, 672)         0         \n",
      "                                                                 \n",
      " conv2d_12 (Conv2D)          (None, 4, 4, 192)         129216    \n",
      "                                                                 \n",
      " batch_normalization_18 (Ba  (None, 4, 4, 192)         768       \n",
      " tchNormalization)                                               \n",
      "                                                                 \n",
      " conv2d_13 (Conv2D)          (None, 4, 4, 1152)        222336    \n",
      "                                                                 \n",
      " batch_normalization_19 (Ba  (None, 4, 4, 1152)        4608      \n",
      " tchNormalization)                                               \n",
      "                                                                 \n",
      " activation_13 (Activation)  (None, 4, 4, 1152)        0         \n",
      "                                                                 \n",
      " depthwise_conv2d_6 (Depthw  (None, 4, 4, 1152)        11520     \n",
      " iseConv2D)                                                      \n",
      "                                                                 \n",
      " batch_normalization_20 (Ba  (None, 4, 4, 1152)        4608      \n",
      " tchNormalization)                                               \n",
      "                                                                 \n",
      " activation_14 (Activation)  (None, 4, 4, 1152)        0         \n",
      "                                                                 \n",
      " conv2d_14 (Conv2D)          (None, 4, 4, 320)         368960    \n",
      "                                                                 \n",
      " batch_normalization_21 (Ba  (None, 4, 4, 320)         1280      \n",
      " tchNormalization)                                               \n",
      "                                                                 \n",
      " conv2d_15 (Conv2D)          (None, 4, 4, 1280)        410880    \n",
      "                                                                 \n",
      " batch_normalization_22 (Ba  (None, 4, 4, 1280)        5120      \n",
      " tchNormalization)                                               \n",
      "                                                                 \n",
      " activation_15 (Activation)  (None, 4, 4, 1280)        0         \n",
      "                                                                 \n",
      " global_average_pooling2d_7  (None, 1280)              0         \n",
      "  (GlobalAveragePooling2D)                                       \n",
      "                                                                 \n",
      " dense_14 (Dense)            (None, 124)               158844    \n",
      "                                                                 \n",
      "=================================================================\n",
      "Total params: 1583116 (6.04 MB)\n",
      "Trainable params: 1567660 (5.98 MB)\n",
      "Non-trainable params: 15456 (60.38 KB)\n",
      "_________________________________________________________________\n"
     ]
    }
   ],
   "source": [
    "model.summary()"
   ]
  },
  {
   "cell_type": "markdown",
   "metadata": {},
   "source": [
    "### Plot Training & Validation Accuracy"
   ]
  },
  {
   "cell_type": "code",
   "execution_count": 16,
   "metadata": {},
   "outputs": [
    {
     "data": {
      "image/png": "[encoded data removed]",
      "text/plain": [
       "<Figure size 640x480 with 1 Axes>"
      ]
     },
     "metadata": {},
     "output_type": "display_data"
    }
   ],
   "source": [
    "plt.plot(history.history['acc'], color='blue', label='Training Accuracy')\n",
    "plt.plot(history.history['val_acc'],\n",
    "         color='red', label='Validation Accuracy')\n",
    "plt.title('Model Accuracy')\n",
    "plt.xlabel('Epoch')\n",
    "plt.ylabel('Accuracy')\n",
    "plt.legend()\n",
    "plt.show()"
   ]
  },
  {
   "cell_type": "markdown",
   "metadata": {},
   "source": [
    "### Plot Training and Validation Loss"
   ]
  },
  {
   "cell_type": "code",
   "execution_count": 17,
   "metadata": {},
   "outputs": [
    {
     "data": {
      "image/png": "[encoded data removed]",
      "text/plain": [
       "<Figure size 640x480 with 1 Axes>"
      ]
     },
     "metadata": {},
     "output_type": "display_data"
    }
   ],
   "source": [
    "import matplotlib.pyplot as plt\n",
    "plt.plot(history.history['loss'], color='blue', label='Training Loss')\n",
    "plt.plot(history.history['val_loss'],\n",
    "         color='red', label='Validation Loss')\n",
    "plt.title('Model Loss')\n",
    "plt.xlabel('Epoch')\n",
    "plt.ylabel('Loss')\n",
    "plt.legend()\n",
    "plt.show()"
   ]
  },
  {
   "cell_type": "markdown",
   "metadata": {},
   "source": [
    "### Plot Training and Testing Top 5 Accuracy"
   ]
  },
  {
   "cell_type": "code",
   "execution_count": 18,
   "metadata": {},
   "outputs": [
    {
     "data": {
      "image/png": "[encoded data removed]",
      "text/plain": [
       "<Figure size 640x480 with 1 Axes>"
      ]
     },
     "metadata": {},
     "output_type": "display_data"
    }
   ],
   "source": [
    "plt.plot(history.history['top_5_accuracy'],\n",
    "         color='blue', label='Training Accuracy')\n",
    "plt.plot(history.history['val_top_5_accuracy'],\n",
    "         color='red', label='Validation Accuracy')\n",
    "plt.title('Model Top 5 Accuracy')\n",
    "plt.xlabel('Epoch')\n",
    "plt.ylabel('Accuracy')\n",
    "plt.legend()\n",
    "plt.show()"
   ]
  }
 ],
 "metadata": {
  "kernelspec": {
   "display_name": "Python 3",
   "language": "python",
   "name": "python3"
  },
  "language_info": {
   "codemirror_mode": {
    "name": "ipython",
    "version": 3
   },
   "file_extension": ".py",
   "mimetype": "text/x-python",
   "name": "python",
   "nbconvert_exporter": "python",
   "pygments_lexer": "ipython3",
   "version": "3.10.12"
  }
 },
 "nbformat": 4,
 "nbformat_minor": 2
}
