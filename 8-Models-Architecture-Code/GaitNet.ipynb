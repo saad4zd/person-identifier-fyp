{
 "cells": [
  {
   "cell_type": "markdown",
   "metadata": {},
   "source": [
    "### Importing Libraries"
   ]
  },
  {
   "cell_type": "code",
   "execution_count": 146,
   "metadata": {
    "metadata": {}
   },
   "outputs": [],
   "source": [
    "import os\n",
    "import tensorflow as tf\n",
    "import matplotlib.pyplot as plt\n",
    "from tensorflow.keras import layers, models\n",
    "from tensorflow.keras.optimizers import RMSprop\n",
    "from tensorflow.keras.metrics import top_k_categorical_accuracy\n",
    "from tensorflow.keras.preprocessing.image import ImageDataGenerator\n",
    "from tensorflow.keras.callbacks import ModelCheckpoint, EarlyStopping, ReduceLROnPlateau"
   ]
  },
  {
   "cell_type": "markdown",
   "metadata": {},
   "source": [
    "### Constants"
   ]
  },
  {
   "cell_type": "code",
   "execution_count": 147,
   "metadata": {
    "metadata": {}
   },
   "outputs": [],
   "source": [
    "batch_size = 32\n",
    "num_classes = 124\n",
    "tf.random.set_seed(42)\n",
    "img_height, img_width = 128, 128\n",
    "data_dir = os.path.join(os.getcwd(), \"../5-Gait-Energy-Images\")"
   ]
  },
  {
   "cell_type": "markdown",
   "metadata": {},
   "source": [
    "### Training Data Augmentation"
   ]
  },
  {
   "cell_type": "code",
   "execution_count": 148,
   "metadata": {
    "metadata": {}
   },
   "outputs": [],
   "source": [
    "train_datagen = ImageDataGenerator(\n",
    "    rescale=1.0 / 255,\n",
    "    validation_split=0.15\n",
    ")"
   ]
  },
  {
   "cell_type": "markdown",
   "metadata": {},
   "source": [
    "### Testing Data Augmentation"
   ]
  },
  {
   "cell_type": "code",
   "execution_count": 149,
   "metadata": {
    "metadata": {}
   },
   "outputs": [],
   "source": [
    "test_datagen = ImageDataGenerator(rescale=1.0 / 255, validation_split=0.15)"
   ]
  },
  {
   "cell_type": "markdown",
   "metadata": {},
   "source": [
    "### Load and split data into training and testing sets"
   ]
  },
  {
   "cell_type": "code",
   "execution_count": 150,
   "metadata": {
    "metadata": {}
   },
   "outputs": [
    {
     "name": "stdout",
     "output_type": "stream",
     "text": [
      "Found 11587 images belonging to 124 classes.\n",
      "Found 1974 images belonging to 124 classes.\n"
     ]
    }
   ],
   "source": [
    "train_generator = train_datagen.flow_from_directory(\n",
    "    data_dir,\n",
    "    seed=42,\n",
    "    shuffle=True,\n",
    "    subset=\"training\",\n",
    "    batch_size=batch_size,\n",
    "    color_mode=\"grayscale\",\n",
    "    class_mode=\"categorical\",\n",
    "    target_size=(img_height, img_width),\n",
    ")\n",
    "\n",
    "test_generator = test_datagen.flow_from_directory(\n",
    "    data_dir,\n",
    "    seed=42,\n",
    "    shuffle=False,\n",
    "    subset=\"validation\",\n",
    "    batch_size=batch_size,\n",
    "    color_mode=\"grayscale\",\n",
    "    class_mode=\"categorical\",\n",
    "    target_size=(img_height, img_width),\n",
    ")"
   ]
  },
  {
   "cell_type": "markdown",
   "metadata": {},
   "source": [
    "### GaitNet Model"
   ]
  },
  {
   "cell_type": "code",
   "execution_count": 151,
   "metadata": {
    "metadata": {}
   },
   "outputs": [],
   "source": [
    "def custom_model(input_shape, num_classes):\n",
    "    inputs = tf.keras.Input(shape=input_shape)\n",
    "\n",
    "    # Initial convolutional layer\n",
    "    x = layers.Conv2D(32, (3, 3), activation='relu', padding='same')(inputs)\n",
    "    x = layers.BatchNormalization()(x)\n",
    "    x = layers.MaxPooling2D((2, 2))(x)\n",
    "\n",
    "    # Residual blocks (ResNet inspired)\n",
    "    x = residual_block(x, 64)\n",
    "    x = layers.MaxPooling2D((2, 2))(x)\n",
    "\n",
    "    x = residual_block(x, 128)\n",
    "    x = layers.MaxPooling2D((2, 2))(x)\n",
    "\n",
    "    x = residual_block(x, 256)\n",
    "\n",
    "    # Transition block\n",
    "    x = transition_block(x, 128)\n",
    "\n",
    "    # EfficientNetB0 block\n",
    "    x = efficient_block(x, 256)\n",
    "\n",
    "    # InceptionNet block\n",
    "    x = inception_block(x, 128)\n",
    "\n",
    "    # Global average pooling\n",
    "    x = layers.Flatten()(x)\n",
    "\n",
    "    # Fully connected layers\n",
    "    x = layers.Dense(512, activation='relu')(x)\n",
    "    x = layers.Dropout(0.4)(x)\n",
    "    x = layers.BatchNormalization()(x)\n",
    "    x = layers.Dense(256, activation='relu')(x)\n",
    "    x = layers.Dropout(0.4)(x)\n",
    "    x = layers.BatchNormalization()(x)\n",
    "\n",
    "    outputs = layers.Dense(num_classes, activation='softmax')(x)\n",
    "\n",
    "    model = models.Model(inputs=inputs, outputs=outputs)\n",
    "    return model\n",
    "\n",
    "\n",
    "def residual_block(x, filters):\n",
    "    shortcut = x\n",
    "    x = layers.Conv2D(filters, (3, 3), activation='relu', padding='same')(x)\n",
    "    x = layers.BatchNormalization()(x)\n",
    "    x = layers.Conv2D(filters, (3, 3), activation='relu', padding='same')(x)\n",
    "    x = layers.BatchNormalization()(x)\n",
    "\n",
    "    # Adjusting dimensions of shortcut tensor\n",
    "    if shortcut.shape[-1] != filters:\n",
    "        shortcut = layers.Conv2D(\n",
    "            filters, (1, 1), activation='relu', padding='same')(shortcut)\n",
    "\n",
    "    x = layers.Add()([x, shortcut])\n",
    "    x = layers.Activation('relu')(x)\n",
    "    return x\n",
    "\n",
    "\n",
    "def transition_block(x, filters):\n",
    "    x = layers.Conv2D(filters, (1, 1), activation='relu')(x)\n",
    "    x = layers.AveragePooling2D((2, 2))(x)\n",
    "    return x\n",
    "\n",
    "\n",
    "def efficient_block(x, filters):\n",
    "    x = layers.Conv2D(filters, (3, 3), activation='relu', padding='same')(x)\n",
    "    x = layers.BatchNormalization()(x)\n",
    "    x = layers.MaxPooling2D((2, 2))(x)\n",
    "    return x\n",
    "\n",
    "\n",
    "def inception_block(x, filters):\n",
    "    x = layers.Conv2D(filters, (3, 3), activation='relu', padding='same')(x)\n",
    "    x = layers.BatchNormalization()(x)\n",
    "    x = layers.Conv2D(filters, (3, 3), activation='relu', padding='same')(x)\n",
    "    x = layers.BatchNormalization()(x)\n",
    "    x = layers.MaxPooling2D((2, 2))(x)\n",
    "    return x\n",
    "\n",
    "\n",
    "input_shape = (128, 128, 1)\n",
    "num_classes = 124  # Number of individuals in your dataset"
   ]
  },
  {
   "cell_type": "markdown",
   "metadata": {},
   "source": [
    "### Create the model"
   ]
  },
  {
   "cell_type": "code",
   "execution_count": 152,
   "metadata": {
    "metadata": {}
   },
   "outputs": [],
   "source": [
    "model = custom_model(input_shape, num_classes)"
   ]
  },
  {
   "cell_type": "markdown",
   "metadata": {},
   "source": [
    "### Define Top k Accuracy Function"
   ]
  },
  {
   "cell_type": "code",
   "execution_count": 153,
   "metadata": {
    "metadata": {}
   },
   "outputs": [],
   "source": [
    "def top_5_accuracy(y_true, y_pred):\n",
    "    return top_k_categorical_accuracy(y_true, y_pred, k=5)"
   ]
  },
  {
   "cell_type": "markdown",
   "metadata": {},
   "source": [
    "### Compile the model"
   ]
  },
  {
   "cell_type": "code",
   "execution_count": 154,
   "metadata": {
    "metadata": {}
   },
   "outputs": [],
   "source": [
    "model.compile(optimizer=RMSprop(\n",
    "    rho=0.9,\n",
    "    momentum=0.4,\n",
    "    epsilon=1e-07,\n",
    "    name=\"RMSprop\",\n",
    "    centered=False,\n",
    "    learning_rate=1e-3,\n",
    "), loss='categorical_crossentropy',\n",
    "    metrics=['acc', top_5_accuracy])"
   ]
  },
  {
   "cell_type": "markdown",
   "metadata": {},
   "source": [
    "### Define the Callbacks"
   ]
  },
  {
   "cell_type": "code",
   "execution_count": 155,
   "metadata": {
    "metadata": {}
   },
   "outputs": [],
   "source": [
    "checkpoint = ModelCheckpoint(\n",
    "    \"best_model.h5\", monitor='val_acc', save_best_only=True, mode='max')\n",
    "early_stopping = EarlyStopping(\n",
    "    monitor='val_acc', patience=40, restore_best_weights=True)\n",
    "reduce_lr = ReduceLROnPlateau(\n",
    "    monitor='val_acc', factor=0.1, patience=10, min_lr=1e-7)"
   ]
  },
  {
   "cell_type": "markdown",
   "metadata": {},
   "source": [
    "### Train the model"
   ]
  },
  {
   "cell_type": "code",
   "execution_count": 156,
   "metadata": {
    "metadata": {}
   },
   "outputs": [
    {
     "name": "stdout",
     "output_type": "stream",
     "text": [
      "Epoch 1/500\n",
      "363/363 [==============================] - 118s 313ms/step - loss: 4.9712 - acc: 0.0169 - top_5_accuracy: 0.0730 - val_loss: 5.0107 - val_acc: 0.0198 - val_top_5_accuracy: 0.0973 - lr: 0.0010\n",
      "Epoch 2/500\n",
      "363/363 [==============================] - 108s 297ms/step - loss: 4.1152 - acc: 0.0667 - top_5_accuracy: 0.2492 - val_loss: 8.3310 - val_acc: 0.0137 - val_top_5_accuracy: 0.0709 - lr: 0.0010\n",
      "Epoch 3/500\n",
      "363/363 [==============================] - 111s 305ms/step - loss: 3.4124 - acc: 0.1599 - top_5_accuracy: 0.4433 - val_loss: 4.7151 - val_acc: 0.0496 - val_top_5_accuracy: 0.1793 - lr: 0.0010\n",
      "Epoch 4/500\n",
      "363/363 [==============================] - 109s 299ms/step - loss: 2.9013 - acc: 0.2519 - top_5_accuracy: 0.5933 - val_loss: 5.2993 - val_acc: 0.1104 - val_top_5_accuracy: 0.2771 - lr: 0.0010\n",
      "Epoch 5/500\n",
      "363/363 [==============================] - 108s 296ms/step - loss: 2.5581 - acc: 0.3212 - top_5_accuracy: 0.6792 - val_loss: 10.7287 - val_acc: 0.0583 - val_top_5_accuracy: 0.1190 - lr: 0.0010\n",
      "Epoch 6/500\n",
      "363/363 [==============================] - 110s 300ms/step - loss: 2.3577 - acc: 0.3778 - top_5_accuracy: 0.7237 - val_loss: 2.9511 - val_acc: 0.2999 - val_top_5_accuracy: 0.5866 - lr: 0.0010\n",
      "Epoch 7/500\n",
      "363/363 [==============================] - 109s 297ms/step - loss: 2.1125 - acc: 0.4323 - top_5_accuracy: 0.7734 - val_loss: 14.3893 - val_acc: 0.0537 - val_top_5_accuracy: 0.1282 - lr: 0.0010\n",
      "Epoch 8/500\n",
      "363/363 [==============================] - 109s 298ms/step - loss: 1.9122 - acc: 0.4853 - top_5_accuracy: 0.8064 - val_loss: 5.1804 - val_acc: 0.1023 - val_top_5_accuracy: 0.3126 - lr: 0.0010\n",
      "Epoch 9/500\n",
      "363/363 [==============================] - 108s 295ms/step - loss: 1.7881 - acc: 0.5195 - top_5_accuracy: 0.8306 - val_loss: 5.2262 - val_acc: 0.1327 - val_top_5_accuracy: 0.3166 - lr: 0.0010\n",
      "Epoch 10/500\n",
      "363/363 [==============================] - 114s 311ms/step - loss: 1.6407 - acc: 0.5561 - top_5_accuracy: 0.8489 - val_loss: 6.0082 - val_acc: 0.0841 - val_top_5_accuracy: 0.2366 - lr: 0.0010\n",
      "Epoch 11/500\n",
      "363/363 [==============================] - 113s 309ms/step - loss: 1.5071 - acc: 0.5914 - top_5_accuracy: 0.8720 - val_loss: 3.5758 - val_acc: 0.3197 - val_top_5_accuracy: 0.5628 - lr: 0.0010\n",
      "Epoch 12/500\n",
      "363/363 [==============================] - 117s 322ms/step - loss: 1.3973 - acc: 0.6197 - top_5_accuracy: 0.8840 - val_loss: 7.1097 - val_acc: 0.1530 - val_top_5_accuracy: 0.3374 - lr: 0.0010\n",
      "Epoch 13/500\n",
      "363/363 [==============================] - 118s 322ms/step - loss: 1.3122 - acc: 0.6452 - top_5_accuracy: 0.8969 - val_loss: 6.8701 - val_acc: 0.1854 - val_top_5_accuracy: 0.3754 - lr: 0.0010\n",
      "Epoch 14/500\n",
      "363/363 [==============================] - 111s 304ms/step - loss: 1.1941 - acc: 0.6701 - top_5_accuracy: 0.9105 - val_loss: 9.3801 - val_acc: 0.1560 - val_top_5_accuracy: 0.2969 - lr: 0.0010\n",
      "Epoch 15/500\n",
      "363/363 [==============================] - 112s 307ms/step - loss: 1.0847 - acc: 0.7058 - top_5_accuracy: 0.9220 - val_loss: 27.7202 - val_acc: 0.0491 - val_top_5_accuracy: 0.0917 - lr: 0.0010\n",
      "Epoch 16/500\n",
      "363/363 [==============================] - 110s 302ms/step - loss: 1.0207 - acc: 0.7244 - top_5_accuracy: 0.9305 - val_loss: 4.0813 - val_acc: 0.3085 - val_top_5_accuracy: 0.5729 - lr: 0.0010\n",
      "Epoch 17/500\n",
      "363/363 [==============================] - 111s 305ms/step - loss: 0.9086 - acc: 0.7475 - top_5_accuracy: 0.9426 - val_loss: 2.1384 - val_acc: 0.4924 - val_top_5_accuracy: 0.7847 - lr: 0.0010\n",
      "Epoch 18/500\n",
      "363/363 [==============================] - 115s 316ms/step - loss: 0.8731 - acc: 0.7644 - top_5_accuracy: 0.9451 - val_loss: 3.2438 - val_acc: 0.3612 - val_top_5_accuracy: 0.6606 - lr: 0.0010\n",
      "Epoch 19/500\n",
      "363/363 [==============================] - 111s 305ms/step - loss: 0.8442 - acc: 0.7709 - top_5_accuracy: 0.9470 - val_loss: 2.3120 - val_acc: 0.5162 - val_top_5_accuracy: 0.7938 - lr: 0.0010\n",
      "Epoch 20/500\n",
      "363/363 [==============================] - 116s 318ms/step - loss: 0.7558 - acc: 0.7931 - top_5_accuracy: 0.9537 - val_loss: 6.5537 - val_acc: 0.1616 - val_top_5_accuracy: 0.3531 - lr: 0.0010\n",
      "Epoch 21/500\n",
      "363/363 [==============================] - 112s 307ms/step - loss: 0.7182 - acc: 0.7995 - top_5_accuracy: 0.9580 - val_loss: 1.3237 - val_acc: 0.6560 - val_top_5_accuracy: 0.8992 - lr: 0.0010\n",
      "Epoch 22/500\n",
      "363/363 [==============================] - 116s 318ms/step - loss: 0.6882 - acc: 0.8104 - top_5_accuracy: 0.9625 - val_loss: 1.1060 - val_acc: 0.7107 - val_top_5_accuracy: 0.9200 - lr: 0.0010\n",
      "Epoch 23/500\n",
      "363/363 [==============================] - 112s 307ms/step - loss: 0.6130 - acc: 0.8276 - top_5_accuracy: 0.9673 - val_loss: 8.5977 - val_acc: 0.0583 - val_top_5_accuracy: 0.1722 - lr: 0.0010\n",
      "Epoch 24/500\n",
      "363/363 [==============================] - 116s 319ms/step - loss: 0.5841 - acc: 0.8406 - top_5_accuracy: 0.9701 - val_loss: 1.0199 - val_acc: 0.7416 - val_top_5_accuracy: 0.9286 - lr: 0.0010\n",
      "Epoch 25/500\n",
      "363/363 [==============================] - 111s 305ms/step - loss: 0.5440 - acc: 0.8506 - top_5_accuracy: 0.9739 - val_loss: 4.5746 - val_acc: 0.3019 - val_top_5_accuracy: 0.5704 - lr: 0.0010\n",
      "Epoch 26/500\n",
      "363/363 [==============================] - 111s 303ms/step - loss: 0.4949 - acc: 0.8615 - top_5_accuracy: 0.9783 - val_loss: 5.3731 - val_acc: 0.1849 - val_top_5_accuracy: 0.4311 - lr: 0.0010\n",
      "Epoch 27/500\n",
      "363/363 [==============================] - 110s 302ms/step - loss: 0.4847 - acc: 0.8655 - top_5_accuracy: 0.9770 - val_loss: 3.7334 - val_acc: 0.3257 - val_top_5_accuracy: 0.6135 - lr: 0.0010\n",
      "Epoch 28/500\n",
      "363/363 [==============================] - 111s 303ms/step - loss: 0.4540 - acc: 0.8742 - top_5_accuracy: 0.9802 - val_loss: 2.1088 - val_acc: 0.5198 - val_top_5_accuracy: 0.7893 - lr: 0.0010\n",
      "Epoch 29/500\n",
      "363/363 [==============================] - 111s 303ms/step - loss: 0.4451 - acc: 0.8737 - top_5_accuracy: 0.9820 - val_loss: 6.7084 - val_acc: 0.2447 - val_top_5_accuracy: 0.4833 - lr: 0.0010\n",
      "Epoch 30/500\n",
      "363/363 [==============================] - 111s 304ms/step - loss: 0.4118 - acc: 0.8836 - top_5_accuracy: 0.9827 - val_loss: 10.0483 - val_acc: 0.1378 - val_top_5_accuracy: 0.2989 - lr: 0.0010\n",
      "Epoch 31/500\n",
      "363/363 [==============================] - 110s 301ms/step - loss: 0.3831 - acc: 0.8979 - top_5_accuracy: 0.9835 - val_loss: 5.4916 - val_acc: 0.2173 - val_top_5_accuracy: 0.4676 - lr: 0.0010\n",
      "Epoch 32/500\n",
      "363/363 [==============================] - 115s 315ms/step - loss: 0.3837 - acc: 0.8956 - top_5_accuracy: 0.9841 - val_loss: 1.0028 - val_acc: 0.7680 - val_top_5_accuracy: 0.9326 - lr: 0.0010\n",
      "Epoch 33/500\n",
      "363/363 [==============================] - 112s 306ms/step - loss: 0.3654 - acc: 0.8952 - top_5_accuracy: 0.9858 - val_loss: 3.9317 - val_acc: 0.3668 - val_top_5_accuracy: 0.6418 - lr: 0.0010\n",
      "Epoch 34/500\n",
      "363/363 [==============================] - 112s 306ms/step - loss: 0.3441 - acc: 0.9060 - top_5_accuracy: 0.9850 - val_loss: 3.7759 - val_acc: 0.3632 - val_top_5_accuracy: 0.6707 - lr: 0.0010\n",
      "Epoch 35/500\n",
      "363/363 [==============================] - 121s 333ms/step - loss: 0.3129 - acc: 0.9166 - top_5_accuracy: 0.9877 - val_loss: 3.4338 - val_acc: 0.4311 - val_top_5_accuracy: 0.7021 - lr: 0.0010\n",
      "Epoch 36/500\n",
      "363/363 [==============================] - 142s 387ms/step - loss: 0.2833 - acc: 0.9206 - top_5_accuracy: 0.9900 - val_loss: 4.2594 - val_acc: 0.2690 - val_top_5_accuracy: 0.5628 - lr: 0.0010\n",
      "Epoch 37/500\n",
      "363/363 [==============================] - 111s 305ms/step - loss: 0.2999 - acc: 0.9181 - top_5_accuracy: 0.9891 - val_loss: 2.1656 - val_acc: 0.5451 - val_top_5_accuracy: 0.8207 - lr: 0.0010\n",
      "Epoch 38/500\n",
      "363/363 [==============================] - 110s 302ms/step - loss: 0.2702 - acc: 0.9248 - top_5_accuracy: 0.9903 - val_loss: 7.9428 - val_acc: 0.1682 - val_top_5_accuracy: 0.3521 - lr: 0.0010\n",
      "Epoch 39/500\n",
      "363/363 [==============================] - 110s 302ms/step - loss: 0.2645 - acc: 0.9252 - top_5_accuracy: 0.9906 - val_loss: 1.2188 - val_acc: 0.7285 - val_top_5_accuracy: 0.9195 - lr: 0.0010\n",
      "Epoch 40/500\n",
      "363/363 [==============================] - 110s 301ms/step - loss: 0.2516 - acc: 0.9287 - top_5_accuracy: 0.9924 - val_loss: 3.5871 - val_acc: 0.3875 - val_top_5_accuracy: 0.7036 - lr: 0.0010\n",
      "Epoch 41/500\n",
      "363/363 [==============================] - 115s 314ms/step - loss: 0.2339 - acc: 0.9361 - top_5_accuracy: 0.9926 - val_loss: 4.6777 - val_acc: 0.3450 - val_top_5_accuracy: 0.6180 - lr: 0.0010\n",
      "Epoch 42/500\n",
      "363/363 [==============================] - 110s 300ms/step - loss: 0.2264 - acc: 0.9357 - top_5_accuracy: 0.9928 - val_loss: 3.8531 - val_acc: 0.3490 - val_top_5_accuracy: 0.6302 - lr: 0.0010\n",
      "Epoch 43/500\n",
      "363/363 [==============================] - 110s 300ms/step - loss: 0.1366 - acc: 0.9614 - top_5_accuracy: 0.9966 - val_loss: 1.1464 - val_acc: 0.7503 - val_top_5_accuracy: 0.9260 - lr: 1.0000e-04\n",
      "Epoch 44/500\n",
      "363/363 [==============================] - 128s 351ms/step - loss: 0.0939 - acc: 0.9746 - top_5_accuracy: 0.9985 - val_loss: 0.8111 - val_acc: 0.8095 - val_top_5_accuracy: 0.9453 - lr: 1.0000e-04\n",
      "Epoch 45/500\n",
      "363/363 [==============================] - 109s 297ms/step - loss: 0.0830 - acc: 0.9776 - top_5_accuracy: 0.9984 - val_loss: 0.5464 - val_acc: 0.8744 - val_top_5_accuracy: 0.9696 - lr: 1.0000e-04\n",
      "Epoch 46/500\n",
      "363/363 [==============================] - 112s 307ms/step - loss: 0.0697 - acc: 0.9795 - top_5_accuracy: 0.9993 - val_loss: 0.5993 - val_acc: 0.8617 - val_top_5_accuracy: 0.9635 - lr: 1.0000e-04\n",
      "Epoch 47/500\n",
      "363/363 [==============================] - 109s 297ms/step - loss: 0.0688 - acc: 0.9801 - top_5_accuracy: 0.9994 - val_loss: 0.5179 - val_acc: 0.8850 - val_top_5_accuracy: 0.9681 - lr: 1.0000e-04\n",
      "Epoch 48/500\n",
      "363/363 [==============================] - 107s 293ms/step - loss: 0.0644 - acc: 0.9832 - top_5_accuracy: 0.9989 - val_loss: 0.5610 - val_acc: 0.8723 - val_top_5_accuracy: 0.9676 - lr: 1.0000e-04\n",
      "Epoch 49/500\n",
      "363/363 [==============================] - 112s 307ms/step - loss: 0.0573 - acc: 0.9851 - top_5_accuracy: 0.9995 - val_loss: 0.5131 - val_acc: 0.8815 - val_top_5_accuracy: 0.9671 - lr: 1.0000e-04\n",
      "Epoch 50/500\n",
      "363/363 [==============================] - 112s 306ms/step - loss: 0.0525 - acc: 0.9847 - top_5_accuracy: 0.9997 - val_loss: 0.5731 - val_acc: 0.8642 - val_top_5_accuracy: 0.9671 - lr: 1.0000e-04\n",
      "Epoch 51/500\n",
      "363/363 [==============================] - 112s 307ms/step - loss: 0.0528 - acc: 0.9855 - top_5_accuracy: 0.9993 - val_loss: 0.5004 - val_acc: 0.8820 - val_top_5_accuracy: 0.9701 - lr: 1.0000e-04\n",
      "Epoch 52/500\n",
      "363/363 [==============================] - 108s 295ms/step - loss: 0.0533 - acc: 0.9848 - top_5_accuracy: 0.9992 - val_loss: 0.4948 - val_acc: 0.8860 - val_top_5_accuracy: 0.9721 - lr: 1.0000e-04\n",
      "Epoch 53/500\n",
      "363/363 [==============================] - 108s 295ms/step - loss: 0.0477 - acc: 0.9878 - top_5_accuracy: 0.9991 - val_loss: 0.5252 - val_acc: 0.8784 - val_top_5_accuracy: 0.9716 - lr: 1.0000e-04\n",
      "Epoch 54/500\n",
      "363/363 [==============================] - 107s 294ms/step - loss: 0.0482 - acc: 0.9871 - top_5_accuracy: 0.9996 - val_loss: 0.5517 - val_acc: 0.8723 - val_top_5_accuracy: 0.9666 - lr: 1.0000e-04\n",
      "Epoch 55/500\n",
      "363/363 [==============================] - 114s 311ms/step - loss: 0.0433 - acc: 0.9886 - top_5_accuracy: 0.9995 - val_loss: 0.5651 - val_acc: 0.8708 - val_top_5_accuracy: 0.9656 - lr: 1.0000e-04\n",
      "Epoch 56/500\n",
      "363/363 [==============================] - 115s 314ms/step - loss: 0.0440 - acc: 0.9888 - top_5_accuracy: 0.9996 - val_loss: 0.4826 - val_acc: 0.8886 - val_top_5_accuracy: 0.9706 - lr: 1.0000e-04\n",
      "Epoch 57/500\n",
      "363/363 [==============================] - 112s 308ms/step - loss: 0.0421 - acc: 0.9896 - top_5_accuracy: 0.9996 - val_loss: 0.4677 - val_acc: 0.8931 - val_top_5_accuracy: 0.9726 - lr: 1.0000e-04\n",
      "Epoch 58/500\n",
      "363/363 [==============================] - 112s 307ms/step - loss: 0.0426 - acc: 0.9883 - top_5_accuracy: 0.9996 - val_loss: 0.8182 - val_acc: 0.8146 - val_top_5_accuracy: 0.9438 - lr: 1.0000e-04\n",
      "Epoch 59/500\n",
      "363/363 [==============================] - 107s 294ms/step - loss: 0.0382 - acc: 0.9899 - top_5_accuracy: 0.9997 - val_loss: 0.6448 - val_acc: 0.8516 - val_top_5_accuracy: 0.9569 - lr: 1.0000e-04\n",
      "Epoch 60/500\n",
      "363/363 [==============================] - 112s 307ms/step - loss: 0.0374 - acc: 0.9896 - top_5_accuracy: 0.9997 - val_loss: 0.5531 - val_acc: 0.8769 - val_top_5_accuracy: 0.9681 - lr: 1.0000e-04\n",
      "Epoch 61/500\n",
      "363/363 [==============================] - 112s 306ms/step - loss: 0.0341 - acc: 0.9905 - top_5_accuracy: 0.9998 - val_loss: 0.4846 - val_acc: 0.8880 - val_top_5_accuracy: 0.9732 - lr: 1.0000e-04\n",
      "Epoch 62/500\n",
      "363/363 [==============================] - 112s 307ms/step - loss: 0.0378 - acc: 0.9898 - top_5_accuracy: 0.9997 - val_loss: 0.5179 - val_acc: 0.8820 - val_top_5_accuracy: 0.9676 - lr: 1.0000e-04\n",
      "Epoch 63/500\n",
      "363/363 [==============================] - 112s 308ms/step - loss: 0.0350 - acc: 0.9908 - top_5_accuracy: 0.9999 - val_loss: 0.8204 - val_acc: 0.8166 - val_top_5_accuracy: 0.9524 - lr: 1.0000e-04\n",
      "Epoch 64/500\n",
      "363/363 [==============================] - 113s 309ms/step - loss: 0.0332 - acc: 0.9912 - top_5_accuracy: 0.9995 - val_loss: 1.0567 - val_acc: 0.7609 - val_top_5_accuracy: 0.9347 - lr: 1.0000e-04\n",
      "Epoch 65/500\n",
      "363/363 [==============================] - 113s 308ms/step - loss: 0.0321 - acc: 0.9916 - top_5_accuracy: 0.9997 - val_loss: 0.4867 - val_acc: 0.8870 - val_top_5_accuracy: 0.9721 - lr: 1.0000e-04\n",
      "Epoch 66/500\n",
      "363/363 [==============================] - 113s 308ms/step - loss: 0.0361 - acc: 0.9907 - top_5_accuracy: 0.9993 - val_loss: 1.6160 - val_acc: 0.6839 - val_top_5_accuracy: 0.8911 - lr: 1.0000e-04\n",
      "Epoch 67/500\n",
      "363/363 [==============================] - 108s 295ms/step - loss: 0.0338 - acc: 0.9909 - top_5_accuracy: 0.9997 - val_loss: 0.5401 - val_acc: 0.8779 - val_top_5_accuracy: 0.9686 - lr: 1.0000e-04\n",
      "Epoch 68/500\n",
      "363/363 [==============================] - 109s 297ms/step - loss: 0.0274 - acc: 0.9929 - top_5_accuracy: 0.9998 - val_loss: 0.4524 - val_acc: 0.8951 - val_top_5_accuracy: 0.9747 - lr: 1.0000e-05\n",
      "Epoch 69/500\n",
      "363/363 [==============================] - 113s 310ms/step - loss: 0.0303 - acc: 0.9920 - top_5_accuracy: 0.9996 - val_loss: 0.4458 - val_acc: 0.8972 - val_top_5_accuracy: 0.9752 - lr: 1.0000e-05\n",
      "Epoch 70/500\n",
      "363/363 [==============================] - 112s 306ms/step - loss: 0.0291 - acc: 0.9930 - top_5_accuracy: 0.9999 - val_loss: 0.4528 - val_acc: 0.8972 - val_top_5_accuracy: 0.9757 - lr: 1.0000e-05\n",
      "Epoch 71/500\n",
      "363/363 [==============================] - 112s 308ms/step - loss: 0.0268 - acc: 0.9923 - top_5_accuracy: 0.9998 - val_loss: 0.4480 - val_acc: 0.8972 - val_top_5_accuracy: 0.9752 - lr: 1.0000e-05\n",
      "Epoch 72/500\n",
      "363/363 [==============================] - 113s 310ms/step - loss: 0.0291 - acc: 0.9929 - top_5_accuracy: 0.9997 - val_loss: 0.4523 - val_acc: 0.8982 - val_top_5_accuracy: 0.9752 - lr: 1.0000e-05\n",
      "Epoch 73/500\n",
      "363/363 [==============================] - 107s 294ms/step - loss: 0.0291 - acc: 0.9925 - top_5_accuracy: 0.9998 - val_loss: 0.4528 - val_acc: 0.8967 - val_top_5_accuracy: 0.9762 - lr: 1.0000e-05\n",
      "Epoch 74/500\n",
      "363/363 [==============================] - 108s 297ms/step - loss: 0.0282 - acc: 0.9930 - top_5_accuracy: 0.9999 - val_loss: 0.4449 - val_acc: 0.8956 - val_top_5_accuracy: 0.9752 - lr: 1.0000e-05\n",
      "Epoch 75/500\n",
      "363/363 [==============================] - 113s 308ms/step - loss: 0.0290 - acc: 0.9921 - top_5_accuracy: 0.9998 - val_loss: 0.4460 - val_acc: 0.8972 - val_top_5_accuracy: 0.9747 - lr: 1.0000e-05\n",
      "Epoch 76/500\n",
      "363/363 [==============================] - 108s 297ms/step - loss: 0.0260 - acc: 0.9940 - top_5_accuracy: 0.9997 - val_loss: 0.4471 - val_acc: 0.8992 - val_top_5_accuracy: 0.9752 - lr: 1.0000e-05\n",
      "Epoch 77/500\n",
      "363/363 [==============================] - 108s 297ms/step - loss: 0.0287 - acc: 0.9921 - top_5_accuracy: 0.9998 - val_loss: 0.4379 - val_acc: 0.9017 - val_top_5_accuracy: 0.9757 - lr: 1.0000e-05\n",
      "Epoch 78/500\n",
      "363/363 [==============================] - 108s 296ms/step - loss: 0.0242 - acc: 0.9944 - top_5_accuracy: 0.9999 - val_loss: 0.4456 - val_acc: 0.8967 - val_top_5_accuracy: 0.9752 - lr: 1.0000e-05\n",
      "Epoch 79/500\n",
      "363/363 [==============================] - 107s 294ms/step - loss: 0.0271 - acc: 0.9928 - top_5_accuracy: 0.9997 - val_loss: 0.4595 - val_acc: 0.8967 - val_top_5_accuracy: 0.9747 - lr: 1.0000e-05\n",
      "Epoch 80/500\n",
      "363/363 [==============================] - 112s 308ms/step - loss: 0.0286 - acc: 0.9922 - top_5_accuracy: 0.9997 - val_loss: 0.4478 - val_acc: 0.8961 - val_top_5_accuracy: 0.9752 - lr: 1.0000e-05\n",
      "Epoch 81/500\n",
      "363/363 [==============================] - 112s 308ms/step - loss: 0.0257 - acc: 0.9931 - top_5_accuracy: 0.9998 - val_loss: 0.4483 - val_acc: 0.8967 - val_top_5_accuracy: 0.9757 - lr: 1.0000e-05\n",
      "Epoch 82/500\n",
      "363/363 [==============================] - 112s 308ms/step - loss: 0.0245 - acc: 0.9935 - top_5_accuracy: 0.9997 - val_loss: 0.4457 - val_acc: 0.8987 - val_top_5_accuracy: 0.9762 - lr: 1.0000e-05\n",
      "Epoch 83/500\n",
      "363/363 [==============================] - 112s 307ms/step - loss: 0.0306 - acc: 0.9923 - top_5_accuracy: 0.9996 - val_loss: 0.4512 - val_acc: 0.8967 - val_top_5_accuracy: 0.9752 - lr: 1.0000e-05\n",
      "Epoch 84/500\n",
      "363/363 [==============================] - 113s 308ms/step - loss: 0.0297 - acc: 0.9921 - top_5_accuracy: 0.9999 - val_loss: 0.4523 - val_acc: 0.8956 - val_top_5_accuracy: 0.9742 - lr: 1.0000e-05\n",
      "Epoch 85/500\n",
      "363/363 [==============================] - 112s 308ms/step - loss: 0.0240 - acc: 0.9942 - top_5_accuracy: 0.9998 - val_loss: 0.4491 - val_acc: 0.8997 - val_top_5_accuracy: 0.9752 - lr: 1.0000e-05\n",
      "Epoch 86/500\n",
      "363/363 [==============================] - 112s 307ms/step - loss: 0.0256 - acc: 0.9934 - top_5_accuracy: 0.9997 - val_loss: 0.4480 - val_acc: 0.8977 - val_top_5_accuracy: 0.9742 - lr: 1.0000e-05\n",
      "Epoch 87/500\n",
      "363/363 [==============================] - 112s 307ms/step - loss: 0.0263 - acc: 0.9932 - top_5_accuracy: 0.9997 - val_loss: 0.4489 - val_acc: 0.8982 - val_top_5_accuracy: 0.9742 - lr: 1.0000e-05\n",
      "Epoch 88/500\n",
      "363/363 [==============================] - 108s 295ms/step - loss: 0.0252 - acc: 0.9940 - top_5_accuracy: 0.9995 - val_loss: 0.4486 - val_acc: 0.9002 - val_top_5_accuracy: 0.9747 - lr: 1.0000e-06\n",
      "Epoch 89/500\n",
      "363/363 [==============================] - 113s 309ms/step - loss: 0.0276 - acc: 0.9931 - top_5_accuracy: 0.9999 - val_loss: 0.4501 - val_acc: 0.8992 - val_top_5_accuracy: 0.9747 - lr: 1.0000e-06\n",
      "Epoch 90/500\n",
      "363/363 [==============================] - 113s 308ms/step - loss: 0.0264 - acc: 0.9946 - top_5_accuracy: 0.9997 - val_loss: 0.4480 - val_acc: 0.9002 - val_top_5_accuracy: 0.9747 - lr: 1.0000e-06\n",
      "Epoch 91/500\n",
      "363/363 [==============================] - 113s 310ms/step - loss: 0.0249 - acc: 0.9934 - top_5_accuracy: 0.9998 - val_loss: 0.4492 - val_acc: 0.8982 - val_top_5_accuracy: 0.9737 - lr: 1.0000e-06\n",
      "Epoch 92/500\n",
      "363/363 [==============================] - 108s 296ms/step - loss: 0.0257 - acc: 0.9936 - top_5_accuracy: 0.9999 - val_loss: 0.4510 - val_acc: 0.8997 - val_top_5_accuracy: 0.9737 - lr: 1.0000e-06\n",
      "Epoch 93/500\n",
      "363/363 [==============================] - 113s 309ms/step - loss: 0.0252 - acc: 0.9934 - top_5_accuracy: 0.9997 - val_loss: 0.4449 - val_acc: 0.8992 - val_top_5_accuracy: 0.9752 - lr: 1.0000e-06\n",
      "Epoch 94/500\n",
      "363/363 [==============================] - 108s 297ms/step - loss: 0.0271 - acc: 0.9935 - top_5_accuracy: 0.9997 - val_loss: 0.4523 - val_acc: 0.8977 - val_top_5_accuracy: 0.9747 - lr: 1.0000e-06\n",
      "Epoch 95/500\n",
      "363/363 [==============================] - 108s 294ms/step - loss: 0.0244 - acc: 0.9938 - top_5_accuracy: 1.0000 - val_loss: 0.4493 - val_acc: 0.9007 - val_top_5_accuracy: 0.9742 - lr: 1.0000e-06\n",
      "Epoch 96/500\n",
      "363/363 [==============================] - 108s 295ms/step - loss: 0.0247 - acc: 0.9933 - top_5_accuracy: 0.9997 - val_loss: 0.4517 - val_acc: 0.8992 - val_top_5_accuracy: 0.9737 - lr: 1.0000e-06\n",
      "Epoch 97/500\n",
      "363/363 [==============================] - 108s 295ms/step - loss: 0.0257 - acc: 0.9934 - top_5_accuracy: 0.9998 - val_loss: 0.4519 - val_acc: 0.8961 - val_top_5_accuracy: 0.9742 - lr: 1.0000e-06\n",
      "Epoch 98/500\n",
      "363/363 [==============================] - 107s 294ms/step - loss: 0.0257 - acc: 0.9944 - top_5_accuracy: 0.9998 - val_loss: 0.4501 - val_acc: 0.8972 - val_top_5_accuracy: 0.9737 - lr: 1.0000e-07\n",
      "Epoch 99/500\n",
      "363/363 [==============================] - 113s 310ms/step - loss: 0.0250 - acc: 0.9940 - top_5_accuracy: 0.9997 - val_loss: 0.4465 - val_acc: 0.8982 - val_top_5_accuracy: 0.9732 - lr: 1.0000e-07\n",
      "Epoch 100/500\n",
      "363/363 [==============================] - 112s 308ms/step - loss: 0.0283 - acc: 0.9922 - top_5_accuracy: 0.9998 - val_loss: 0.4490 - val_acc: 0.9007 - val_top_5_accuracy: 0.9747 - lr: 1.0000e-07\n",
      "Epoch 101/500\n",
      "363/363 [==============================] - 114s 314ms/step - loss: 0.0258 - acc: 0.9931 - top_5_accuracy: 0.9999 - val_loss: 0.4507 - val_acc: 0.8992 - val_top_5_accuracy: 0.9742 - lr: 1.0000e-07\n",
      "Epoch 102/500\n",
      "363/363 [==============================] - 114s 313ms/step - loss: 0.0234 - acc: 0.9946 - top_5_accuracy: 1.0000 - val_loss: 0.4488 - val_acc: 0.8992 - val_top_5_accuracy: 0.9732 - lr: 1.0000e-07\n",
      "Epoch 103/500\n",
      "363/363 [==============================] - 114s 311ms/step - loss: 0.0231 - acc: 0.9944 - top_5_accuracy: 0.9998 - val_loss: 0.4488 - val_acc: 0.8982 - val_top_5_accuracy: 0.9742 - lr: 1.0000e-07\n",
      "Epoch 104/500\n",
      "363/363 [==============================] - 115s 314ms/step - loss: 0.0236 - acc: 0.9946 - top_5_accuracy: 0.9997 - val_loss: 0.4494 - val_acc: 0.8987 - val_top_5_accuracy: 0.9752 - lr: 1.0000e-07\n",
      "Epoch 105/500\n",
      "363/363 [==============================] - 122s 334ms/step - loss: 0.0236 - acc: 0.9944 - top_5_accuracy: 0.9998 - val_loss: 0.4476 - val_acc: 0.8997 - val_top_5_accuracy: 0.9747 - lr: 1.0000e-07\n",
      "Epoch 106/500\n",
      "363/363 [==============================] - 124s 339ms/step - loss: 0.0232 - acc: 0.9940 - top_5_accuracy: 1.0000 - val_loss: 0.4475 - val_acc: 0.8997 - val_top_5_accuracy: 0.9747 - lr: 1.0000e-07\n",
      "Epoch 107/500\n",
      "363/363 [==============================] - 123s 338ms/step - loss: 0.0239 - acc: 0.9941 - top_5_accuracy: 0.9998 - val_loss: 0.4453 - val_acc: 0.8997 - val_top_5_accuracy: 0.9732 - lr: 1.0000e-07\n",
      "Epoch 108/500\n",
      "363/363 [==============================] - 124s 339ms/step - loss: 0.0252 - acc: 0.9924 - top_5_accuracy: 0.9999 - val_loss: 0.4468 - val_acc: 0.8987 - val_top_5_accuracy: 0.9747 - lr: 1.0000e-07\n",
      "Epoch 109/500\n",
      "363/363 [==============================] - 124s 340ms/step - loss: 0.0279 - acc: 0.9925 - top_5_accuracy: 0.9998 - val_loss: 0.4476 - val_acc: 0.8997 - val_top_5_accuracy: 0.9737 - lr: 1.0000e-07\n",
      "Epoch 110/500\n",
      "363/363 [==============================] - 125s 341ms/step - loss: 0.0229 - acc: 0.9945 - top_5_accuracy: 1.0000 - val_loss: 0.4468 - val_acc: 0.8997 - val_top_5_accuracy: 0.9732 - lr: 1.0000e-07\n",
      "Epoch 111/500\n",
      "363/363 [==============================] - 125s 342ms/step - loss: 0.0250 - acc: 0.9937 - top_5_accuracy: 0.9997 - val_loss: 0.4505 - val_acc: 0.8982 - val_top_5_accuracy: 0.9732 - lr: 1.0000e-07\n",
      "Epoch 112/500\n",
      "363/363 [==============================] - 124s 339ms/step - loss: 0.0230 - acc: 0.9945 - top_5_accuracy: 0.9999 - val_loss: 0.4467 - val_acc: 0.8982 - val_top_5_accuracy: 0.9742 - lr: 1.0000e-07\n",
      "Epoch 113/500\n",
      "363/363 [==============================] - 123s 336ms/step - loss: 0.0251 - acc: 0.9935 - top_5_accuracy: 0.9999 - val_loss: 0.4521 - val_acc: 0.9017 - val_top_5_accuracy: 0.9742 - lr: 1.0000e-07\n",
      "Epoch 114/500\n",
      "363/363 [==============================] - 124s 339ms/step - loss: 0.0236 - acc: 0.9935 - top_5_accuracy: 0.9999 - val_loss: 0.4509 - val_acc: 0.8992 - val_top_5_accuracy: 0.9747 - lr: 1.0000e-07\n",
      "Epoch 115/500\n",
      "363/363 [==============================] - 124s 340ms/step - loss: 0.0251 - acc: 0.9938 - top_5_accuracy: 0.9998 - val_loss: 0.4466 - val_acc: 0.9007 - val_top_5_accuracy: 0.9747 - lr: 1.0000e-07\n",
      "Epoch 116/500\n",
      "363/363 [==============================] - 123s 337ms/step - loss: 0.0236 - acc: 0.9940 - top_5_accuracy: 0.9997 - val_loss: 0.4497 - val_acc: 0.8982 - val_top_5_accuracy: 0.9742 - lr: 1.0000e-07\n",
      "Epoch 117/500\n",
      "363/363 [==============================] - 123s 338ms/step - loss: 0.0277 - acc: 0.9934 - top_5_accuracy: 0.9997 - val_loss: 0.4508 - val_acc: 0.8997 - val_top_5_accuracy: 0.9747 - lr: 1.0000e-07\n"
     ]
    }
   ],
   "source": [
    "history = model.fit(\n",
    "    train_generator,\n",
    "    validation_data=test_generator,\n",
    "    epochs=500,\n",
    "    callbacks=[checkpoint, early_stopping, reduce_lr],\n",
    "    use_multiprocessing=True)"
   ]
  },
  {
   "cell_type": "markdown",
   "metadata": {},
   "source": [
    "### Evaluate model on training set"
   ]
  },
  {
   "cell_type": "code",
   "execution_count": 157,
   "metadata": {
    "metadata": {}
   },
   "outputs": [
    {
     "name": "stdout",
     "output_type": "stream",
     "text": [
      "363/363 [==============================] - 36s 99ms/step - loss: 2.0351e-04 - acc: 0.9999 - top_5_accuracy: 1.0000\n",
      "Training Loss: 0.0\n",
      "Training Accuracy: 1.0\n",
      "Training Top 5 Accuracy: 1.0\n"
     ]
    }
   ],
   "source": [
    "train_loss, train_accuracy, top5train = model.evaluate(train_generator)\n",
    "print(f\"Training Loss: {round(train_loss, 2)}\")\n",
    "print(f\"Training Accuracy: {round(train_accuracy, 2)}\")\n",
    "print(f\"Training Top 5 Accuracy: {round(top5train, 2)}\")"
   ]
  },
  {
   "cell_type": "markdown",
   "metadata": {},
   "source": [
    "### Evaluate model on testing set"
   ]
  },
  {
   "cell_type": "code",
   "execution_count": 158,
   "metadata": {
    "metadata": {}
   },
   "outputs": [
    {
     "name": "stdout",
     "output_type": "stream",
     "text": [
      "62/62 [==============================] - 6s 102ms/step - loss: 0.4379 - acc: 0.9017 - top_5_accuracy: 0.9757\n",
      "Testing Loss: 0.44\n",
      "Testing Accuracy: 0.9\n",
      "Testing Top 5 Accuracy: 0.98\n"
     ]
    }
   ],
   "source": [
    "test_loss, test_accuracy, top5test = model.evaluate(test_generator)\n",
    "print(f\"Testing Loss: {round(test_loss, 2)}\")\n",
    "print(f\"Testing Accuracy: {round(test_accuracy, 2)}\")\n",
    "print(f\"Testing Top 5 Accuracy: {round(top5test, 2)}\")"
   ]
  },
  {
   "cell_type": "markdown",
   "metadata": {},
   "source": [
    "### Save the model"
   ]
  },
  {
   "cell_type": "code",
   "execution_count": 159,
   "metadata": {
    "metadata": {}
   },
   "outputs": [],
   "source": [
    "model.save('../10-Trained-Models/GaitNet.h5')"
   ]
  },
  {
   "cell_type": "markdown",
   "metadata": {},
   "source": [
    "### Model Summary"
   ]
  },
  {
   "cell_type": "code",
   "execution_count": 160,
   "metadata": {
    "metadata": {}
   },
   "outputs": [
    {
     "name": "stdout",
     "output_type": "stream",
     "text": [
      "Model: \"model_11\"\n",
      "__________________________________________________________________________________________________\n",
      " Layer (type)                Output Shape                 Param #   Connected to                  \n",
      "==================================================================================================\n",
      " input_12 (InputLayer)       [(None, 128, 128, 1)]        0         []                            \n",
      "                                                                                                  \n",
      " conv2d_155 (Conv2D)         (None, 128, 128, 32)         320       ['input_12[0][0]']            \n",
      "                                                                                                  \n",
      " batch_normalization_116 (B  (None, 128, 128, 32)         128       ['conv2d_155[0][0]']          \n",
      " atchNormalization)                                                                               \n",
      "                                                                                                  \n",
      " max_pooling2d_57 (MaxPooli  (None, 64, 64, 32)           0         ['batch_normalization_116[0][0\n",
      " ng2D)                                                              ]']                           \n",
      "                                                                                                  \n",
      " conv2d_156 (Conv2D)         (None, 64, 64, 64)           18496     ['max_pooling2d_57[0][0]']    \n",
      "                                                                                                  \n",
      " batch_normalization_117 (B  (None, 64, 64, 64)           256       ['conv2d_156[0][0]']          \n",
      " atchNormalization)                                                                               \n",
      "                                                                                                  \n",
      " conv2d_157 (Conv2D)         (None, 64, 64, 64)           36928     ['batch_normalization_117[0][0\n",
      "                                                                    ]']                           \n",
      "                                                                                                  \n",
      " batch_normalization_118 (B  (None, 64, 64, 64)           256       ['conv2d_157[0][0]']          \n",
      " atchNormalization)                                                                               \n",
      "                                                                                                  \n",
      " conv2d_158 (Conv2D)         (None, 64, 64, 64)           2112      ['max_pooling2d_57[0][0]']    \n",
      "                                                                                                  \n",
      " add_33 (Add)                (None, 64, 64, 64)           0         ['batch_normalization_118[0][0\n",
      "                                                                    ]',                           \n",
      "                                                                     'conv2d_158[0][0]']          \n",
      "                                                                                                  \n",
      " activation_33 (Activation)  (None, 64, 64, 64)           0         ['add_33[0][0]']              \n",
      "                                                                                                  \n",
      " max_pooling2d_58 (MaxPooli  (None, 32, 32, 64)           0         ['activation_33[0][0]']       \n",
      " ng2D)                                                                                            \n",
      "                                                                                                  \n",
      " conv2d_159 (Conv2D)         (None, 32, 32, 128)          73856     ['max_pooling2d_58[0][0]']    \n",
      "                                                                                                  \n",
      " batch_normalization_119 (B  (None, 32, 32, 128)          512       ['conv2d_159[0][0]']          \n",
      " atchNormalization)                                                                               \n",
      "                                                                                                  \n",
      " conv2d_160 (Conv2D)         (None, 32, 32, 128)          147584    ['batch_normalization_119[0][0\n",
      "                                                                    ]']                           \n",
      "                                                                                                  \n",
      " batch_normalization_120 (B  (None, 32, 32, 128)          512       ['conv2d_160[0][0]']          \n",
      " atchNormalization)                                                                               \n",
      "                                                                                                  \n",
      " conv2d_161 (Conv2D)         (None, 32, 32, 128)          8320      ['max_pooling2d_58[0][0]']    \n",
      "                                                                                                  \n",
      " add_34 (Add)                (None, 32, 32, 128)          0         ['batch_normalization_120[0][0\n",
      "                                                                    ]',                           \n",
      "                                                                     'conv2d_161[0][0]']          \n",
      "                                                                                                  \n",
      " activation_34 (Activation)  (None, 32, 32, 128)          0         ['add_34[0][0]']              \n",
      "                                                                                                  \n",
      " max_pooling2d_59 (MaxPooli  (None, 16, 16, 128)          0         ['activation_34[0][0]']       \n",
      " ng2D)                                                                                            \n",
      "                                                                                                  \n",
      " conv2d_162 (Conv2D)         (None, 16, 16, 256)          295168    ['max_pooling2d_59[0][0]']    \n",
      "                                                                                                  \n",
      " batch_normalization_121 (B  (None, 16, 16, 256)          1024      ['conv2d_162[0][0]']          \n",
      " atchNormalization)                                                                               \n",
      "                                                                                                  \n",
      " conv2d_163 (Conv2D)         (None, 16, 16, 256)          590080    ['batch_normalization_121[0][0\n",
      "                                                                    ]']                           \n",
      "                                                                                                  \n",
      " batch_normalization_122 (B  (None, 16, 16, 256)          1024      ['conv2d_163[0][0]']          \n",
      " atchNormalization)                                                                               \n",
      "                                                                                                  \n",
      " conv2d_164 (Conv2D)         (None, 16, 16, 256)          33024     ['max_pooling2d_59[0][0]']    \n",
      "                                                                                                  \n",
      " add_35 (Add)                (None, 16, 16, 256)          0         ['batch_normalization_122[0][0\n",
      "                                                                    ]',                           \n",
      "                                                                     'conv2d_164[0][0]']          \n",
      "                                                                                                  \n",
      " activation_35 (Activation)  (None, 16, 16, 256)          0         ['add_35[0][0]']              \n",
      "                                                                                                  \n",
      " conv2d_165 (Conv2D)         (None, 16, 16, 128)          32896     ['activation_35[0][0]']       \n",
      "                                                                                                  \n",
      " average_pooling2d_10 (Aver  (None, 8, 8, 128)            0         ['conv2d_165[0][0]']          \n",
      " agePooling2D)                                                                                    \n",
      "                                                                                                  \n",
      " conv2d_166 (Conv2D)         (None, 8, 8, 256)            295168    ['average_pooling2d_10[0][0]']\n",
      "                                                                                                  \n",
      " batch_normalization_123 (B  (None, 8, 8, 256)            1024      ['conv2d_166[0][0]']          \n",
      " atchNormalization)                                                                               \n",
      "                                                                                                  \n",
      " max_pooling2d_60 (MaxPooli  (None, 4, 4, 256)            0         ['batch_normalization_123[0][0\n",
      " ng2D)                                                              ]']                           \n",
      "                                                                                                  \n",
      " conv2d_167 (Conv2D)         (None, 4, 4, 128)            295040    ['max_pooling2d_60[0][0]']    \n",
      "                                                                                                  \n",
      " batch_normalization_124 (B  (None, 4, 4, 128)            512       ['conv2d_167[0][0]']          \n",
      " atchNormalization)                                                                               \n",
      "                                                                                                  \n",
      " conv2d_168 (Conv2D)         (None, 4, 4, 128)            147584    ['batch_normalization_124[0][0\n",
      "                                                                    ]']                           \n",
      "                                                                                                  \n",
      " batch_normalization_125 (B  (None, 4, 4, 128)            512       ['conv2d_168[0][0]']          \n",
      " atchNormalization)                                                                               \n",
      "                                                                                                  \n",
      " max_pooling2d_61 (MaxPooli  (None, 2, 2, 128)            0         ['batch_normalization_125[0][0\n",
      " ng2D)                                                              ]']                           \n",
      "                                                                                                  \n",
      " flatten_11 (Flatten)        (None, 512)                  0         ['max_pooling2d_61[0][0]']    \n",
      "                                                                                                  \n",
      " dense_33 (Dense)            (None, 512)                  262656    ['flatten_11[0][0]']          \n",
      "                                                                                                  \n",
      " dropout_22 (Dropout)        (None, 512)                  0         ['dense_33[0][0]']            \n",
      "                                                                                                  \n",
      " batch_normalization_126 (B  (None, 512)                  2048      ['dropout_22[0][0]']          \n",
      " atchNormalization)                                                                               \n",
      "                                                                                                  \n",
      " dense_34 (Dense)            (None, 256)                  131328    ['batch_normalization_126[0][0\n",
      "                                                                    ]']                           \n",
      "                                                                                                  \n",
      " dropout_23 (Dropout)        (None, 256)                  0         ['dense_34[0][0]']            \n",
      "                                                                                                  \n",
      " batch_normalization_127 (B  (None, 256)                  1024      ['dropout_23[0][0]']          \n",
      " atchNormalization)                                                                               \n",
      "                                                                                                  \n",
      " dense_35 (Dense)            (None, 124)                  31868     ['batch_normalization_127[0][0\n",
      "                                                                    ]']                           \n",
      "                                                                                                  \n",
      "==================================================================================================\n",
      "Total params: 2411260 (9.20 MB)\n",
      "Trainable params: 2406844 (9.18 MB)\n",
      "Non-trainable params: 4416 (17.25 KB)\n",
      "__________________________________________________________________________________________________\n"
     ]
    }
   ],
   "source": [
    "model.summary()"
   ]
  },
  {
   "cell_type": "markdown",
   "metadata": {},
   "source": [
    "### Plot Training & Validation Accuracy"
   ]
  },
  {
   "cell_type": "code",
   "execution_count": 161,
   "metadata": {
    "metadata": {}
   },
   "outputs": [
    {
     "data": {
      "image/png": "[encoded data removed]",
      "text/plain": [
       "<Figure size 640x480 with 1 Axes>"
      ]
     },
     "metadata": {},
     "output_type": "display_data"
    }
   ],
   "source": [
    "plt.plot(history.history['acc'], color='blue', label='Training Accuracy')\n",
    "plt.plot(history.history['val_acc'],\n",
    "         color='red', label='Validation Accuracy')\n",
    "plt.title('Model Accuracy')\n",
    "plt.xlabel('Epoch')\n",
    "plt.ylabel('Accuracy')\n",
    "plt.legend()\n",
    "plt.show()"
   ]
  },
  {
   "cell_type": "markdown",
   "metadata": {},
   "source": [
    "### Plot Training and Validation Loss"
   ]
  },
  {
   "cell_type": "code",
   "execution_count": 162,
   "metadata": {
    "metadata": {}
   },
   "outputs": [
    {
     "data": {
      "image/png": "[encoded data removed]",
      "text/plain": [
       "<Figure size 640x480 with 1 Axes>"
      ]
     },
     "metadata": {},
     "output_type": "display_data"
    }
   ],
   "source": [
    "plt.plot(history.history['loss'], color='blue', label='Training Loss')\n",
    "plt.plot(history.history['val_loss'],\n",
    "         color='red', label='Validation Loss')\n",
    "plt.title('Model Loss')\n",
    "plt.xlabel('Epoch')\n",
    "plt.ylabel('Loss')\n",
    "plt.legend()\n",
    "plt.show()"
   ]
  },
  {
   "cell_type": "markdown",
   "metadata": {},
   "source": [
    "### Plot Training and Testing Top 5 Accuracy"
   ]
  },
  {
   "cell_type": "code",
   "execution_count": 163,
   "metadata": {
    "metadata": {}
   },
   "outputs": [
    {
     "data": {
      "image/png": "[encoded data removed]",
      "text/plain": [
       "<Figure size 640x480 with 1 Axes>"
      ]
     },
     "metadata": {},
     "output_type": "display_data"
    }
   ],
   "source": [
    "plt.plot(history.history['top_5_accuracy'],\n",
    "         color='blue', label='Training Accuracy')\n",
    "plt.plot(history.history['val_top_5_accuracy'],\n",
    "         color='red', label='Validation Accuracy')\n",
    "plt.title('Model Top 5 Accuracy')\n",
    "plt.xlabel('Epoch')\n",
    "plt.ylabel('Accuracy')\n",
    "plt.legend()\n",
    "plt.show()"
   ]
  }
 ],
 "metadata": {
  "kernelspec": {
   "display_name": "Python 3",
   "language": "python",
   "name": "python3"
  },
  "language_info": {
   "codemirror_mode": {
    "name": "ipython",
    "version": 3
   },
   "file_extension": ".py",
   "mimetype": "text/x-python",
   "name": "python",
   "nbconvert_exporter": "python",
   "pygments_lexer": "ipython3",
   "version": "3.10.12"
  }
 },
 "nbformat": 4,
 "nbformat_minor": 2
}
