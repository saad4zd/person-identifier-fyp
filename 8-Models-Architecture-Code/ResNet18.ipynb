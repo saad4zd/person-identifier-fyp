{
 "cells": [
  {
   "cell_type": "markdown",
   "metadata": {},
   "source": [
    "### Importing Libraries"
   ]
  },
  {
   "cell_type": "code",
   "execution_count": 32,
   "metadata": {},
   "outputs": [],
   "source": [
    "import os\n",
    "import tensorflow as tf\n",
    "import matplotlib.pyplot as plt\n",
    "from tensorflow.keras.models import Model\n",
    "from tensorflow.keras.metrics import top_k_categorical_accuracy\n",
    "from tensorflow.keras.preprocessing.image import ImageDataGenerator\n",
    "from tensorflow.keras.callbacks import ModelCheckpoint, EarlyStopping, ReduceLROnPlateau\n",
    "from tensorflow.keras.layers import Conv2D, BatchNormalization, GlobalAveragePooling2D, Dense, Add, Flatten, MaxPool2D"
   ]
  },
  {
   "cell_type": "markdown",
   "metadata": {},
   "source": [
    "### Constants"
   ]
  },
  {
   "cell_type": "code",
   "execution_count": 33,
   "metadata": {},
   "outputs": [],
   "source": [
    "batch_size = 32\n",
    "num_classes = 124\n",
    "tf.random.set_seed(42)\n",
    "img_height, img_width = 128, 128\n",
    "data_dir = os.path.join(os.getcwd(), \"../5-Gait-Energy-Images\")"
   ]
  },
  {
   "cell_type": "markdown",
   "metadata": {},
   "source": [
    "### Training Data Augmentation"
   ]
  },
  {
   "cell_type": "code",
   "execution_count": 34,
   "metadata": {},
   "outputs": [],
   "source": [
    "train_datagen = ImageDataGenerator(\n",
    "    shear_range=0.2,\n",
    "    rescale=1.0 / 255,\n",
    "    rotation_range=20,\n",
    "    fill_mode=\"nearest\",\n",
    "    horizontal_flip=True,\n",
    "    zoom_range=[0.8, 1.2],\n",
    "    width_shift_range=0.2,\n",
    "    validation_split=0.15,\n",
    "    height_shift_range=0.2,\n",
    "    channel_shift_range=10,\n",
    "    brightness_range=[0.8, 1.2],\n",
    ")"
   ]
  },
  {
   "cell_type": "markdown",
   "metadata": {},
   "source": [
    "### Testing Data Augmentation"
   ]
  },
  {
   "cell_type": "code",
   "execution_count": 35,
   "metadata": {},
   "outputs": [],
   "source": [
    "test_datagen = ImageDataGenerator(rescale=1.0 / 255, validation_split=0.15)"
   ]
  },
  {
   "cell_type": "markdown",
   "metadata": {},
   "source": [
    "### Load and split data into training and testing sets"
   ]
  },
  {
   "cell_type": "code",
   "execution_count": 36,
   "metadata": {},
   "outputs": [
    {
     "name": "stdout",
     "output_type": "stream",
     "text": [
      "Found 11587 images belonging to 124 classes.\n",
      "Found 1974 images belonging to 124 classes.\n"
     ]
    }
   ],
   "source": [
    "train_generator = train_datagen.flow_from_directory(\n",
    "    data_dir,\n",
    "    seed=42,\n",
    "    shuffle=True,\n",
    "    subset=\"training\",\n",
    "    batch_size=batch_size,\n",
    "    color_mode=\"grayscale\",\n",
    "    class_mode=\"categorical\",\n",
    "    target_size=(img_height, img_width),\n",
    ")\n",
    "\n",
    "test_generator = test_datagen.flow_from_directory(\n",
    "    data_dir,\n",
    "    seed=42,\n",
    "    shuffle=False,\n",
    "    subset=\"validation\",\n",
    "    batch_size=batch_size,\n",
    "    color_mode=\"grayscale\",\n",
    "    class_mode=\"categorical\",\n",
    "    target_size=(img_height, img_width),\n",
    ")"
   ]
  },
  {
   "cell_type": "markdown",
   "metadata": {},
   "source": [
    "### ResNet18 Model"
   ]
  },
  {
   "cell_type": "code",
   "execution_count": 37,
   "metadata": {},
   "outputs": [],
   "source": [
    "class ResnetBlock(Model):\n",
    "    def __init__(self, channels: int, down_sample=False):\n",
    "        super().__init__()\n",
    "\n",
    "        self.__channels = channels\n",
    "        self.__down_sample = down_sample\n",
    "        self.__strides = [2, 1] if down_sample else [1, 1]\n",
    "\n",
    "        KERNEL_SIZE = (3, 3)\n",
    "        INIT_SCHEME = \"he_normal\"\n",
    "\n",
    "        self.conv_1 = Conv2D(self.__channels, strides=self.__strides[0],\n",
    "                             kernel_size=KERNEL_SIZE, padding=\"same\", kernel_initializer=INIT_SCHEME)\n",
    "        self.bn_1 = BatchNormalization()\n",
    "        self.conv_2 = Conv2D(self.__channels, strides=self.__strides[1],\n",
    "                             kernel_size=KERNEL_SIZE, padding=\"same\", kernel_initializer=INIT_SCHEME)\n",
    "        self.bn_2 = BatchNormalization()\n",
    "        self.merge = Add()\n",
    "\n",
    "        if self.__down_sample:\n",
    "            self.res_conv = Conv2D(\n",
    "                self.__channels, strides=2, kernel_size=(1, 1), kernel_initializer=INIT_SCHEME, padding=\"same\")\n",
    "            self.res_bn = BatchNormalization()\n",
    "\n",
    "    def call(self, inputs):\n",
    "        res = inputs\n",
    "\n",
    "        x = self.conv_1(inputs)\n",
    "        x = self.bn_1(x)\n",
    "        x = tf.nn.relu(x)\n",
    "        x = self.conv_2(x)\n",
    "        x = self.bn_2(x)\n",
    "\n",
    "        if self.__down_sample:\n",
    "            res = self.res_conv(res)\n",
    "            res = self.res_bn(res)\n",
    "\n",
    "        x = self.merge([x, res])\n",
    "        out = tf.nn.relu(x)\n",
    "        return out\n",
    "\n",
    "\n",
    "class ResNet18(Model):\n",
    "\n",
    "    def __init__(self, num_classes, **kwargs):\n",
    "        super().__init__(**kwargs)\n",
    "        self.conv_1 = Conv2D(64, (7, 7), strides=2,\n",
    "                             padding=\"same\", kernel_initializer=\"he_normal\")\n",
    "        self.init_bn = BatchNormalization()\n",
    "        self.pool_2 = MaxPool2D(pool_size=(2, 2), strides=2, padding=\"same\")\n",
    "        self.res_1_1 = ResnetBlock(64)\n",
    "        self.res_1_2 = ResnetBlock(64)\n",
    "        self.res_2_1 = ResnetBlock(128, down_sample=True)\n",
    "        self.res_2_2 = ResnetBlock(128)\n",
    "        self.res_3_1 = ResnetBlock(256, down_sample=True)\n",
    "        self.res_3_2 = ResnetBlock(256)\n",
    "        self.res_4_1 = ResnetBlock(512, down_sample=True)\n",
    "        self.res_4_2 = ResnetBlock(512)\n",
    "        self.avg_pool = GlobalAveragePooling2D()\n",
    "        self.flat = Flatten()\n",
    "        self.fc = Dense(num_classes, activation=\"softmax\")\n",
    "\n",
    "    def call(self, inputs):\n",
    "        out = self.conv_1(inputs)\n",
    "        out = self.init_bn(out)\n",
    "        out = tf.nn.relu(out)\n",
    "        out = self.pool_2(out)\n",
    "        for res_block in [self.res_1_1, self.res_1_2, self.res_2_1, self.res_2_2, self.res_3_1, self.res_3_2, self.res_4_1, self.res_4_2]:\n",
    "            out = res_block(out)\n",
    "        out = self.avg_pool(out)\n",
    "        out = self.flat(out)\n",
    "        out = self.fc(out)\n",
    "        return out"
   ]
  },
  {
   "cell_type": "markdown",
   "metadata": {},
   "source": [
    "### Create the model"
   ]
  },
  {
   "cell_type": "code",
   "execution_count": 38,
   "metadata": {},
   "outputs": [
    {
     "name": "stdout",
     "output_type": "stream",
     "text": [
      "WARNING:tensorflow:AutoGraph could not transform <bound method ResnetBlock.call of <__main__.ResnetBlock object at 0x7f2c62adb160>> and will run it as-is.\n",
      "Cause: mangled names are not yet supported\n",
      "To silence this warning, decorate the function with @tf.autograph.experimental.do_not_convert\n"
     ]
    },
    {
     "name": "stderr",
     "output_type": "stream",
     "text": [
      "WARNING:tensorflow:AutoGraph could not transform <bound method ResnetBlock.call of <__main__.ResnetBlock object at 0x7f2c62adb160>> and will run it as-is.\n",
      "Cause: mangled names are not yet supported\n",
      "To silence this warning, decorate the function with @tf.autograph.experimental.do_not_convert\n"
     ]
    },
    {
     "name": "stdout",
     "output_type": "stream",
     "text": [
      "WARNING: AutoGraph could not transform <bound method ResnetBlock.call of <__main__.ResnetBlock object at 0x7f2c62adb160>> and will run it as-is.\n",
      "Cause: mangled names are not yet supported\n",
      "To silence this warning, decorate the function with @tf.autograph.experimental.do_not_convert\n"
     ]
    }
   ],
   "source": [
    "model = ResNet18(124)\n",
    "model.build(input_shape =(None, 128,128,1))"
   ]
  },
  {
   "cell_type": "markdown",
   "metadata": {},
   "source": [
    "### Define Top k Accuracy Function"
   ]
  },
  {
   "cell_type": "code",
   "execution_count": 39,
   "metadata": {},
   "outputs": [],
   "source": [
    "def top_5_accuracy(y_true, y_pred):\n",
    "    return top_k_categorical_accuracy(y_true, y_pred, k=5)"
   ]
  },
  {
   "cell_type": "markdown",
   "metadata": {},
   "source": [
    "### Compile the model"
   ]
  },
  {
   "cell_type": "code",
   "execution_count": 40,
   "metadata": {},
   "outputs": [],
   "source": [
    "model.compile(optimizer='adam', loss='categorical_crossentropy',\n",
    "              metrics=['acc', top_5_accuracy])"
   ]
  },
  {
   "cell_type": "markdown",
   "metadata": {},
   "source": [
    "### Define the Callbacks"
   ]
  },
  {
   "cell_type": "code",
   "execution_count": 41,
   "metadata": {},
   "outputs": [],
   "source": [
    "checkpoint = ModelCheckpoint(\n",
    "    \"best_model.x\", monitor='val_acc', save_best_only=True, mode='max')\n",
    "early_stopping = EarlyStopping(\n",
    "    monitor='val_acc', patience=30, restore_best_weights=True)\n",
    "reduce_lr = ReduceLROnPlateau(\n",
    "    monitor='val_acc', factor=0.1, patience=5, min_lr=1e-7)"
   ]
  },
  {
   "cell_type": "markdown",
   "metadata": {},
   "source": [
    "### Train the model"
   ]
  },
  {
   "cell_type": "code",
   "execution_count": 42,
   "metadata": {},
   "outputs": [
    {
     "name": "stdout",
     "output_type": "stream",
     "text": [
      "Epoch 1/500\n",
      "363/363 [==============================] - ETA: 0s - loss: 4.6731 - acc: 0.0320 - top_5_accuracy: 0.1152INFO:tensorflow:Assets written to: best_model.x/assets\n"
     ]
    },
    {
     "name": "stderr",
     "output_type": "stream",
     "text": [
      "INFO:tensorflow:Assets written to: best_model.x/assets\n"
     ]
    },
    {
     "name": "stdout",
     "output_type": "stream",
     "text": [
      "363/363 [==============================] - 109s 280ms/step - loss: 4.6731 - acc: 0.0320 - top_5_accuracy: 0.1152 - val_loss: 7.1313 - val_acc: 0.0193 - val_top_5_accuracy: 0.0755 - lr: 0.0010\n",
      "Epoch 2/500\n",
      "363/363 [==============================] - ETA: 0s - loss: 4.0108 - acc: 0.0810 - top_5_accuracy: 0.2541INFO:tensorflow:Assets written to: best_model.x/assets\n"
     ]
    },
    {
     "name": "stderr",
     "output_type": "stream",
     "text": [
      "INFO:tensorflow:Assets written to: best_model.x/assets\n"
     ]
    },
    {
     "name": "stdout",
     "output_type": "stream",
     "text": [
      "363/363 [==============================] - 98s 268ms/step - loss: 4.0108 - acc: 0.0810 - top_5_accuracy: 0.2541 - val_loss: 4.9959 - val_acc: 0.0572 - val_top_5_accuracy: 0.1935 - lr: 0.0010\n",
      "Epoch 3/500\n",
      "363/363 [==============================] - ETA: 0s - loss: 3.6251 - acc: 0.1276 - top_5_accuracy: 0.3588INFO:tensorflow:Assets written to: best_model.x/assets\n"
     ]
    },
    {
     "name": "stderr",
     "output_type": "stream",
     "text": [
      "INFO:tensorflow:Assets written to: best_model.x/assets\n"
     ]
    },
    {
     "name": "stdout",
     "output_type": "stream",
     "text": [
      "363/363 [==============================] - 97s 264ms/step - loss: 3.6251 - acc: 0.1276 - top_5_accuracy: 0.3588 - val_loss: 3.8379 - val_acc: 0.1165 - val_top_5_accuracy: 0.3485 - lr: 0.0010\n",
      "Epoch 4/500\n",
      "363/363 [==============================] - 89s 242ms/step - loss: 3.2959 - acc: 0.1812 - top_5_accuracy: 0.4457 - val_loss: 7.0338 - val_acc: 0.0395 - val_top_5_accuracy: 0.1206 - lr: 0.0010\n",
      "Epoch 5/500\n",
      "363/363 [==============================] - ETA: 0s - loss: 2.9871 - acc: 0.2305 - top_5_accuracy: 0.5320INFO:tensorflow:Assets written to: best_model.x/assets\n"
     ]
    },
    {
     "name": "stderr",
     "output_type": "stream",
     "text": [
      "INFO:tensorflow:Assets written to: best_model.x/assets\n"
     ]
    },
    {
     "name": "stdout",
     "output_type": "stream",
     "text": [
      "363/363 [==============================] - 97s 265ms/step - loss: 2.9871 - acc: 0.2305 - top_5_accuracy: 0.5320 - val_loss: 3.7468 - val_acc: 0.1727 - val_top_5_accuracy: 0.3982 - lr: 0.0010\n",
      "Epoch 6/500\n",
      "363/363 [==============================] - 88s 240ms/step - loss: 2.7004 - acc: 0.2837 - top_5_accuracy: 0.6041 - val_loss: 8.1586 - val_acc: 0.0542 - val_top_5_accuracy: 0.1530 - lr: 0.0010\n",
      "Epoch 7/500\n",
      "363/363 [==============================] - ETA: 0s - loss: 2.4273 - acc: 0.3456 - top_5_accuracy: 0.6703INFO:tensorflow:Assets written to: best_model.x/assets\n"
     ]
    },
    {
     "name": "stderr",
     "output_type": "stream",
     "text": [
      "INFO:tensorflow:Assets written to: best_model.x/assets\n"
     ]
    },
    {
     "name": "stdout",
     "output_type": "stream",
     "text": [
      "363/363 [==============================] - 96s 262ms/step - loss: 2.4273 - acc: 0.3456 - top_5_accuracy: 0.6703 - val_loss: 3.3966 - val_acc: 0.2163 - val_top_5_accuracy: 0.4737 - lr: 0.0010\n",
      "Epoch 8/500\n",
      "363/363 [==============================] - ETA: 0s - loss: 2.1841 - acc: 0.3910 - top_5_accuracy: 0.7314INFO:tensorflow:Assets written to: best_model.x/assets\n"
     ]
    },
    {
     "name": "stderr",
     "output_type": "stream",
     "text": [
      "INFO:tensorflow:Assets written to: best_model.x/assets\n"
     ]
    },
    {
     "name": "stdout",
     "output_type": "stream",
     "text": [
      "363/363 [==============================] - 96s 263ms/step - loss: 2.1841 - acc: 0.3910 - top_5_accuracy: 0.7314 - val_loss: 3.0897 - val_acc: 0.2584 - val_top_5_accuracy: 0.5537 - lr: 0.0010\n",
      "Epoch 9/500\n",
      "363/363 [==============================] - ETA: 0s - loss: 1.9868 - acc: 0.4448 - top_5_accuracy: 0.7715INFO:tensorflow:Assets written to: best_model.x/assets\n"
     ]
    },
    {
     "name": "stderr",
     "output_type": "stream",
     "text": [
      "INFO:tensorflow:Assets written to: best_model.x/assets\n"
     ]
    },
    {
     "name": "stdout",
     "output_type": "stream",
     "text": [
      "363/363 [==============================] - 97s 266ms/step - loss: 1.9868 - acc: 0.4448 - top_5_accuracy: 0.7715 - val_loss: 3.0048 - val_acc: 0.2969 - val_top_5_accuracy: 0.6353 - lr: 0.0010\n",
      "Epoch 10/500\n",
      "363/363 [==============================] - ETA: 0s - loss: 1.7891 - acc: 0.4902 - top_5_accuracy: 0.8058INFO:tensorflow:Assets written to: best_model.x/assets\n"
     ]
    },
    {
     "name": "stderr",
     "output_type": "stream",
     "text": [
      "INFO:tensorflow:Assets written to: best_model.x/assets\n"
     ]
    },
    {
     "name": "stdout",
     "output_type": "stream",
     "text": [
      "363/363 [==============================] - 97s 265ms/step - loss: 1.7891 - acc: 0.4902 - top_5_accuracy: 0.8058 - val_loss: 3.0540 - val_acc: 0.3207 - val_top_5_accuracy: 0.5922 - lr: 0.0010\n",
      "Epoch 11/500\n",
      "363/363 [==============================] - ETA: 0s - loss: 1.6030 - acc: 0.5361 - top_5_accuracy: 0.8443INFO:tensorflow:Assets written to: best_model.x/assets\n"
     ]
    },
    {
     "name": "stderr",
     "output_type": "stream",
     "text": [
      "INFO:tensorflow:Assets written to: best_model.x/assets\n"
     ]
    },
    {
     "name": "stdout",
     "output_type": "stream",
     "text": [
      "363/363 [==============================] - 97s 265ms/step - loss: 1.6030 - acc: 0.5361 - top_5_accuracy: 0.8443 - val_loss: 2.4760 - val_acc: 0.3632 - val_top_5_accuracy: 0.6945 - lr: 0.0010\n",
      "Epoch 12/500\n",
      "363/363 [==============================] - 88s 242ms/step - loss: 1.4575 - acc: 0.5703 - top_5_accuracy: 0.8724 - val_loss: 9.5519 - val_acc: 0.0770 - val_top_5_accuracy: 0.1748 - lr: 0.0010\n",
      "Epoch 13/500\n",
      "363/363 [==============================] - 88s 241ms/step - loss: 1.3380 - acc: 0.6074 - top_5_accuracy: 0.8872 - val_loss: 5.7029 - val_acc: 0.1727 - val_top_5_accuracy: 0.4549 - lr: 0.0010\n",
      "Epoch 14/500\n",
      "363/363 [==============================] - 89s 242ms/step - loss: 1.2022 - acc: 0.6405 - top_5_accuracy: 0.9046 - val_loss: 3.3794 - val_acc: 0.2908 - val_top_5_accuracy: 0.5947 - lr: 0.0010\n",
      "Epoch 15/500\n",
      "363/363 [==============================] - ETA: 0s - loss: 1.1258 - acc: 0.6638 - top_5_accuracy: 0.9152INFO:tensorflow:Assets written to: best_model.x/assets\n"
     ]
    },
    {
     "name": "stderr",
     "output_type": "stream",
     "text": [
      "INFO:tensorflow:Assets written to: best_model.x/assets\n"
     ]
    },
    {
     "name": "stdout",
     "output_type": "stream",
     "text": [
      "363/363 [==============================] - 98s 267ms/step - loss: 1.1258 - acc: 0.6638 - top_5_accuracy: 0.9152 - val_loss: 3.0530 - val_acc: 0.3708 - val_top_5_accuracy: 0.6636 - lr: 0.0010\n",
      "Epoch 16/500\n",
      "363/363 [==============================] - 89s 243ms/step - loss: 1.0141 - acc: 0.6944 - top_5_accuracy: 0.9311 - val_loss: 3.8178 - val_acc: 0.3065 - val_top_5_accuracy: 0.5968 - lr: 0.0010\n",
      "Epoch 17/500\n",
      "363/363 [==============================] - ETA: 0s - loss: 0.9295 - acc: 0.7149 - top_5_accuracy: 0.9411INFO:tensorflow:Assets written to: best_model.x/assets\n"
     ]
    },
    {
     "name": "stderr",
     "output_type": "stream",
     "text": [
      "INFO:tensorflow:Assets written to: best_model.x/assets\n"
     ]
    },
    {
     "name": "stdout",
     "output_type": "stream",
     "text": [
      "363/363 [==============================] - 97s 266ms/step - loss: 0.9295 - acc: 0.7149 - top_5_accuracy: 0.9411 - val_loss: 2.6713 - val_acc: 0.4149 - val_top_5_accuracy: 0.7543 - lr: 0.0010\n",
      "Epoch 18/500\n",
      "363/363 [==============================] - ETA: 0s - loss: 0.8681 - acc: 0.7356 - top_5_accuracy: 0.9479INFO:tensorflow:Assets written to: best_model.x/assets\n"
     ]
    },
    {
     "name": "stderr",
     "output_type": "stream",
     "text": [
      "INFO:tensorflow:Assets written to: best_model.x/assets\n"
     ]
    },
    {
     "name": "stdout",
     "output_type": "stream",
     "text": [
      "363/363 [==============================] - 97s 265ms/step - loss: 0.8681 - acc: 0.7356 - top_5_accuracy: 0.9479 - val_loss: 1.4576 - val_acc: 0.5988 - val_top_5_accuracy: 0.8850 - lr: 0.0010\n",
      "Epoch 19/500\n",
      "363/363 [==============================] - 89s 244ms/step - loss: 0.8219 - acc: 0.7435 - top_5_accuracy: 0.9534 - val_loss: 6.8264 - val_acc: 0.1651 - val_top_5_accuracy: 0.3501 - lr: 0.0010\n",
      "Epoch 20/500\n",
      "363/363 [==============================] - 88s 240ms/step - loss: 0.7400 - acc: 0.7718 - top_5_accuracy: 0.9614 - val_loss: 2.6433 - val_acc: 0.4448 - val_top_5_accuracy: 0.7584 - lr: 0.0010\n",
      "Epoch 21/500\n",
      "363/363 [==============================] - 89s 242ms/step - loss: 0.6943 - acc: 0.7863 - top_5_accuracy: 0.9680 - val_loss: 2.7314 - val_acc: 0.3779 - val_top_5_accuracy: 0.7406 - lr: 0.0010\n",
      "Epoch 22/500\n",
      "363/363 [==============================] - 89s 243ms/step - loss: 0.6670 - acc: 0.7880 - top_5_accuracy: 0.9705 - val_loss: 3.8432 - val_acc: 0.3678 - val_top_5_accuracy: 0.6707 - lr: 0.0010\n",
      "Epoch 23/500\n",
      "363/363 [==============================] - 89s 243ms/step - loss: 0.6045 - acc: 0.8147 - top_5_accuracy: 0.9713 - val_loss: 1.8159 - val_acc: 0.5775 - val_top_5_accuracy: 0.8501 - lr: 0.0010\n",
      "Epoch 24/500\n",
      "363/363 [==============================] - ETA: 0s - loss: 0.3865 - acc: 0.8811 - top_5_accuracy: 0.9885INFO:tensorflow:Assets written to: best_model.x/assets\n"
     ]
    },
    {
     "name": "stderr",
     "output_type": "stream",
     "text": [
      "INFO:tensorflow:Assets written to: best_model.x/assets\n"
     ]
    },
    {
     "name": "stdout",
     "output_type": "stream",
     "text": [
      "363/363 [==============================] - 98s 268ms/step - loss: 0.3865 - acc: 0.8811 - top_5_accuracy: 0.9885 - val_loss: 1.1069 - val_acc: 0.6940 - val_top_5_accuracy: 0.9225 - lr: 1.0000e-04\n",
      "Epoch 25/500\n",
      "363/363 [==============================] - ETA: 0s - loss: 0.3087 - acc: 0.9121 - top_5_accuracy: 0.9921INFO:tensorflow:Assets written to: best_model.x/assets\n"
     ]
    },
    {
     "name": "stderr",
     "output_type": "stream",
     "text": [
      "INFO:tensorflow:Assets written to: best_model.x/assets\n"
     ]
    },
    {
     "name": "stdout",
     "output_type": "stream",
     "text": [
      "363/363 [==============================] - 98s 268ms/step - loss: 0.3087 - acc: 0.9121 - top_5_accuracy: 0.9921 - val_loss: 0.9180 - val_acc: 0.7548 - val_top_5_accuracy: 0.9367 - lr: 1.0000e-04\n",
      "Epoch 26/500\n",
      "363/363 [==============================] - 88s 242ms/step - loss: 0.2848 - acc: 0.9179 - top_5_accuracy: 0.9935 - val_loss: 0.9020 - val_acc: 0.7528 - val_top_5_accuracy: 0.9433 - lr: 1.0000e-04\n",
      "Epoch 27/500\n",
      "363/363 [==============================] - 90s 245ms/step - loss: 0.2681 - acc: 0.9208 - top_5_accuracy: 0.9939 - val_loss: 1.7635 - val_acc: 0.5841 - val_top_5_accuracy: 0.8556 - lr: 1.0000e-04\n",
      "Epoch 28/500\n",
      "363/363 [==============================] - ETA: 0s - loss: 0.2429 - acc: 0.9318 - top_5_accuracy: 0.9956INFO:tensorflow:Assets written to: best_model.x/assets\n"
     ]
    },
    {
     "name": "stderr",
     "output_type": "stream",
     "text": [
      "INFO:tensorflow:Assets written to: best_model.x/assets\n"
     ]
    },
    {
     "name": "stdout",
     "output_type": "stream",
     "text": [
      "363/363 [==============================] - 98s 267ms/step - loss: 0.2429 - acc: 0.9318 - top_5_accuracy: 0.9956 - val_loss: 0.8217 - val_acc: 0.7801 - val_top_5_accuracy: 0.9519 - lr: 1.0000e-04\n",
      "Epoch 29/500\n",
      "363/363 [==============================] - 89s 242ms/step - loss: 0.2382 - acc: 0.9337 - top_5_accuracy: 0.9950 - val_loss: 1.1336 - val_acc: 0.7118 - val_top_5_accuracy: 0.9174 - lr: 1.0000e-04\n",
      "Epoch 30/500\n",
      "363/363 [==============================] - 89s 243ms/step - loss: 0.2338 - acc: 0.9310 - top_5_accuracy: 0.9957 - val_loss: 0.8118 - val_acc: 0.7796 - val_top_5_accuracy: 0.9534 - lr: 1.0000e-04\n",
      "Epoch 31/500\n",
      "363/363 [==============================] - 89s 243ms/step - loss: 0.2267 - acc: 0.9340 - top_5_accuracy: 0.9954 - val_loss: 1.9174 - val_acc: 0.5578 - val_top_5_accuracy: 0.8384 - lr: 1.0000e-04\n",
      "Epoch 32/500\n",
      "363/363 [==============================] - ETA: 0s - loss: 0.2120 - acc: 0.9380 - top_5_accuracy: 0.9953INFO:tensorflow:Assets written to: best_model.x/assets\n"
     ]
    },
    {
     "name": "stderr",
     "output_type": "stream",
     "text": [
      "INFO:tensorflow:Assets written to: best_model.x/assets\n"
     ]
    },
    {
     "name": "stdout",
     "output_type": "stream",
     "text": [
      "363/363 [==============================] - 102s 277ms/step - loss: 0.2120 - acc: 0.9380 - top_5_accuracy: 0.9953 - val_loss: 0.7882 - val_acc: 0.7893 - val_top_5_accuracy: 0.9569 - lr: 1.0000e-04\n",
      "Epoch 33/500\n",
      "363/363 [==============================] - 89s 243ms/step - loss: 0.2104 - acc: 0.9382 - top_5_accuracy: 0.9950 - val_loss: 1.0674 - val_acc: 0.7259 - val_top_5_accuracy: 0.9286 - lr: 1.0000e-04\n",
      "Epoch 34/500\n",
      "363/363 [==============================] - ETA: 0s - loss: 0.1996 - acc: 0.9445 - top_5_accuracy: 0.9973INFO:tensorflow:Assets written to: best_model.x/assets\n"
     ]
    },
    {
     "name": "stderr",
     "output_type": "stream",
     "text": [
      "INFO:tensorflow:Assets written to: best_model.x/assets\n"
     ]
    },
    {
     "name": "stdout",
     "output_type": "stream",
     "text": [
      "363/363 [==============================] - 98s 269ms/step - loss: 0.1996 - acc: 0.9445 - top_5_accuracy: 0.9973 - val_loss: 0.7551 - val_acc: 0.7994 - val_top_5_accuracy: 0.9544 - lr: 1.0000e-04\n",
      "Epoch 35/500\n",
      "363/363 [==============================] - ETA: 0s - loss: 0.1963 - acc: 0.9457 - top_5_accuracy: 0.9967INFO:tensorflow:Assets written to: best_model.x/assets\n"
     ]
    },
    {
     "name": "stderr",
     "output_type": "stream",
     "text": [
      "INFO:tensorflow:Assets written to: best_model.x/assets\n"
     ]
    },
    {
     "name": "stdout",
     "output_type": "stream",
     "text": [
      "363/363 [==============================] - 98s 267ms/step - loss: 0.1963 - acc: 0.9457 - top_5_accuracy: 0.9967 - val_loss: 0.7287 - val_acc: 0.7999 - val_top_5_accuracy: 0.9595 - lr: 1.0000e-04\n",
      "Epoch 36/500\n",
      "363/363 [==============================] - ETA: 0s - loss: 0.1866 - acc: 0.9455 - top_5_accuracy: 0.9975INFO:tensorflow:Assets written to: best_model.x/assets\n"
     ]
    },
    {
     "name": "stderr",
     "output_type": "stream",
     "text": [
      "INFO:tensorflow:Assets written to: best_model.x/assets\n"
     ]
    },
    {
     "name": "stdout",
     "output_type": "stream",
     "text": [
      "363/363 [==============================] - 97s 267ms/step - loss: 0.1866 - acc: 0.9455 - top_5_accuracy: 0.9975 - val_loss: 0.7594 - val_acc: 0.8004 - val_top_5_accuracy: 0.9605 - lr: 1.0000e-04\n",
      "Epoch 37/500\n",
      "363/363 [==============================] - 89s 244ms/step - loss: 0.1828 - acc: 0.9477 - top_5_accuracy: 0.9972 - val_loss: 0.7663 - val_acc: 0.7964 - val_top_5_accuracy: 0.9580 - lr: 1.0000e-04\n",
      "Epoch 38/500\n",
      "363/363 [==============================] - 88s 241ms/step - loss: 0.1789 - acc: 0.9502 - top_5_accuracy: 0.9970 - val_loss: 0.8005 - val_acc: 0.7877 - val_top_5_accuracy: 0.9519 - lr: 1.0000e-04\n",
      "Epoch 39/500\n",
      "363/363 [==============================] - ETA: 0s - loss: 0.1744 - acc: 0.9484 - top_5_accuracy: 0.9972INFO:tensorflow:Assets written to: best_model.x/assets\n"
     ]
    },
    {
     "name": "stderr",
     "output_type": "stream",
     "text": [
      "INFO:tensorflow:Assets written to: best_model.x/assets\n"
     ]
    },
    {
     "name": "stdout",
     "output_type": "stream",
     "text": [
      "363/363 [==============================] - 98s 267ms/step - loss: 0.1744 - acc: 0.9484 - top_5_accuracy: 0.9972 - val_loss: 0.7543 - val_acc: 0.8040 - val_top_5_accuracy: 0.9580 - lr: 1.0000e-04\n",
      "Epoch 40/500\n",
      "363/363 [==============================] - ETA: 0s - loss: 0.1627 - acc: 0.9526 - top_5_accuracy: 0.9972INFO:tensorflow:Assets written to: best_model.x/assets\n"
     ]
    },
    {
     "name": "stderr",
     "output_type": "stream",
     "text": [
      "INFO:tensorflow:Assets written to: best_model.x/assets\n"
     ]
    },
    {
     "name": "stdout",
     "output_type": "stream",
     "text": [
      "363/363 [==============================] - 98s 268ms/step - loss: 0.1627 - acc: 0.9526 - top_5_accuracy: 0.9972 - val_loss: 0.7545 - val_acc: 0.8121 - val_top_5_accuracy: 0.9585 - lr: 1.0000e-04\n",
      "Epoch 41/500\n",
      "363/363 [==============================] - 90s 246ms/step - loss: 0.1579 - acc: 0.9541 - top_5_accuracy: 0.9974 - val_loss: 1.0362 - val_acc: 0.7361 - val_top_5_accuracy: 0.9372 - lr: 1.0000e-04\n",
      "Epoch 42/500\n",
      "363/363 [==============================] - 90s 244ms/step - loss: 0.1593 - acc: 0.9555 - top_5_accuracy: 0.9981 - val_loss: 0.9695 - val_acc: 0.7477 - val_top_5_accuracy: 0.9367 - lr: 1.0000e-04\n",
      "Epoch 43/500\n",
      "363/363 [==============================] - ETA: 0s - loss: 0.1560 - acc: 0.9546 - top_5_accuracy: 0.9983INFO:tensorflow:Assets written to: best_model.x/assets\n"
     ]
    },
    {
     "name": "stderr",
     "output_type": "stream",
     "text": [
      "INFO:tensorflow:Assets written to: best_model.x/assets\n"
     ]
    },
    {
     "name": "stdout",
     "output_type": "stream",
     "text": [
      "363/363 [==============================] - 99s 271ms/step - loss: 0.1560 - acc: 0.9546 - top_5_accuracy: 0.9983 - val_loss: 0.7158 - val_acc: 0.8151 - val_top_5_accuracy: 0.9645 - lr: 1.0000e-04\n",
      "Epoch 44/500\n",
      "363/363 [==============================] - 89s 244ms/step - loss: 0.1466 - acc: 0.9578 - top_5_accuracy: 0.9979 - val_loss: 0.7302 - val_acc: 0.8060 - val_top_5_accuracy: 0.9640 - lr: 1.0000e-04\n",
      "Epoch 45/500\n",
      "363/363 [==============================] - 88s 242ms/step - loss: 0.1528 - acc: 0.9563 - top_5_accuracy: 0.9973 - val_loss: 0.7391 - val_acc: 0.8095 - val_top_5_accuracy: 0.9635 - lr: 1.0000e-04\n",
      "Epoch 46/500\n",
      "363/363 [==============================] - ETA: 0s - loss: 0.1505 - acc: 0.9570 - top_5_accuracy: 0.9978INFO:tensorflow:Assets written to: best_model.x/assets\n"
     ]
    },
    {
     "name": "stderr",
     "output_type": "stream",
     "text": [
      "INFO:tensorflow:Assets written to: best_model.x/assets\n"
     ]
    },
    {
     "name": "stdout",
     "output_type": "stream",
     "text": [
      "363/363 [==============================] - 98s 268ms/step - loss: 0.1505 - acc: 0.9570 - top_5_accuracy: 0.9978 - val_loss: 0.7030 - val_acc: 0.8156 - val_top_5_accuracy: 0.9666 - lr: 1.0000e-04\n",
      "Epoch 47/500\n",
      "363/363 [==============================] - 89s 243ms/step - loss: 0.1479 - acc: 0.9562 - top_5_accuracy: 0.9980 - val_loss: 0.7755 - val_acc: 0.8045 - val_top_5_accuracy: 0.9574 - lr: 1.0000e-04\n",
      "Epoch 48/500\n",
      "363/363 [==============================] - 89s 243ms/step - loss: 0.1474 - acc: 0.9575 - top_5_accuracy: 0.9986 - val_loss: 0.8870 - val_acc: 0.7766 - val_top_5_accuracy: 0.9438 - lr: 1.0000e-04\n",
      "Epoch 49/500\n",
      "363/363 [==============================] - 89s 242ms/step - loss: 0.1337 - acc: 0.9634 - top_5_accuracy: 0.9980 - val_loss: 0.9913 - val_acc: 0.7477 - val_top_5_accuracy: 0.9367 - lr: 1.0000e-04\n",
      "Epoch 50/500\n",
      "363/363 [==============================] - 89s 243ms/step - loss: 0.1390 - acc: 0.9592 - top_5_accuracy: 0.9980 - val_loss: 0.8152 - val_acc: 0.7958 - val_top_5_accuracy: 0.9554 - lr: 1.0000e-04\n",
      "Epoch 51/500\n",
      "363/363 [==============================] - ETA: 0s - loss: 0.1378 - acc: 0.9587 - top_5_accuracy: 0.9982INFO:tensorflow:Assets written to: best_model.x/assets\n"
     ]
    },
    {
     "name": "stderr",
     "output_type": "stream",
     "text": [
      "INFO:tensorflow:Assets written to: best_model.x/assets\n"
     ]
    },
    {
     "name": "stdout",
     "output_type": "stream",
     "text": [
      "363/363 [==============================] - 98s 267ms/step - loss: 0.1378 - acc: 0.9587 - top_5_accuracy: 0.9982 - val_loss: 0.6640 - val_acc: 0.8278 - val_top_5_accuracy: 0.9650 - lr: 1.0000e-04\n",
      "Epoch 52/500\n",
      "363/363 [==============================] - 89s 243ms/step - loss: 0.1374 - acc: 0.9621 - top_5_accuracy: 0.9979 - val_loss: 1.3260 - val_acc: 0.6717 - val_top_5_accuracy: 0.9083 - lr: 1.0000e-04\n",
      "Epoch 53/500\n",
      "363/363 [==============================] - 89s 244ms/step - loss: 0.1313 - acc: 0.9627 - top_5_accuracy: 0.9976 - val_loss: 2.0789 - val_acc: 0.5360 - val_top_5_accuracy: 0.8328 - lr: 1.0000e-04\n",
      "Epoch 54/500\n",
      "363/363 [==============================] - 90s 246ms/step - loss: 0.1228 - acc: 0.9648 - top_5_accuracy: 0.9989 - val_loss: 0.6785 - val_acc: 0.8227 - val_top_5_accuracy: 0.9650 - lr: 1.0000e-04\n",
      "Epoch 55/500\n",
      "363/363 [==============================] - 90s 244ms/step - loss: 0.1210 - acc: 0.9656 - top_5_accuracy: 0.9983 - val_loss: 0.9403 - val_acc: 0.7548 - val_top_5_accuracy: 0.9448 - lr: 1.0000e-04\n",
      "Epoch 56/500\n",
      "363/363 [==============================] - 90s 245ms/step - loss: 0.1200 - acc: 0.9662 - top_5_accuracy: 0.9986 - val_loss: 0.9916 - val_acc: 0.7452 - val_top_5_accuracy: 0.9392 - lr: 1.0000e-04\n",
      "Epoch 57/500\n",
      "363/363 [==============================] - 90s 245ms/step - loss: 0.1092 - acc: 0.9697 - top_5_accuracy: 0.9984 - val_loss: 0.7322 - val_acc: 0.8161 - val_top_5_accuracy: 0.9595 - lr: 1.0000e-05\n",
      "Epoch 58/500\n",
      "363/363 [==============================] - 90s 246ms/step - loss: 0.1028 - acc: 0.9726 - top_5_accuracy: 0.9988 - val_loss: 0.6961 - val_acc: 0.8242 - val_top_5_accuracy: 0.9595 - lr: 1.0000e-05\n",
      "Epoch 59/500\n",
      "363/363 [==============================] - 90s 246ms/step - loss: 0.1024 - acc: 0.9741 - top_5_accuracy: 0.9986 - val_loss: 0.7389 - val_acc: 0.8126 - val_top_5_accuracy: 0.9585 - lr: 1.0000e-05\n",
      "Epoch 60/500\n",
      "363/363 [==============================] - 90s 244ms/step - loss: 0.1035 - acc: 0.9727 - top_5_accuracy: 0.9991 - val_loss: 0.7320 - val_acc: 0.8202 - val_top_5_accuracy: 0.9590 - lr: 1.0000e-05\n",
      "Epoch 61/500\n",
      "363/363 [==============================] - 89s 244ms/step - loss: 0.1028 - acc: 0.9721 - top_5_accuracy: 0.9988 - val_loss: 0.7324 - val_acc: 0.8141 - val_top_5_accuracy: 0.9574 - lr: 1.0000e-05\n",
      "Epoch 62/500\n",
      "363/363 [==============================] - 90s 245ms/step - loss: 0.0993 - acc: 0.9730 - top_5_accuracy: 0.9988 - val_loss: 0.7180 - val_acc: 0.8222 - val_top_5_accuracy: 0.9600 - lr: 1.0000e-06\n",
      "Epoch 63/500\n",
      "363/363 [==============================] - 90s 245ms/step - loss: 0.0940 - acc: 0.9755 - top_5_accuracy: 0.9992 - val_loss: 0.7191 - val_acc: 0.8207 - val_top_5_accuracy: 0.9610 - lr: 1.0000e-06\n",
      "Epoch 64/500\n",
      "363/363 [==============================] - 89s 244ms/step - loss: 0.1040 - acc: 0.9719 - top_5_accuracy: 0.9985 - val_loss: 0.7210 - val_acc: 0.8191 - val_top_5_accuracy: 0.9600 - lr: 1.0000e-06\n",
      "Epoch 65/500\n",
      "363/363 [==============================] - 90s 245ms/step - loss: 0.0959 - acc: 0.9751 - top_5_accuracy: 0.9994 - val_loss: 0.7174 - val_acc: 0.8207 - val_top_5_accuracy: 0.9610 - lr: 1.0000e-06\n",
      "Epoch 66/500\n",
      "363/363 [==============================] - 90s 245ms/step - loss: 0.1011 - acc: 0.9713 - top_5_accuracy: 0.9990 - val_loss: 0.7196 - val_acc: 0.8212 - val_top_5_accuracy: 0.9615 - lr: 1.0000e-06\n",
      "Epoch 67/500\n",
      "363/363 [==============================] - 90s 246ms/step - loss: 0.1003 - acc: 0.9737 - top_5_accuracy: 0.9987 - val_loss: 0.7094 - val_acc: 0.8232 - val_top_5_accuracy: 0.9605 - lr: 1.0000e-07\n",
      "Epoch 68/500\n",
      "363/363 [==============================] - 90s 246ms/step - loss: 0.0970 - acc: 0.9752 - top_5_accuracy: 0.9991 - val_loss: 0.7204 - val_acc: 0.8202 - val_top_5_accuracy: 0.9590 - lr: 1.0000e-07\n",
      "Epoch 69/500\n",
      "363/363 [==============================] - 90s 245ms/step - loss: 0.1001 - acc: 0.9731 - top_5_accuracy: 0.9994 - val_loss: 0.7135 - val_acc: 0.8232 - val_top_5_accuracy: 0.9600 - lr: 1.0000e-07\n",
      "Epoch 70/500\n",
      "363/363 [==============================] - 90s 246ms/step - loss: 0.1012 - acc: 0.9719 - top_5_accuracy: 0.9993 - val_loss: 0.7073 - val_acc: 0.8222 - val_top_5_accuracy: 0.9600 - lr: 1.0000e-07\n",
      "Epoch 71/500\n",
      "363/363 [==============================] - 90s 245ms/step - loss: 0.0977 - acc: 0.9732 - top_5_accuracy: 0.9995 - val_loss: 0.7103 - val_acc: 0.8252 - val_top_5_accuracy: 0.9615 - lr: 1.0000e-07\n",
      "Epoch 72/500\n",
      "363/363 [==============================] - 89s 244ms/step - loss: 0.0974 - acc: 0.9736 - top_5_accuracy: 0.9991 - val_loss: 0.7091 - val_acc: 0.8232 - val_top_5_accuracy: 0.9610 - lr: 1.0000e-07\n",
      "Epoch 73/500\n",
      "363/363 [==============================] - 90s 245ms/step - loss: 0.0969 - acc: 0.9734 - top_5_accuracy: 0.9991 - val_loss: 0.7128 - val_acc: 0.8232 - val_top_5_accuracy: 0.9600 - lr: 1.0000e-07\n",
      "Epoch 74/500\n",
      "363/363 [==============================] - 90s 247ms/step - loss: 0.0944 - acc: 0.9730 - top_5_accuracy: 0.9991 - val_loss: 0.7098 - val_acc: 0.8267 - val_top_5_accuracy: 0.9610 - lr: 1.0000e-07\n",
      "Epoch 75/500\n",
      "363/363 [==============================] - 90s 246ms/step - loss: 0.0971 - acc: 0.9745 - top_5_accuracy: 0.9989 - val_loss: 0.7127 - val_acc: 0.8247 - val_top_5_accuracy: 0.9605 - lr: 1.0000e-07\n",
      "Epoch 76/500\n",
      "363/363 [==============================] - 89s 244ms/step - loss: 0.0928 - acc: 0.9758 - top_5_accuracy: 0.9991 - val_loss: 0.7094 - val_acc: 0.8217 - val_top_5_accuracy: 0.9610 - lr: 1.0000e-07\n",
      "Epoch 77/500\n",
      "363/363 [==============================] - 89s 244ms/step - loss: 0.0978 - acc: 0.9739 - top_5_accuracy: 0.9993 - val_loss: 0.7138 - val_acc: 0.8212 - val_top_5_accuracy: 0.9605 - lr: 1.0000e-07\n",
      "Epoch 78/500\n",
      "363/363 [==============================] - 90s 246ms/step - loss: 0.0998 - acc: 0.9717 - top_5_accuracy: 0.9987 - val_loss: 0.7182 - val_acc: 0.8212 - val_top_5_accuracy: 0.9605 - lr: 1.0000e-07\n",
      "Epoch 79/500\n",
      "363/363 [==============================] - 90s 246ms/step - loss: 0.1012 - acc: 0.9712 - top_5_accuracy: 0.9987 - val_loss: 0.7156 - val_acc: 0.8191 - val_top_5_accuracy: 0.9610 - lr: 1.0000e-07\n",
      "Epoch 80/500\n",
      "363/363 [==============================] - 90s 246ms/step - loss: 0.0945 - acc: 0.9736 - top_5_accuracy: 0.9996 - val_loss: 0.7116 - val_acc: 0.8227 - val_top_5_accuracy: 0.9610 - lr: 1.0000e-07\n",
      "Epoch 81/500\n",
      "363/363 [==============================] - 89s 244ms/step - loss: 0.0993 - acc: 0.9727 - top_5_accuracy: 0.9993 - val_loss: 0.7161 - val_acc: 0.8222 - val_top_5_accuracy: 0.9610 - lr: 1.0000e-07\n"
     ]
    }
   ],
   "source": [
    "history = model.fit(\n",
    "    train_generator,\n",
    "    validation_data=test_generator,\n",
    "    epochs=500,\n",
    "    callbacks=[checkpoint, early_stopping, reduce_lr],\n",
    "    use_multiprocessing=True)"
   ]
  },
  {
   "cell_type": "markdown",
   "metadata": {},
   "source": [
    "### Evaluate model on training set"
   ]
  },
  {
   "cell_type": "code",
   "execution_count": 43,
   "metadata": {},
   "outputs": [
    {
     "name": "stdout",
     "output_type": "stream",
     "text": [
      "363/363 [==============================] - 43s 119ms/step - loss: 0.1278 - acc: 0.9612 - top_5_accuracy: 0.9980\n",
      "Training Loss: 0.13\n",
      "Training Accuracy: 0.96\n",
      "Training Top 5 Accuracy: 1.0\n"
     ]
    }
   ],
   "source": [
    "train_loss, train_accuracy, top5train = model.evaluate(train_generator)\n",
    "print(f\"Training Loss: {round(train_loss, 2)}\")\n",
    "print(f\"Training Accuracy: {round(train_accuracy, 2)}\")\n",
    "print(f\"Training Top 5 Accuracy: {round(top5train, 2)}\")"
   ]
  },
  {
   "cell_type": "markdown",
   "metadata": {},
   "source": [
    "### Evaluate model on testing set"
   ]
  },
  {
   "cell_type": "code",
   "execution_count": 44,
   "metadata": {},
   "outputs": [
    {
     "name": "stdout",
     "output_type": "stream",
     "text": [
      "62/62 [==============================] - 5s 71ms/step - loss: 0.6640 - acc: 0.8278 - top_5_accuracy: 0.9650\n",
      "Testing Loss: 0.66\n",
      "Testing Accuracy: 0.83\n",
      "Testing Top 5 Accuracy: 0.97\n"
     ]
    }
   ],
   "source": [
    "test_loss, test_accuracy, top5test = model.evaluate(test_generator)\n",
    "print(f\"Testing Loss: {round(test_loss, 2)}\")\n",
    "print(f\"Testing Accuracy: {round(test_accuracy, 2)}\")\n",
    "print(f\"Testing Top 5 Accuracy: {round(top5test, 2)}\")"
   ]
  },
  {
   "cell_type": "markdown",
   "metadata": {},
   "source": [
    "### Save the model"
   ]
  },
  {
   "cell_type": "code",
   "execution_count": 50,
   "metadata": {},
   "outputs": [],
   "source": [
    "model.save('../10-Trained-Models/ResNet18.keras')"
   ]
  },
  {
   "cell_type": "markdown",
   "metadata": {},
   "source": [
    "### Model Summary"
   ]
  },
  {
   "cell_type": "code",
   "execution_count": 46,
   "metadata": {},
   "outputs": [
    {
     "name": "stdout",
     "output_type": "stream",
     "text": [
      "Model: \"res_net18_2\"\n",
      "_________________________________________________________________\n",
      " Layer (type)                Output Shape              Param #   \n",
      "=================================================================\n",
      " conv2d_40 (Conv2D)          multiple                  3200      \n",
      "                                                                 \n",
      " batch_normalization_40 (Ba  multiple                  256       \n",
      " tchNormalization)                                               \n",
      "                                                                 \n",
      " max_pooling2d_2 (MaxPoolin  multiple                  0         \n",
      " g2D)                                                            \n",
      "                                                                 \n",
      " resnet_block_16 (ResnetBlo  multiple                  74368     \n",
      " ck)                                                             \n",
      "                                                                 \n",
      " resnet_block_17 (ResnetBlo  multiple                  74368     \n",
      " ck)                                                             \n",
      "                                                                 \n",
      " resnet_block_18 (ResnetBlo  multiple                  231296    \n",
      " ck)                                                             \n",
      "                                                                 \n",
      " resnet_block_19 (ResnetBlo  multiple                  296192    \n",
      " ck)                                                             \n",
      "                                                                 \n",
      " resnet_block_20 (ResnetBlo  multiple                  921344    \n",
      " ck)                                                             \n",
      "                                                                 \n",
      " resnet_block_21 (ResnetBlo  multiple                  1182208   \n",
      " ck)                                                             \n",
      "                                                                 \n",
      " resnet_block_22 (ResnetBlo  multiple                  3677696   \n",
      " ck)                                                             \n",
      "                                                                 \n",
      " resnet_block_23 (ResnetBlo  multiple                  4723712   \n",
      " ck)                                                             \n",
      "                                                                 \n",
      " global_average_pooling2d_2  multiple                  0         \n",
      "  (GlobalAveragePooling2D)                                       \n",
      "                                                                 \n",
      " flatten_2 (Flatten)         multiple                  0         \n",
      "                                                                 \n",
      " dense_2 (Dense)             multiple                  63612     \n",
      "                                                                 \n",
      "=================================================================\n",
      "Total params: 11248252 (42.91 MB)\n",
      "Trainable params: 11238652 (42.87 MB)\n",
      "Non-trainable params: 9600 (37.50 KB)\n",
      "_________________________________________________________________\n"
     ]
    }
   ],
   "source": [
    "model.summary()"
   ]
  },
  {
   "cell_type": "markdown",
   "metadata": {},
   "source": [
    "### Plot Training & Validation Accuracy"
   ]
  },
  {
   "cell_type": "code",
   "execution_count": 47,
   "metadata": {},
   "outputs": [
    {
     "data": {
      "image/png": "[encoded data removed]",
      "text/plain": [
       "<Figure size 640x480 with 1 Axes>"
      ]
     },
     "metadata": {},
     "output_type": "display_data"
    }
   ],
   "source": [
    "plt.plot(history.history['acc'], color='blue', label='Training Accuracy')\n",
    "plt.plot(history.history['val_acc'],\n",
    "         color='red', label='Validation Accuracy')\n",
    "plt.title('Model Accuracy')\n",
    "plt.xlabel('Epoch')\n",
    "plt.ylabel('Accuracy')\n",
    "plt.legend()\n",
    "plt.show()"
   ]
  },
  {
   "cell_type": "markdown",
   "metadata": {},
   "source": [
    "### Plot Training and Validation Loss"
   ]
  },
  {
   "cell_type": "code",
   "execution_count": 48,
   "metadata": {},
   "outputs": [
    {
     "data": {
      "image/png": "[encoded data removed]",
      "text/plain": [
       "<Figure size 640x480 with 1 Axes>"
      ]
     },
     "metadata": {},
     "output_type": "display_data"
    }
   ],
   "source": [
    "plt.plot(history.history['loss'], color='blue', label='Training Loss')\n",
    "plt.plot(history.history['val_loss'],\n",
    "         color='red', label='Validation Loss')\n",
    "plt.title('Model Loss')\n",
    "plt.xlabel('Epoch')\n",
    "plt.ylabel('Loss')\n",
    "plt.legend()\n",
    "plt.show()"
   ]
  },
  {
   "cell_type": "markdown",
   "metadata": {},
   "source": [
    "### Plot Training and Testing Top 5 Accuracy"
   ]
  },
  {
   "cell_type": "code",
   "execution_count": 49,
   "metadata": {},
   "outputs": [
    {
     "data": {
      "image/png": "[encoded data removed]",
      "text/plain": [
       "<Figure size 640x480 with 1 Axes>"
      ]
     },
     "metadata": {},
     "output_type": "display_data"
    }
   ],
   "source": [
    "plt.plot(history.history['top_5_accuracy'],\n",
    "         color='blue', label='Training Accuracy')\n",
    "plt.plot(history.history['val_top_5_accuracy'],\n",
    "         color='red', label='Validation Accuracy')\n",
    "plt.title('Model Top 5 Accuracy')\n",
    "plt.xlabel('Epoch')\n",
    "plt.ylabel('Accuracy')\n",
    "plt.legend()\n",
    "plt.show()"
   ]
  }
 ],
 "metadata": {
  "kernelspec": {
   "display_name": "Python 3",
   "language": "python",
   "name": "python3"
  },
  "language_info": {
   "codemirror_mode": {
    "name": "ipython",
    "version": 3
   },
   "file_extension": ".py",
   "mimetype": "text/x-python",
   "name": "python",
   "nbconvert_exporter": "python",
   "pygments_lexer": "ipython3",
   "version": "3.10.12"
  }
 },
 "nbformat": 4,
 "nbformat_minor": 2
}
