{
 "cells": [
  {
   "cell_type": "markdown",
   "metadata": {},
   "source": [
    "### Import the Libraries"
   ]
  },
  {
   "cell_type": "code",
   "execution_count": 1,
   "metadata": {},
   "outputs": [
    {
     "name": "stderr",
     "output_type": "stream",
     "text": [
      "2024-04-16 22:26:14.765446: I tensorflow/core/util/port.cc:110] oneDNN custom operations are on. You may see slightly different numerical results due to floating-point round-off errors from different computation orders. To turn them off, set the environment variable `TF_ENABLE_ONEDNN_OPTS=0`.\n",
      "2024-04-16 22:26:14.818097: I tensorflow/core/platform/cpu_feature_guard.cc:182] This TensorFlow binary is optimized to use available CPU instructions in performance-critical operations.\n",
      "To enable the following instructions: AVX2 AVX512F AVX512_VNNI FMA, in other operations, rebuild TensorFlow with the appropriate compiler flags.\n",
      "2024-04-16 22:26:15.768676: W tensorflow/compiler/tf2tensorrt/utils/py_utils.cc:38] TF-TRT Warning: Could not find TensorRT\n",
      "/home/saad-bscs/.local/lib/python3.10/site-packages/matplotlib/projections/__init__.py:63: UserWarning: Unable to import Axes3D. This may be due to multiple versions of Matplotlib being installed (e.g. as a system package and as a pip package). As a result, the 3D projection is not available.\n",
      "  warnings.warn(\"Unable to import Axes3D. This may be due to multiple versions of \"\n"
     ]
    }
   ],
   "source": [
    "import os\n",
    "import tensorflow as tf\n",
    "import matplotlib.pyplot as plt\n",
    "from tensorflow.keras.models import Model\n",
    "from tensorflow.keras.regularizers import l2\n",
    "from tensorflow.keras.optimizers import RMSprop\n",
    "from tensorflow.keras.applications import MobileNetV2\n",
    "from tensorflow.keras.losses import CategoricalCrossentropy\n",
    "from tensorflow.keras.metrics import top_k_categorical_accuracy\n",
    "from tensorflow.keras.preprocessing.image import ImageDataGenerator\n",
    "from tensorflow.keras.callbacks import ModelCheckpoint, EarlyStopping, ReduceLROnPlateau\n",
    "from tensorflow.keras.layers import Dense, GlobalAveragePooling2D, BatchNormalization, Dropout"
   ]
  },
  {
   "cell_type": "markdown",
   "metadata": {},
   "source": [
    "### Constants"
   ]
  },
  {
   "cell_type": "code",
   "execution_count": 2,
   "metadata": {},
   "outputs": [],
   "source": [
    "batch_size = 32\n",
    "num_classes = 124\n",
    "tf.random.set_seed(42)\n",
    "img_height, img_width = 128, 128\n",
    "data_dir = os.path.join(os.getcwd(), \"../5-Gait-Energy-Images\")"
   ]
  },
  {
   "cell_type": "markdown",
   "metadata": {},
   "source": [
    "### Training Data Augmentation"
   ]
  },
  {
   "cell_type": "code",
   "execution_count": 3,
   "metadata": {},
   "outputs": [],
   "source": [
    "train_datagen = ImageDataGenerator(\n",
    "    shear_range=0.2,\n",
    "    rescale=1.0 / 255,\n",
    "    rotation_range=20,\n",
    "    fill_mode=\"nearest\",\n",
    "    horizontal_flip=True,\n",
    "    zoom_range=[0.8, 1.2],\n",
    "    width_shift_range=0.2,\n",
    "    validation_split=0.15,\n",
    "    height_shift_range=0.2,\n",
    "    channel_shift_range=10,\n",
    "    brightness_range=[0.8, 1.2],\n",
    ")"
   ]
  },
  {
   "cell_type": "markdown",
   "metadata": {},
   "source": [
    "### Testing Data Augmentation"
   ]
  },
  {
   "cell_type": "code",
   "execution_count": 4,
   "metadata": {},
   "outputs": [],
   "source": [
    "test_datagen = ImageDataGenerator(rescale=1.0 / 255, validation_split=0.15)"
   ]
  },
  {
   "cell_type": "markdown",
   "metadata": {},
   "source": [
    "### Load and Split Data into Training and Testing Sets"
   ]
  },
  {
   "cell_type": "code",
   "execution_count": 5,
   "metadata": {},
   "outputs": [
    {
     "name": "stdout",
     "output_type": "stream",
     "text": [
      "Found 11587 images belonging to 124 classes.\n",
      "Found 1974 images belonging to 124 classes.\n"
     ]
    }
   ],
   "source": [
    "train_generator = train_datagen.flow_from_directory(\n",
    "    data_dir,\n",
    "    seed=42,\n",
    "    shuffle=True,\n",
    "    subset=\"training\",\n",
    "    batch_size=batch_size,\n",
    "    class_mode=\"categorical\",\n",
    "    target_size=(img_height, img_width),\n",
    ")\n",
    "\n",
    "test_generator = test_datagen.flow_from_directory(\n",
    "    data_dir,\n",
    "    seed=42,\n",
    "    shuffle=False,\n",
    "    subset=\"validation\",\n",
    "    batch_size=batch_size,\n",
    "    class_mode=\"categorical\",\n",
    "    target_size=(img_height, img_width),\n",
    ")"
   ]
  },
  {
   "cell_type": "markdown",
   "metadata": {},
   "source": [
    "### Load Pre-Trained MobileNetV2 without Top Layers"
   ]
  },
  {
   "cell_type": "code",
   "execution_count": 6,
   "metadata": {},
   "outputs": [
    {
     "name": "stderr",
     "output_type": "stream",
     "text": [
      "2024-04-16 22:26:18.037772: W tensorflow/core/common_runtime/gpu/gpu_device.cc:1960] Cannot dlopen some GPU libraries. Please make sure the missing libraries mentioned above are installed properly if you would like to use GPU. Follow the guide at https://www.tensorflow.org/install/gpu for how to download and setup the required libraries for your platform.\n",
      "Skipping registering GPU devices...\n"
     ]
    }
   ],
   "source": [
    "base_model = MobileNetV2(\n",
    "    weights=\"imagenet\", include_top=False, input_shape=(img_height, img_width, 3)\n",
    ")"
   ]
  },
  {
   "cell_type": "markdown",
   "metadata": {},
   "source": [
    "### Add custom classification layers"
   ]
  },
  {
   "cell_type": "code",
   "execution_count": 7,
   "metadata": {},
   "outputs": [],
   "source": [
    "x = base_model.output\n",
    "x = GlobalAveragePooling2D()(x)\n",
    "x = BatchNormalization()(x)\n",
    "x = Dropout(0.5)(x)\n",
    "x = Dense(1024, activation=\"relu\", kernel_regularizer=l2(0.003))(x)\n",
    "x = BatchNormalization()(x)\n",
    "x = Dropout(0.5)(x)\n",
    "x = Dense(1024, activation=\"relu\", kernel_regularizer=l2(0.003))(x)\n",
    "predictions = Dense(num_classes, activation='linear',\n",
    "                    kernel_regularizer=l2(0.003))(x)"
   ]
  },
  {
   "cell_type": "markdown",
   "metadata": {},
   "source": [
    "### Create the model"
   ]
  },
  {
   "cell_type": "code",
   "execution_count": 8,
   "metadata": {},
   "outputs": [],
   "source": [
    "model = Model(inputs=base_model.input, outputs=predictions)"
   ]
  },
  {
   "cell_type": "markdown",
   "metadata": {},
   "source": [
    "### Fine Tune the layers"
   ]
  },
  {
   "cell_type": "code",
   "execution_count": 9,
   "metadata": {},
   "outputs": [],
   "source": [
    "for layer in model.layers:\n",
    "    layer.trainable = True"
   ]
  },
  {
   "cell_type": "markdown",
   "metadata": {},
   "source": [
    "### Define Top k Accuracy Function"
   ]
  },
  {
   "cell_type": "code",
   "execution_count": 10,
   "metadata": {},
   "outputs": [],
   "source": [
    "def top_5_accuracy(y_true, y_pred):\n",
    "    return top_k_categorical_accuracy(y_true, y_pred, k=5)"
   ]
  },
  {
   "cell_type": "markdown",
   "metadata": {},
   "source": [
    "### Compile the model"
   ]
  },
  {
   "cell_type": "code",
   "execution_count": 11,
   "metadata": {},
   "outputs": [],
   "source": [
    "model.compile(\n",
    "    optimizer=RMSprop(\n",
    "        rho=0.9,\n",
    "        momentum=0.0,\n",
    "        epsilon=1e-07,\n",
    "        name=\"RMSprop\",\n",
    "        centered=False,\n",
    "        learning_rate=1e-4,\n",
    "    ),\n",
    "    loss=CategoricalCrossentropy(from_logits=True),\n",
    "    metrics=[\"acc\", top_5_accuracy],\n",
    ")"
   ]
  },
  {
   "cell_type": "markdown",
   "metadata": {},
   "source": [
    "### Define the Callbacks"
   ]
  },
  {
   "cell_type": "code",
   "execution_count": 12,
   "metadata": {},
   "outputs": [],
   "source": [
    "checkpoint = ModelCheckpoint(\n",
    "    \"best_model.h5\", monitor='val_acc', save_best_only=True, mode='max')\n",
    "early_stopping = EarlyStopping(\n",
    "    monitor='val_acc', patience=30, restore_best_weights=True)\n",
    "reduce_lr = ReduceLROnPlateau(\n",
    "    monitor='val_acc', factor=0.1, patience=5, min_lr=1e-7)"
   ]
  },
  {
   "cell_type": "markdown",
   "metadata": {},
   "source": [
    "### Train the model"
   ]
  },
  {
   "cell_type": "code",
   "execution_count": 13,
   "metadata": {},
   "outputs": [
    {
     "name": "stdout",
     "output_type": "stream",
     "text": [
      "Epoch 1/500\n",
      "363/363 [==============================] - ETA: 0s - loss: 12.1218 - acc: 0.0165 - top_5_accuracy: 0.0674"
     ]
    },
    {
     "name": "stderr",
     "output_type": "stream",
     "text": [
      "/usr/local/lib/python3.10/dist-packages/keras/src/engine/training.py:3000: UserWarning: You are saving your model as an HDF5 file via `model.save()`. This file format is considered legacy. We recommend using instead the native Keras format, e.g. `model.save('my_model.keras')`.\n",
      "  saving_api.save_model(\n"
     ]
    },
    {
     "name": "stdout",
     "output_type": "stream",
     "text": [
      "363/363 [==============================] - 144s 370ms/step - loss: 12.1218 - acc: 0.0165 - top_5_accuracy: 0.0674 - val_loss: 11.6431 - val_acc: 0.0117 - val_top_5_accuracy: 0.0598 - lr: 1.0000e-04\n",
      "Epoch 2/500\n",
      "363/363 [==============================] - 139s 378ms/step - loss: 11.0497 - acc: 0.0547 - top_5_accuracy: 0.1904 - val_loss: 11.3603 - val_acc: 0.0223 - val_top_5_accuracy: 0.0902 - lr: 1.0000e-04\n",
      "Epoch 3/500\n",
      "363/363 [==============================] - 137s 375ms/step - loss: 10.0509 - acc: 0.1239 - top_5_accuracy: 0.3413 - val_loss: 10.6638 - val_acc: 0.0486 - val_top_5_accuracy: 0.1494 - lr: 1.0000e-04\n",
      "Epoch 4/500\n",
      "363/363 [==============================] - 137s 375ms/step - loss: 9.1661 - acc: 0.2051 - top_5_accuracy: 0.4963 - val_loss: 10.6756 - val_acc: 0.0309 - val_top_5_accuracy: 0.1459 - lr: 1.0000e-04\n",
      "Epoch 5/500\n",
      "363/363 [==============================] - 131s 357ms/step - loss: 8.4226 - acc: 0.2868 - top_5_accuracy: 0.6059 - val_loss: 11.0995 - val_acc: 0.0446 - val_top_5_accuracy: 0.1829 - lr: 1.0000e-04\n",
      "Epoch 6/500\n",
      "363/363 [==============================] - 140s 380ms/step - loss: 7.7191 - acc: 0.3740 - top_5_accuracy: 0.7026 - val_loss: 10.4250 - val_acc: 0.0709 - val_top_5_accuracy: 0.2675 - lr: 1.0000e-04\n",
      "Epoch 7/500\n",
      "363/363 [==============================] - 137s 374ms/step - loss: 7.1092 - acc: 0.4455 - top_5_accuracy: 0.7707 - val_loss: 10.5935 - val_acc: 0.1221 - val_top_5_accuracy: 0.3389 - lr: 1.0000e-04\n",
      "Epoch 8/500\n",
      "363/363 [==============================] - 136s 370ms/step - loss: 6.5546 - acc: 0.5088 - top_5_accuracy: 0.8160 - val_loss: 8.9253 - val_acc: 0.1783 - val_top_5_accuracy: 0.4514 - lr: 1.0000e-04\n",
      "Epoch 9/500\n",
      "363/363 [==============================] - 138s 378ms/step - loss: 6.0453 - acc: 0.5663 - top_5_accuracy: 0.8573 - val_loss: 7.8520 - val_acc: 0.2548 - val_top_5_accuracy: 0.5451 - lr: 1.0000e-04\n",
      "Epoch 10/500\n",
      "363/363 [==============================] - 140s 383ms/step - loss: 5.6046 - acc: 0.6066 - top_5_accuracy: 0.8770 - val_loss: 7.3611 - val_acc: 0.2898 - val_top_5_accuracy: 0.5805 - lr: 1.0000e-04\n",
      "Epoch 11/500\n",
      "363/363 [==============================] - 130s 354ms/step - loss: 5.1678 - acc: 0.6485 - top_5_accuracy: 0.9039 - val_loss: 6.6009 - val_acc: 0.3369 - val_top_5_accuracy: 0.6368 - lr: 1.0000e-04\n",
      "Epoch 12/500\n",
      "363/363 [==============================] - 128s 348ms/step - loss: 4.7567 - acc: 0.6824 - top_5_accuracy: 0.9227 - val_loss: 5.8805 - val_acc: 0.4149 - val_top_5_accuracy: 0.7234 - lr: 1.0000e-04\n",
      "Epoch 13/500\n",
      "363/363 [==============================] - 139s 378ms/step - loss: 4.4028 - acc: 0.7104 - top_5_accuracy: 0.9356 - val_loss: 5.6912 - val_acc: 0.4174 - val_top_5_accuracy: 0.7052 - lr: 1.0000e-04\n",
      "Epoch 14/500\n",
      "363/363 [==============================] - 135s 369ms/step - loss: 4.0657 - acc: 0.7370 - top_5_accuracy: 0.9435 - val_loss: 5.2218 - val_acc: 0.4493 - val_top_5_accuracy: 0.7528 - lr: 1.0000e-04\n",
      "Epoch 15/500\n",
      "363/363 [==============================] - 136s 371ms/step - loss: 3.7776 - acc: 0.7564 - top_5_accuracy: 0.9492 - val_loss: 4.8264 - val_acc: 0.4828 - val_top_5_accuracy: 0.8019 - lr: 1.0000e-04\n",
      "Epoch 16/500\n",
      "363/363 [==============================] - 136s 371ms/step - loss: 3.5094 - acc: 0.7718 - top_5_accuracy: 0.9578 - val_loss: 4.5345 - val_acc: 0.5233 - val_top_5_accuracy: 0.8040 - lr: 1.0000e-04\n",
      "Epoch 17/500\n",
      "363/363 [==============================] - 133s 362ms/step - loss: 3.2552 - acc: 0.7930 - top_5_accuracy: 0.9619 - val_loss: 4.5657 - val_acc: 0.4742 - val_top_5_accuracy: 0.7832 - lr: 1.0000e-04\n",
      "Epoch 18/500\n",
      "363/363 [==============================] - 143s 388ms/step - loss: 3.0313 - acc: 0.8055 - top_5_accuracy: 0.9686 - val_loss: 4.2430 - val_acc: 0.5010 - val_top_5_accuracy: 0.8040 - lr: 1.0000e-04\n",
      "Epoch 19/500\n",
      "363/363 [==============================] - 136s 372ms/step - loss: 2.8419 - acc: 0.8192 - top_5_accuracy: 0.9703 - val_loss: 3.5084 - val_acc: 0.6241 - val_top_5_accuracy: 0.8789 - lr: 1.0000e-04\n",
      "Epoch 20/500\n",
      "363/363 [==============================] - 136s 371ms/step - loss: 2.6595 - acc: 0.8310 - top_5_accuracy: 0.9755 - val_loss: 3.3685 - val_acc: 0.6373 - val_top_5_accuracy: 0.8815 - lr: 1.0000e-04\n",
      "Epoch 21/500\n",
      "363/363 [==============================] - 134s 366ms/step - loss: 2.5045 - acc: 0.8392 - top_5_accuracy: 0.9767 - val_loss: 3.2655 - val_acc: 0.6383 - val_top_5_accuracy: 0.8744 - lr: 1.0000e-04\n",
      "Epoch 22/500\n",
      "363/363 [==============================] - 125s 341ms/step - loss: 2.3580 - acc: 0.8527 - top_5_accuracy: 0.9801 - val_loss: 3.2326 - val_acc: 0.6150 - val_top_5_accuracy: 0.8728 - lr: 1.0000e-04\n",
      "Epoch 23/500\n",
      "363/363 [==============================] - 133s 360ms/step - loss: 2.2268 - acc: 0.8642 - top_5_accuracy: 0.9804 - val_loss: 3.4431 - val_acc: 0.5557 - val_top_5_accuracy: 0.8490 - lr: 1.0000e-04\n",
      "Epoch 24/500\n",
      "363/363 [==============================] - 129s 351ms/step - loss: 2.1044 - acc: 0.8729 - top_5_accuracy: 0.9840 - val_loss: 2.8574 - val_acc: 0.6667 - val_top_5_accuracy: 0.8951 - lr: 1.0000e-04\n",
      "Epoch 25/500\n",
      "363/363 [==============================] - 137s 374ms/step - loss: 2.0004 - acc: 0.8815 - top_5_accuracy: 0.9862 - val_loss: 2.5988 - val_acc: 0.7072 - val_top_5_accuracy: 0.9169 - lr: 1.0000e-04\n",
      "Epoch 26/500\n",
      "363/363 [==============================] - 125s 341ms/step - loss: 1.9209 - acc: 0.8792 - top_5_accuracy: 0.9852 - val_loss: 2.8622 - val_acc: 0.6317 - val_top_5_accuracy: 0.8789 - lr: 1.0000e-04\n",
      "Epoch 27/500\n",
      "363/363 [==============================] - 127s 345ms/step - loss: 1.8448 - acc: 0.8810 - top_5_accuracy: 0.9874 - val_loss: 2.6941 - val_acc: 0.6545 - val_top_5_accuracy: 0.8987 - lr: 1.0000e-04\n",
      "Epoch 28/500\n",
      "363/363 [==============================] - 131s 356ms/step - loss: 1.7622 - acc: 0.8895 - top_5_accuracy: 0.9877 - val_loss: 2.5270 - val_acc: 0.6900 - val_top_5_accuracy: 0.9032 - lr: 1.0000e-04\n",
      "Epoch 29/500\n",
      "363/363 [==============================] - 136s 370ms/step - loss: 1.6933 - acc: 0.8965 - top_5_accuracy: 0.9896 - val_loss: 2.4191 - val_acc: 0.7042 - val_top_5_accuracy: 0.9134 - lr: 1.0000e-04\n",
      "Epoch 30/500\n",
      "363/363 [==============================] - 134s 367ms/step - loss: 1.6161 - acc: 0.9078 - top_5_accuracy: 0.9907 - val_loss: 2.6405 - val_acc: 0.6277 - val_top_5_accuracy: 0.8850 - lr: 1.0000e-04\n",
      "Epoch 31/500\n",
      "363/363 [==============================] - 131s 357ms/step - loss: 1.5272 - acc: 0.9272 - top_5_accuracy: 0.9933 - val_loss: 2.3479 - val_acc: 0.6955 - val_top_5_accuracy: 0.9200 - lr: 1.0000e-05\n",
      "Epoch 32/500\n",
      "363/363 [==============================] - 131s 356ms/step - loss: 1.4809 - acc: 0.9376 - top_5_accuracy: 0.9945 - val_loss: 2.2815 - val_acc: 0.7204 - val_top_5_accuracy: 0.9260 - lr: 1.0000e-05\n",
      "Epoch 33/500\n",
      "363/363 [==============================] - 135s 368ms/step - loss: 1.4547 - acc: 0.9423 - top_5_accuracy: 0.9953 - val_loss: 2.1935 - val_acc: 0.7376 - val_top_5_accuracy: 0.9326 - lr: 1.0000e-05\n",
      "Epoch 34/500\n",
      "363/363 [==============================] - 131s 356ms/step - loss: 1.4316 - acc: 0.9474 - top_5_accuracy: 0.9965 - val_loss: 2.1395 - val_acc: 0.7487 - val_top_5_accuracy: 0.9372 - lr: 1.0000e-05\n",
      "Epoch 35/500\n",
      "363/363 [==============================] - 132s 359ms/step - loss: 1.4276 - acc: 0.9418 - top_5_accuracy: 0.9957 - val_loss: 2.1547 - val_acc: 0.7447 - val_top_5_accuracy: 0.9352 - lr: 1.0000e-05\n",
      "Epoch 36/500\n",
      "363/363 [==============================] - 140s 382ms/step - loss: 1.4068 - acc: 0.9447 - top_5_accuracy: 0.9967 - val_loss: 2.1222 - val_acc: 0.7497 - val_top_5_accuracy: 0.9392 - lr: 1.0000e-05\n",
      "Epoch 37/500\n",
      "363/363 [==============================] - 130s 355ms/step - loss: 1.3868 - acc: 0.9499 - top_5_accuracy: 0.9969 - val_loss: 2.1126 - val_acc: 0.7457 - val_top_5_accuracy: 0.9382 - lr: 1.0000e-05\n",
      "Epoch 38/500\n",
      "363/363 [==============================] - 133s 363ms/step - loss: 1.3769 - acc: 0.9505 - top_5_accuracy: 0.9969 - val_loss: 2.0827 - val_acc: 0.7579 - val_top_5_accuracy: 0.9392 - lr: 1.0000e-05\n",
      "Epoch 39/500\n",
      "363/363 [==============================] - 133s 362ms/step - loss: 1.3696 - acc: 0.9500 - top_5_accuracy: 0.9957 - val_loss: 2.0327 - val_acc: 0.7649 - val_top_5_accuracy: 0.9448 - lr: 1.0000e-05\n",
      "Epoch 40/500\n",
      "363/363 [==============================] - 128s 348ms/step - loss: 1.3503 - acc: 0.9505 - top_5_accuracy: 0.9970 - val_loss: 2.0555 - val_acc: 0.7579 - val_top_5_accuracy: 0.9402 - lr: 1.0000e-05\n",
      "Epoch 41/500\n",
      "363/363 [==============================] - 127s 345ms/step - loss: 1.3401 - acc: 0.9541 - top_5_accuracy: 0.9973 - val_loss: 2.0476 - val_acc: 0.7492 - val_top_5_accuracy: 0.9377 - lr: 1.0000e-05\n",
      "Epoch 42/500\n",
      "363/363 [==============================] - 136s 372ms/step - loss: 1.3290 - acc: 0.9568 - top_5_accuracy: 0.9975 - val_loss: 2.0667 - val_acc: 0.7477 - val_top_5_accuracy: 0.9372 - lr: 1.0000e-05\n",
      "Epoch 43/500\n",
      "363/363 [==============================] - 130s 354ms/step - loss: 1.3168 - acc: 0.9554 - top_5_accuracy: 0.9965 - val_loss: 2.0491 - val_acc: 0.7503 - val_top_5_accuracy: 0.9367 - lr: 1.0000e-05\n",
      "Epoch 44/500\n",
      "363/363 [==============================] - 137s 374ms/step - loss: 1.3047 - acc: 0.9552 - top_5_accuracy: 0.9972 - val_loss: 1.9911 - val_acc: 0.7639 - val_top_5_accuracy: 0.9458 - lr: 1.0000e-05\n",
      "Epoch 45/500\n",
      "363/363 [==============================] - 128s 348ms/step - loss: 1.2976 - acc: 0.9567 - top_5_accuracy: 0.9973 - val_loss: 1.9912 - val_acc: 0.7619 - val_top_5_accuracy: 0.9458 - lr: 1.0000e-06\n",
      "Epoch 46/500\n",
      "363/363 [==============================] - 139s 380ms/step - loss: 1.3032 - acc: 0.9552 - top_5_accuracy: 0.9966 - val_loss: 1.9931 - val_acc: 0.7573 - val_top_5_accuracy: 0.9468 - lr: 1.0000e-06\n",
      "Epoch 47/500\n",
      "363/363 [==============================] - 130s 354ms/step - loss: 1.2875 - acc: 0.9594 - top_5_accuracy: 0.9978 - val_loss: 1.9967 - val_acc: 0.7599 - val_top_5_accuracy: 0.9443 - lr: 1.0000e-06\n",
      "Epoch 48/500\n",
      "363/363 [==============================] - 134s 365ms/step - loss: 1.2956 - acc: 0.9526 - top_5_accuracy: 0.9981 - val_loss: 2.0073 - val_acc: 0.7594 - val_top_5_accuracy: 0.9438 - lr: 1.0000e-06\n",
      "Epoch 49/500\n",
      "363/363 [==============================] - 133s 362ms/step - loss: 1.2916 - acc: 0.9573 - top_5_accuracy: 0.9970 - val_loss: 1.9993 - val_acc: 0.7614 - val_top_5_accuracy: 0.9453 - lr: 1.0000e-06\n",
      "Epoch 50/500\n",
      "363/363 [==============================] - 136s 370ms/step - loss: 1.2789 - acc: 0.9610 - top_5_accuracy: 0.9973 - val_loss: 2.0028 - val_acc: 0.7594 - val_top_5_accuracy: 0.9443 - lr: 1.0000e-07\n",
      "Epoch 51/500\n",
      "363/363 [==============================] - 131s 358ms/step - loss: 1.2809 - acc: 0.9605 - top_5_accuracy: 0.9972 - val_loss: 2.0042 - val_acc: 0.7594 - val_top_5_accuracy: 0.9438 - lr: 1.0000e-07\n",
      "Epoch 52/500\n",
      "363/363 [==============================] - 136s 370ms/step - loss: 1.2833 - acc: 0.9598 - top_5_accuracy: 0.9976 - val_loss: 2.0026 - val_acc: 0.7594 - val_top_5_accuracy: 0.9448 - lr: 1.0000e-07\n",
      "Epoch 53/500\n",
      "363/363 [==============================] - 132s 359ms/step - loss: 1.2868 - acc: 0.9590 - top_5_accuracy: 0.9978 - val_loss: 2.0015 - val_acc: 0.7609 - val_top_5_accuracy: 0.9438 - lr: 1.0000e-07\n",
      "Epoch 54/500\n",
      "363/363 [==============================] - 138s 376ms/step - loss: 1.2921 - acc: 0.9564 - top_5_accuracy: 0.9971 - val_loss: 2.0020 - val_acc: 0.7594 - val_top_5_accuracy: 0.9443 - lr: 1.0000e-07\n",
      "Epoch 55/500\n",
      "363/363 [==============================] - 134s 365ms/step - loss: 1.2804 - acc: 0.9586 - top_5_accuracy: 0.9976 - val_loss: 2.0025 - val_acc: 0.7614 - val_top_5_accuracy: 0.9443 - lr: 1.0000e-07\n",
      "Epoch 56/500\n",
      "363/363 [==============================] - 133s 363ms/step - loss: 1.2790 - acc: 0.9614 - top_5_accuracy: 0.9973 - val_loss: 2.0031 - val_acc: 0.7594 - val_top_5_accuracy: 0.9443 - lr: 1.0000e-07\n",
      "Epoch 57/500\n",
      "363/363 [==============================] - 131s 355ms/step - loss: 1.2842 - acc: 0.9591 - top_5_accuracy: 0.9970 - val_loss: 2.0021 - val_acc: 0.7624 - val_top_5_accuracy: 0.9443 - lr: 1.0000e-07\n",
      "Epoch 58/500\n",
      "363/363 [==============================] - 129s 350ms/step - loss: 1.2877 - acc: 0.9591 - top_5_accuracy: 0.9974 - val_loss: 2.0006 - val_acc: 0.7609 - val_top_5_accuracy: 0.9443 - lr: 1.0000e-07\n",
      "Epoch 59/500\n",
      "363/363 [==============================] - 135s 367ms/step - loss: 1.2914 - acc: 0.9581 - top_5_accuracy: 0.9974 - val_loss: 1.9981 - val_acc: 0.7604 - val_top_5_accuracy: 0.9448 - lr: 1.0000e-07\n",
      "Epoch 60/500\n",
      "363/363 [==============================] - 123s 336ms/step - loss: 1.2886 - acc: 0.9575 - top_5_accuracy: 0.9976 - val_loss: 2.0005 - val_acc: 0.7614 - val_top_5_accuracy: 0.9448 - lr: 1.0000e-07\n",
      "Epoch 61/500\n",
      "363/363 [==============================] - 130s 354ms/step - loss: 1.2876 - acc: 0.9602 - top_5_accuracy: 0.9969 - val_loss: 2.0011 - val_acc: 0.7619 - val_top_5_accuracy: 0.9448 - lr: 1.0000e-07\n",
      "Epoch 62/500\n",
      "363/363 [==============================] - 133s 361ms/step - loss: 1.2873 - acc: 0.9610 - top_5_accuracy: 0.9974 - val_loss: 2.0015 - val_acc: 0.7614 - val_top_5_accuracy: 0.9448 - lr: 1.0000e-07\n",
      "Epoch 63/500\n",
      "363/363 [==============================] - 134s 364ms/step - loss: 1.2865 - acc: 0.9598 - top_5_accuracy: 0.9969 - val_loss: 2.0015 - val_acc: 0.7609 - val_top_5_accuracy: 0.9438 - lr: 1.0000e-07\n",
      "Epoch 64/500\n",
      "363/363 [==============================] - 138s 374ms/step - loss: 1.2904 - acc: 0.9566 - top_5_accuracy: 0.9972 - val_loss: 2.0005 - val_acc: 0.7624 - val_top_5_accuracy: 0.9438 - lr: 1.0000e-07\n",
      "Epoch 65/500\n",
      "363/363 [==============================] - 126s 343ms/step - loss: 1.2840 - acc: 0.9580 - top_5_accuracy: 0.9979 - val_loss: 1.9995 - val_acc: 0.7614 - val_top_5_accuracy: 0.9438 - lr: 1.0000e-07\n",
      "Epoch 66/500\n",
      "363/363 [==============================] - 131s 355ms/step - loss: 1.2848 - acc: 0.9603 - top_5_accuracy: 0.9973 - val_loss: 1.9987 - val_acc: 0.7619 - val_top_5_accuracy: 0.9448 - lr: 1.0000e-07\n",
      "Epoch 67/500\n",
      "363/363 [==============================] - 135s 368ms/step - loss: 1.2841 - acc: 0.9615 - top_5_accuracy: 0.9975 - val_loss: 1.9952 - val_acc: 0.7624 - val_top_5_accuracy: 0.9448 - lr: 1.0000e-07\n",
      "Epoch 68/500\n",
      "363/363 [==============================] - 140s 381ms/step - loss: 1.2859 - acc: 0.9568 - top_5_accuracy: 0.9970 - val_loss: 1.9995 - val_acc: 0.7599 - val_top_5_accuracy: 0.9443 - lr: 1.0000e-07\n",
      "Epoch 69/500\n",
      "363/363 [==============================] - 136s 370ms/step - loss: 1.2831 - acc: 0.9604 - top_5_accuracy: 0.9967 - val_loss: 1.9971 - val_acc: 0.7609 - val_top_5_accuracy: 0.9443 - lr: 1.0000e-07\n"
     ]
    }
   ],
   "source": [
    "history = model.fit(\n",
    "    train_generator,\n",
    "    validation_data=test_generator,\n",
    "    epochs=500,\n",
    "    callbacks=[checkpoint, early_stopping, reduce_lr],\n",
    "    use_multiprocessing=True)"
   ]
  },
  {
   "cell_type": "markdown",
   "metadata": {},
   "source": [
    "### Evaluate Model on Training Set"
   ]
  },
  {
   "cell_type": "code",
   "execution_count": 14,
   "metadata": {},
   "outputs": [
    {
     "name": "stdout",
     "output_type": "stream",
     "text": [
      "363/363 [==============================] - 69s 189ms/step - loss: 1.2168 - acc: 0.9845 - top_5_accuracy: 0.9997\n",
      "Training Loss: 1.22\n",
      "Training Accuracy: 0.98\n",
      "Training Top 5 Accuracy: 1.0\n"
     ]
    }
   ],
   "source": [
    "train_loss, train_accuracy, top5train = model.evaluate(train_generator)\n",
    "print(f\"Training Loss: {round(train_loss, 2)}\")\n",
    "print(f\"Training Accuracy: {round(train_accuracy, 2)}\")\n",
    "print(f\"Training Top 5 Accuracy: {round(top5train, 2)}\")"
   ]
  },
  {
   "cell_type": "markdown",
   "metadata": {},
   "source": [
    "### Evaluate Model on Testing Set"
   ]
  },
  {
   "cell_type": "code",
   "execution_count": 15,
   "metadata": {},
   "outputs": [
    {
     "name": "stdout",
     "output_type": "stream",
     "text": [
      "62/62 [==============================] - 4s 62ms/step - loss: 2.0327 - acc: 0.7649 - top_5_accuracy: 0.9448\n",
      "Testing Loss: 2.03\n",
      "Testing Accuracy: 0.76\n",
      "Testing Top 5 Accuracy: 0.94\n"
     ]
    }
   ],
   "source": [
    "test_loss, test_accuracy, top5test = model.evaluate(test_generator)\n",
    "print(f\"Testing Loss: {round(test_loss, 2)}\")\n",
    "print(f\"Testing Accuracy: {round(test_accuracy, 2)}\")\n",
    "print(f\"Testing Top 5 Accuracy: {round(top5test, 2)}\")"
   ]
  },
  {
   "cell_type": "markdown",
   "metadata": {},
   "source": [
    "### Save the Model"
   ]
  },
  {
   "cell_type": "code",
   "execution_count": 16,
   "metadata": {},
   "outputs": [],
   "source": [
    "model.save('../9-Trained-Fine-Tune-Models/MobileNetV2.h5')"
   ]
  },
  {
   "cell_type": "markdown",
   "metadata": {},
   "source": [
    "### Model Summary"
   ]
  },
  {
   "cell_type": "code",
   "execution_count": 17,
   "metadata": {},
   "outputs": [
    {
     "name": "stdout",
     "output_type": "stream",
     "text": [
      "Model: \"model\"\n",
      "__________________________________________________________________________________________________\n",
      " Layer (type)                Output Shape                 Param #   Connected to                  \n",
      "==================================================================================================\n",
      " input_1 (InputLayer)        [(None, 128, 128, 3)]        0         []                            \n",
      "                                                                                                  \n",
      " Conv1 (Conv2D)              (None, 64, 64, 32)           864       ['input_1[0][0]']             \n",
      "                                                                                                  \n",
      " bn_Conv1 (BatchNormalizati  (None, 64, 64, 32)           128       ['Conv1[0][0]']               \n",
      " on)                                                                                              \n",
      "                                                                                                  \n",
      " Conv1_relu (ReLU)           (None, 64, 64, 32)           0         ['bn_Conv1[0][0]']            \n",
      "                                                                                                  \n",
      " expanded_conv_depthwise (D  (None, 64, 64, 32)           288       ['Conv1_relu[0][0]']          \n",
      " epthwiseConv2D)                                                                                  \n",
      "                                                                                                  \n",
      " expanded_conv_depthwise_BN  (None, 64, 64, 32)           128       ['expanded_conv_depthwise[0][0\n",
      "  (BatchNormalization)                                              ]']                           \n",
      "                                                                                                  \n",
      " expanded_conv_depthwise_re  (None, 64, 64, 32)           0         ['expanded_conv_depthwise_BN[0\n",
      " lu (ReLU)                                                          ][0]']                        \n",
      "                                                                                                  \n",
      " expanded_conv_project (Con  (None, 64, 64, 16)           512       ['expanded_conv_depthwise_relu\n",
      " v2D)                                                               [0][0]']                      \n",
      "                                                                                                  \n",
      " expanded_conv_project_BN (  (None, 64, 64, 16)           64        ['expanded_conv_project[0][0]'\n",
      " BatchNormalization)                                                ]                             \n",
      "                                                                                                  \n",
      " block_1_expand (Conv2D)     (None, 64, 64, 96)           1536      ['expanded_conv_project_BN[0][\n",
      "                                                                    0]']                          \n",
      "                                                                                                  \n",
      " block_1_expand_BN (BatchNo  (None, 64, 64, 96)           384       ['block_1_expand[0][0]']      \n",
      " rmalization)                                                                                     \n",
      "                                                                                                  \n",
      " block_1_expand_relu (ReLU)  (None, 64, 64, 96)           0         ['block_1_expand_BN[0][0]']   \n",
      "                                                                                                  \n",
      " block_1_pad (ZeroPadding2D  (None, 65, 65, 96)           0         ['block_1_expand_relu[0][0]'] \n",
      " )                                                                                                \n",
      "                                                                                                  \n",
      " block_1_depthwise (Depthwi  (None, 32, 32, 96)           864       ['block_1_pad[0][0]']         \n",
      " seConv2D)                                                                                        \n",
      "                                                                                                  \n",
      " block_1_depthwise_BN (Batc  (None, 32, 32, 96)           384       ['block_1_depthwise[0][0]']   \n",
      " hNormalization)                                                                                  \n",
      "                                                                                                  \n",
      " block_1_depthwise_relu (Re  (None, 32, 32, 96)           0         ['block_1_depthwise_BN[0][0]']\n",
      " LU)                                                                                              \n",
      "                                                                                                  \n",
      " block_1_project (Conv2D)    (None, 32, 32, 24)           2304      ['block_1_depthwise_relu[0][0]\n",
      "                                                                    ']                            \n",
      "                                                                                                  \n",
      " block_1_project_BN (BatchN  (None, 32, 32, 24)           96        ['block_1_project[0][0]']     \n",
      " ormalization)                                                                                    \n",
      "                                                                                                  \n",
      " block_2_expand (Conv2D)     (None, 32, 32, 144)          3456      ['block_1_project_BN[0][0]']  \n",
      "                                                                                                  \n",
      " block_2_expand_BN (BatchNo  (None, 32, 32, 144)          576       ['block_2_expand[0][0]']      \n",
      " rmalization)                                                                                     \n",
      "                                                                                                  \n",
      " block_2_expand_relu (ReLU)  (None, 32, 32, 144)          0         ['block_2_expand_BN[0][0]']   \n",
      "                                                                                                  \n",
      " block_2_depthwise (Depthwi  (None, 32, 32, 144)          1296      ['block_2_expand_relu[0][0]'] \n",
      " seConv2D)                                                                                        \n",
      "                                                                                                  \n",
      " block_2_depthwise_BN (Batc  (None, 32, 32, 144)          576       ['block_2_depthwise[0][0]']   \n",
      " hNormalization)                                                                                  \n",
      "                                                                                                  \n",
      " block_2_depthwise_relu (Re  (None, 32, 32, 144)          0         ['block_2_depthwise_BN[0][0]']\n",
      " LU)                                                                                              \n",
      "                                                                                                  \n",
      " block_2_project (Conv2D)    (None, 32, 32, 24)           3456      ['block_2_depthwise_relu[0][0]\n",
      "                                                                    ']                            \n",
      "                                                                                                  \n",
      " block_2_project_BN (BatchN  (None, 32, 32, 24)           96        ['block_2_project[0][0]']     \n",
      " ormalization)                                                                                    \n",
      "                                                                                                  \n",
      " block_2_add (Add)           (None, 32, 32, 24)           0         ['block_1_project_BN[0][0]',  \n",
      "                                                                     'block_2_project_BN[0][0]']  \n",
      "                                                                                                  \n",
      " block_3_expand (Conv2D)     (None, 32, 32, 144)          3456      ['block_2_add[0][0]']         \n",
      "                                                                                                  \n",
      " block_3_expand_BN (BatchNo  (None, 32, 32, 144)          576       ['block_3_expand[0][0]']      \n",
      " rmalization)                                                                                     \n",
      "                                                                                                  \n",
      " block_3_expand_relu (ReLU)  (None, 32, 32, 144)          0         ['block_3_expand_BN[0][0]']   \n",
      "                                                                                                  \n",
      " block_3_pad (ZeroPadding2D  (None, 33, 33, 144)          0         ['block_3_expand_relu[0][0]'] \n",
      " )                                                                                                \n",
      "                                                                                                  \n",
      " block_3_depthwise (Depthwi  (None, 16, 16, 144)          1296      ['block_3_pad[0][0]']         \n",
      " seConv2D)                                                                                        \n",
      "                                                                                                  \n",
      " block_3_depthwise_BN (Batc  (None, 16, 16, 144)          576       ['block_3_depthwise[0][0]']   \n",
      " hNormalization)                                                                                  \n",
      "                                                                                                  \n",
      " block_3_depthwise_relu (Re  (None, 16, 16, 144)          0         ['block_3_depthwise_BN[0][0]']\n",
      " LU)                                                                                              \n",
      "                                                                                                  \n",
      " block_3_project (Conv2D)    (None, 16, 16, 32)           4608      ['block_3_depthwise_relu[0][0]\n",
      "                                                                    ']                            \n",
      "                                                                                                  \n",
      " block_3_project_BN (BatchN  (None, 16, 16, 32)           128       ['block_3_project[0][0]']     \n",
      " ormalization)                                                                                    \n",
      "                                                                                                  \n",
      " block_4_expand (Conv2D)     (None, 16, 16, 192)          6144      ['block_3_project_BN[0][0]']  \n",
      "                                                                                                  \n",
      " block_4_expand_BN (BatchNo  (None, 16, 16, 192)          768       ['block_4_expand[0][0]']      \n",
      " rmalization)                                                                                     \n",
      "                                                                                                  \n",
      " block_4_expand_relu (ReLU)  (None, 16, 16, 192)          0         ['block_4_expand_BN[0][0]']   \n",
      "                                                                                                  \n",
      " block_4_depthwise (Depthwi  (None, 16, 16, 192)          1728      ['block_4_expand_relu[0][0]'] \n",
      " seConv2D)                                                                                        \n",
      "                                                                                                  \n",
      " block_4_depthwise_BN (Batc  (None, 16, 16, 192)          768       ['block_4_depthwise[0][0]']   \n",
      " hNormalization)                                                                                  \n",
      "                                                                                                  \n",
      " block_4_depthwise_relu (Re  (None, 16, 16, 192)          0         ['block_4_depthwise_BN[0][0]']\n",
      " LU)                                                                                              \n",
      "                                                                                                  \n",
      " block_4_project (Conv2D)    (None, 16, 16, 32)           6144      ['block_4_depthwise_relu[0][0]\n",
      "                                                                    ']                            \n",
      "                                                                                                  \n",
      " block_4_project_BN (BatchN  (None, 16, 16, 32)           128       ['block_4_project[0][0]']     \n",
      " ormalization)                                                                                    \n",
      "                                                                                                  \n",
      " block_4_add (Add)           (None, 16, 16, 32)           0         ['block_3_project_BN[0][0]',  \n",
      "                                                                     'block_4_project_BN[0][0]']  \n",
      "                                                                                                  \n",
      " block_5_expand (Conv2D)     (None, 16, 16, 192)          6144      ['block_4_add[0][0]']         \n",
      "                                                                                                  \n",
      " block_5_expand_BN (BatchNo  (None, 16, 16, 192)          768       ['block_5_expand[0][0]']      \n",
      " rmalization)                                                                                     \n",
      "                                                                                                  \n",
      " block_5_expand_relu (ReLU)  (None, 16, 16, 192)          0         ['block_5_expand_BN[0][0]']   \n",
      "                                                                                                  \n",
      " block_5_depthwise (Depthwi  (None, 16, 16, 192)          1728      ['block_5_expand_relu[0][0]'] \n",
      " seConv2D)                                                                                        \n",
      "                                                                                                  \n",
      " block_5_depthwise_BN (Batc  (None, 16, 16, 192)          768       ['block_5_depthwise[0][0]']   \n",
      " hNormalization)                                                                                  \n",
      "                                                                                                  \n",
      " block_5_depthwise_relu (Re  (None, 16, 16, 192)          0         ['block_5_depthwise_BN[0][0]']\n",
      " LU)                                                                                              \n",
      "                                                                                                  \n",
      " block_5_project (Conv2D)    (None, 16, 16, 32)           6144      ['block_5_depthwise_relu[0][0]\n",
      "                                                                    ']                            \n",
      "                                                                                                  \n",
      " block_5_project_BN (BatchN  (None, 16, 16, 32)           128       ['block_5_project[0][0]']     \n",
      " ormalization)                                                                                    \n",
      "                                                                                                  \n",
      " block_5_add (Add)           (None, 16, 16, 32)           0         ['block_4_add[0][0]',         \n",
      "                                                                     'block_5_project_BN[0][0]']  \n",
      "                                                                                                  \n",
      " block_6_expand (Conv2D)     (None, 16, 16, 192)          6144      ['block_5_add[0][0]']         \n",
      "                                                                                                  \n",
      " block_6_expand_BN (BatchNo  (None, 16, 16, 192)          768       ['block_6_expand[0][0]']      \n",
      " rmalization)                                                                                     \n",
      "                                                                                                  \n",
      " block_6_expand_relu (ReLU)  (None, 16, 16, 192)          0         ['block_6_expand_BN[0][0]']   \n",
      "                                                                                                  \n",
      " block_6_pad (ZeroPadding2D  (None, 17, 17, 192)          0         ['block_6_expand_relu[0][0]'] \n",
      " )                                                                                                \n",
      "                                                                                                  \n",
      " block_6_depthwise (Depthwi  (None, 8, 8, 192)            1728      ['block_6_pad[0][0]']         \n",
      " seConv2D)                                                                                        \n",
      "                                                                                                  \n",
      " block_6_depthwise_BN (Batc  (None, 8, 8, 192)            768       ['block_6_depthwise[0][0]']   \n",
      " hNormalization)                                                                                  \n",
      "                                                                                                  \n",
      " block_6_depthwise_relu (Re  (None, 8, 8, 192)            0         ['block_6_depthwise_BN[0][0]']\n",
      " LU)                                                                                              \n",
      "                                                                                                  \n",
      " block_6_project (Conv2D)    (None, 8, 8, 64)             12288     ['block_6_depthwise_relu[0][0]\n",
      "                                                                    ']                            \n",
      "                                                                                                  \n",
      " block_6_project_BN (BatchN  (None, 8, 8, 64)             256       ['block_6_project[0][0]']     \n",
      " ormalization)                                                                                    \n",
      "                                                                                                  \n",
      " block_7_expand (Conv2D)     (None, 8, 8, 384)            24576     ['block_6_project_BN[0][0]']  \n",
      "                                                                                                  \n",
      " block_7_expand_BN (BatchNo  (None, 8, 8, 384)            1536      ['block_7_expand[0][0]']      \n",
      " rmalization)                                                                                     \n",
      "                                                                                                  \n",
      " block_7_expand_relu (ReLU)  (None, 8, 8, 384)            0         ['block_7_expand_BN[0][0]']   \n",
      "                                                                                                  \n",
      " block_7_depthwise (Depthwi  (None, 8, 8, 384)            3456      ['block_7_expand_relu[0][0]'] \n",
      " seConv2D)                                                                                        \n",
      "                                                                                                  \n",
      " block_7_depthwise_BN (Batc  (None, 8, 8, 384)            1536      ['block_7_depthwise[0][0]']   \n",
      " hNormalization)                                                                                  \n",
      "                                                                                                  \n",
      " block_7_depthwise_relu (Re  (None, 8, 8, 384)            0         ['block_7_depthwise_BN[0][0]']\n",
      " LU)                                                                                              \n",
      "                                                                                                  \n",
      " block_7_project (Conv2D)    (None, 8, 8, 64)             24576     ['block_7_depthwise_relu[0][0]\n",
      "                                                                    ']                            \n",
      "                                                                                                  \n",
      " block_7_project_BN (BatchN  (None, 8, 8, 64)             256       ['block_7_project[0][0]']     \n",
      " ormalization)                                                                                    \n",
      "                                                                                                  \n",
      " block_7_add (Add)           (None, 8, 8, 64)             0         ['block_6_project_BN[0][0]',  \n",
      "                                                                     'block_7_project_BN[0][0]']  \n",
      "                                                                                                  \n",
      " block_8_expand (Conv2D)     (None, 8, 8, 384)            24576     ['block_7_add[0][0]']         \n",
      "                                                                                                  \n",
      " block_8_expand_BN (BatchNo  (None, 8, 8, 384)            1536      ['block_8_expand[0][0]']      \n",
      " rmalization)                                                                                     \n",
      "                                                                                                  \n",
      " block_8_expand_relu (ReLU)  (None, 8, 8, 384)            0         ['block_8_expand_BN[0][0]']   \n",
      "                                                                                                  \n",
      " block_8_depthwise (Depthwi  (None, 8, 8, 384)            3456      ['block_8_expand_relu[0][0]'] \n",
      " seConv2D)                                                                                        \n",
      "                                                                                                  \n",
      " block_8_depthwise_BN (Batc  (None, 8, 8, 384)            1536      ['block_8_depthwise[0][0]']   \n",
      " hNormalization)                                                                                  \n",
      "                                                                                                  \n",
      " block_8_depthwise_relu (Re  (None, 8, 8, 384)            0         ['block_8_depthwise_BN[0][0]']\n",
      " LU)                                                                                              \n",
      "                                                                                                  \n",
      " block_8_project (Conv2D)    (None, 8, 8, 64)             24576     ['block_8_depthwise_relu[0][0]\n",
      "                                                                    ']                            \n",
      "                                                                                                  \n",
      " block_8_project_BN (BatchN  (None, 8, 8, 64)             256       ['block_8_project[0][0]']     \n",
      " ormalization)                                                                                    \n",
      "                                                                                                  \n",
      " block_8_add (Add)           (None, 8, 8, 64)             0         ['block_7_add[0][0]',         \n",
      "                                                                     'block_8_project_BN[0][0]']  \n",
      "                                                                                                  \n",
      " block_9_expand (Conv2D)     (None, 8, 8, 384)            24576     ['block_8_add[0][0]']         \n",
      "                                                                                                  \n",
      " block_9_expand_BN (BatchNo  (None, 8, 8, 384)            1536      ['block_9_expand[0][0]']      \n",
      " rmalization)                                                                                     \n",
      "                                                                                                  \n",
      " block_9_expand_relu (ReLU)  (None, 8, 8, 384)            0         ['block_9_expand_BN[0][0]']   \n",
      "                                                                                                  \n",
      " block_9_depthwise (Depthwi  (None, 8, 8, 384)            3456      ['block_9_expand_relu[0][0]'] \n",
      " seConv2D)                                                                                        \n",
      "                                                                                                  \n",
      " block_9_depthwise_BN (Batc  (None, 8, 8, 384)            1536      ['block_9_depthwise[0][0]']   \n",
      " hNormalization)                                                                                  \n",
      "                                                                                                  \n",
      " block_9_depthwise_relu (Re  (None, 8, 8, 384)            0         ['block_9_depthwise_BN[0][0]']\n",
      " LU)                                                                                              \n",
      "                                                                                                  \n",
      " block_9_project (Conv2D)    (None, 8, 8, 64)             24576     ['block_9_depthwise_relu[0][0]\n",
      "                                                                    ']                            \n",
      "                                                                                                  \n",
      " block_9_project_BN (BatchN  (None, 8, 8, 64)             256       ['block_9_project[0][0]']     \n",
      " ormalization)                                                                                    \n",
      "                                                                                                  \n",
      " block_9_add (Add)           (None, 8, 8, 64)             0         ['block_8_add[0][0]',         \n",
      "                                                                     'block_9_project_BN[0][0]']  \n",
      "                                                                                                  \n",
      " block_10_expand (Conv2D)    (None, 8, 8, 384)            24576     ['block_9_add[0][0]']         \n",
      "                                                                                                  \n",
      " block_10_expand_BN (BatchN  (None, 8, 8, 384)            1536      ['block_10_expand[0][0]']     \n",
      " ormalization)                                                                                    \n",
      "                                                                                                  \n",
      " block_10_expand_relu (ReLU  (None, 8, 8, 384)            0         ['block_10_expand_BN[0][0]']  \n",
      " )                                                                                                \n",
      "                                                                                                  \n",
      " block_10_depthwise (Depthw  (None, 8, 8, 384)            3456      ['block_10_expand_relu[0][0]']\n",
      " iseConv2D)                                                                                       \n",
      "                                                                                                  \n",
      " block_10_depthwise_BN (Bat  (None, 8, 8, 384)            1536      ['block_10_depthwise[0][0]']  \n",
      " chNormalization)                                                                                 \n",
      "                                                                                                  \n",
      " block_10_depthwise_relu (R  (None, 8, 8, 384)            0         ['block_10_depthwise_BN[0][0]'\n",
      " eLU)                                                               ]                             \n",
      "                                                                                                  \n",
      " block_10_project (Conv2D)   (None, 8, 8, 96)             36864     ['block_10_depthwise_relu[0][0\n",
      "                                                                    ]']                           \n",
      "                                                                                                  \n",
      " block_10_project_BN (Batch  (None, 8, 8, 96)             384       ['block_10_project[0][0]']    \n",
      " Normalization)                                                                                   \n",
      "                                                                                                  \n",
      " block_11_expand (Conv2D)    (None, 8, 8, 576)            55296     ['block_10_project_BN[0][0]'] \n",
      "                                                                                                  \n",
      " block_11_expand_BN (BatchN  (None, 8, 8, 576)            2304      ['block_11_expand[0][0]']     \n",
      " ormalization)                                                                                    \n",
      "                                                                                                  \n",
      " block_11_expand_relu (ReLU  (None, 8, 8, 576)            0         ['block_11_expand_BN[0][0]']  \n",
      " )                                                                                                \n",
      "                                                                                                  \n",
      " block_11_depthwise (Depthw  (None, 8, 8, 576)            5184      ['block_11_expand_relu[0][0]']\n",
      " iseConv2D)                                                                                       \n",
      "                                                                                                  \n",
      " block_11_depthwise_BN (Bat  (None, 8, 8, 576)            2304      ['block_11_depthwise[0][0]']  \n",
      " chNormalization)                                                                                 \n",
      "                                                                                                  \n",
      " block_11_depthwise_relu (R  (None, 8, 8, 576)            0         ['block_11_depthwise_BN[0][0]'\n",
      " eLU)                                                               ]                             \n",
      "                                                                                                  \n",
      " block_11_project (Conv2D)   (None, 8, 8, 96)             55296     ['block_11_depthwise_relu[0][0\n",
      "                                                                    ]']                           \n",
      "                                                                                                  \n",
      " block_11_project_BN (Batch  (None, 8, 8, 96)             384       ['block_11_project[0][0]']    \n",
      " Normalization)                                                                                   \n",
      "                                                                                                  \n",
      " block_11_add (Add)          (None, 8, 8, 96)             0         ['block_10_project_BN[0][0]', \n",
      "                                                                     'block_11_project_BN[0][0]'] \n",
      "                                                                                                  \n",
      " block_12_expand (Conv2D)    (None, 8, 8, 576)            55296     ['block_11_add[0][0]']        \n",
      "                                                                                                  \n",
      " block_12_expand_BN (BatchN  (None, 8, 8, 576)            2304      ['block_12_expand[0][0]']     \n",
      " ormalization)                                                                                    \n",
      "                                                                                                  \n",
      " block_12_expand_relu (ReLU  (None, 8, 8, 576)            0         ['block_12_expand_BN[0][0]']  \n",
      " )                                                                                                \n",
      "                                                                                                  \n",
      " block_12_depthwise (Depthw  (None, 8, 8, 576)            5184      ['block_12_expand_relu[0][0]']\n",
      " iseConv2D)                                                                                       \n",
      "                                                                                                  \n",
      " block_12_depthwise_BN (Bat  (None, 8, 8, 576)            2304      ['block_12_depthwise[0][0]']  \n",
      " chNormalization)                                                                                 \n",
      "                                                                                                  \n",
      " block_12_depthwise_relu (R  (None, 8, 8, 576)            0         ['block_12_depthwise_BN[0][0]'\n",
      " eLU)                                                               ]                             \n",
      "                                                                                                  \n",
      " block_12_project (Conv2D)   (None, 8, 8, 96)             55296     ['block_12_depthwise_relu[0][0\n",
      "                                                                    ]']                           \n",
      "                                                                                                  \n",
      " block_12_project_BN (Batch  (None, 8, 8, 96)             384       ['block_12_project[0][0]']    \n",
      " Normalization)                                                                                   \n",
      "                                                                                                  \n",
      " block_12_add (Add)          (None, 8, 8, 96)             0         ['block_11_add[0][0]',        \n",
      "                                                                     'block_12_project_BN[0][0]'] \n",
      "                                                                                                  \n",
      " block_13_expand (Conv2D)    (None, 8, 8, 576)            55296     ['block_12_add[0][0]']        \n",
      "                                                                                                  \n",
      " block_13_expand_BN (BatchN  (None, 8, 8, 576)            2304      ['block_13_expand[0][0]']     \n",
      " ormalization)                                                                                    \n",
      "                                                                                                  \n",
      " block_13_expand_relu (ReLU  (None, 8, 8, 576)            0         ['block_13_expand_BN[0][0]']  \n",
      " )                                                                                                \n",
      "                                                                                                  \n",
      " block_13_pad (ZeroPadding2  (None, 9, 9, 576)            0         ['block_13_expand_relu[0][0]']\n",
      " D)                                                                                               \n",
      "                                                                                                  \n",
      " block_13_depthwise (Depthw  (None, 4, 4, 576)            5184      ['block_13_pad[0][0]']        \n",
      " iseConv2D)                                                                                       \n",
      "                                                                                                  \n",
      " block_13_depthwise_BN (Bat  (None, 4, 4, 576)            2304      ['block_13_depthwise[0][0]']  \n",
      " chNormalization)                                                                                 \n",
      "                                                                                                  \n",
      " block_13_depthwise_relu (R  (None, 4, 4, 576)            0         ['block_13_depthwise_BN[0][0]'\n",
      " eLU)                                                               ]                             \n",
      "                                                                                                  \n",
      " block_13_project (Conv2D)   (None, 4, 4, 160)            92160     ['block_13_depthwise_relu[0][0\n",
      "                                                                    ]']                           \n",
      "                                                                                                  \n",
      " block_13_project_BN (Batch  (None, 4, 4, 160)            640       ['block_13_project[0][0]']    \n",
      " Normalization)                                                                                   \n",
      "                                                                                                  \n",
      " block_14_expand (Conv2D)    (None, 4, 4, 960)            153600    ['block_13_project_BN[0][0]'] \n",
      "                                                                                                  \n",
      " block_14_expand_BN (BatchN  (None, 4, 4, 960)            3840      ['block_14_expand[0][0]']     \n",
      " ormalization)                                                                                    \n",
      "                                                                                                  \n",
      " block_14_expand_relu (ReLU  (None, 4, 4, 960)            0         ['block_14_expand_BN[0][0]']  \n",
      " )                                                                                                \n",
      "                                                                                                  \n",
      " block_14_depthwise (Depthw  (None, 4, 4, 960)            8640      ['block_14_expand_relu[0][0]']\n",
      " iseConv2D)                                                                                       \n",
      "                                                                                                  \n",
      " block_14_depthwise_BN (Bat  (None, 4, 4, 960)            3840      ['block_14_depthwise[0][0]']  \n",
      " chNormalization)                                                                                 \n",
      "                                                                                                  \n",
      " block_14_depthwise_relu (R  (None, 4, 4, 960)            0         ['block_14_depthwise_BN[0][0]'\n",
      " eLU)                                                               ]                             \n",
      "                                                                                                  \n",
      " block_14_project (Conv2D)   (None, 4, 4, 160)            153600    ['block_14_depthwise_relu[0][0\n",
      "                                                                    ]']                           \n",
      "                                                                                                  \n",
      " block_14_project_BN (Batch  (None, 4, 4, 160)            640       ['block_14_project[0][0]']    \n",
      " Normalization)                                                                                   \n",
      "                                                                                                  \n",
      " block_14_add (Add)          (None, 4, 4, 160)            0         ['block_13_project_BN[0][0]', \n",
      "                                                                     'block_14_project_BN[0][0]'] \n",
      "                                                                                                  \n",
      " block_15_expand (Conv2D)    (None, 4, 4, 960)            153600    ['block_14_add[0][0]']        \n",
      "                                                                                                  \n",
      " block_15_expand_BN (BatchN  (None, 4, 4, 960)            3840      ['block_15_expand[0][0]']     \n",
      " ormalization)                                                                                    \n",
      "                                                                                                  \n",
      " block_15_expand_relu (ReLU  (None, 4, 4, 960)            0         ['block_15_expand_BN[0][0]']  \n",
      " )                                                                                                \n",
      "                                                                                                  \n",
      " block_15_depthwise (Depthw  (None, 4, 4, 960)            8640      ['block_15_expand_relu[0][0]']\n",
      " iseConv2D)                                                                                       \n",
      "                                                                                                  \n",
      " block_15_depthwise_BN (Bat  (None, 4, 4, 960)            3840      ['block_15_depthwise[0][0]']  \n",
      " chNormalization)                                                                                 \n",
      "                                                                                                  \n",
      " block_15_depthwise_relu (R  (None, 4, 4, 960)            0         ['block_15_depthwise_BN[0][0]'\n",
      " eLU)                                                               ]                             \n",
      "                                                                                                  \n",
      " block_15_project (Conv2D)   (None, 4, 4, 160)            153600    ['block_15_depthwise_relu[0][0\n",
      "                                                                    ]']                           \n",
      "                                                                                                  \n",
      " block_15_project_BN (Batch  (None, 4, 4, 160)            640       ['block_15_project[0][0]']    \n",
      " Normalization)                                                                                   \n",
      "                                                                                                  \n",
      " block_15_add (Add)          (None, 4, 4, 160)            0         ['block_14_add[0][0]',        \n",
      "                                                                     'block_15_project_BN[0][0]'] \n",
      "                                                                                                  \n",
      " block_16_expand (Conv2D)    (None, 4, 4, 960)            153600    ['block_15_add[0][0]']        \n",
      "                                                                                                  \n",
      " block_16_expand_BN (BatchN  (None, 4, 4, 960)            3840      ['block_16_expand[0][0]']     \n",
      " ormalization)                                                                                    \n",
      "                                                                                                  \n",
      " block_16_expand_relu (ReLU  (None, 4, 4, 960)            0         ['block_16_expand_BN[0][0]']  \n",
      " )                                                                                                \n",
      "                                                                                                  \n",
      " block_16_depthwise (Depthw  (None, 4, 4, 960)            8640      ['block_16_expand_relu[0][0]']\n",
      " iseConv2D)                                                                                       \n",
      "                                                                                                  \n",
      " block_16_depthwise_BN (Bat  (None, 4, 4, 960)            3840      ['block_16_depthwise[0][0]']  \n",
      " chNormalization)                                                                                 \n",
      "                                                                                                  \n",
      " block_16_depthwise_relu (R  (None, 4, 4, 960)            0         ['block_16_depthwise_BN[0][0]'\n",
      " eLU)                                                               ]                             \n",
      "                                                                                                  \n",
      " block_16_project (Conv2D)   (None, 4, 4, 320)            307200    ['block_16_depthwise_relu[0][0\n",
      "                                                                    ]']                           \n",
      "                                                                                                  \n",
      " block_16_project_BN (Batch  (None, 4, 4, 320)            1280      ['block_16_project[0][0]']    \n",
      " Normalization)                                                                                   \n",
      "                                                                                                  \n",
      " Conv_1 (Conv2D)             (None, 4, 4, 1280)           409600    ['block_16_project_BN[0][0]'] \n",
      "                                                                                                  \n",
      " Conv_1_bn (BatchNormalizat  (None, 4, 4, 1280)           5120      ['Conv_1[0][0]']              \n",
      " ion)                                                                                             \n",
      "                                                                                                  \n",
      " out_relu (ReLU)             (None, 4, 4, 1280)           0         ['Conv_1_bn[0][0]']           \n",
      "                                                                                                  \n",
      " global_average_pooling2d (  (None, 1280)                 0         ['out_relu[0][0]']            \n",
      " GlobalAveragePooling2D)                                                                          \n",
      "                                                                                                  \n",
      " batch_normalization (Batch  (None, 1280)                 5120      ['global_average_pooling2d[0][\n",
      " Normalization)                                                     0]']                          \n",
      "                                                                                                  \n",
      " dropout (Dropout)           (None, 1280)                 0         ['batch_normalization[0][0]'] \n",
      "                                                                                                  \n",
      " dense (Dense)               (None, 1024)                 1311744   ['dropout[0][0]']             \n",
      "                                                                                                  \n",
      " batch_normalization_1 (Bat  (None, 1024)                 4096      ['dense[0][0]']               \n",
      " chNormalization)                                                                                 \n",
      "                                                                                                  \n",
      " dropout_1 (Dropout)         (None, 1024)                 0         ['batch_normalization_1[0][0]'\n",
      "                                                                    ]                             \n",
      "                                                                                                  \n",
      " dense_1 (Dense)             (None, 1024)                 1049600   ['dropout_1[0][0]']           \n",
      "                                                                                                  \n",
      " dense_2 (Dense)             (None, 124)                  127100    ['dense_1[0][0]']             \n",
      "                                                                                                  \n",
      "==================================================================================================\n",
      "Total params: 4755644 (18.14 MB)\n",
      "Trainable params: 4716924 (17.99 MB)\n",
      "Non-trainable params: 38720 (151.25 KB)\n",
      "__________________________________________________________________________________________________\n"
     ]
    }
   ],
   "source": [
    "model.summary()"
   ]
  },
  {
   "cell_type": "markdown",
   "metadata": {},
   "source": [
    "### Plot Training & Validation Accuracy"
   ]
  },
  {
   "cell_type": "code",
   "execution_count": 18,
   "metadata": {},
   "outputs": [
    {
     "data": {
      "image/png": "[encoded data removed]",
      "text/plain": [
       "<Figure size 640x480 with 1 Axes>"
      ]
     },
     "metadata": {},
     "output_type": "display_data"
    }
   ],
   "source": [
    "plt.plot(history.history['acc'], color='blue', label='Training Accuracy')\n",
    "plt.plot(history.history['val_acc'],\n",
    "         color='red', label='Testing Accuracy')\n",
    "plt.title('Model Accuracy')\n",
    "plt.xlabel('Epoch')\n",
    "plt.ylabel('Accuracy')\n",
    "plt.legend()\n",
    "plt.show()"
   ]
  },
  {
   "cell_type": "markdown",
   "metadata": {},
   "source": [
    "### Plot Training and Validation Loss"
   ]
  },
  {
   "cell_type": "code",
   "execution_count": 19,
   "metadata": {},
   "outputs": [
    {
     "data": {
      "image/png": "[encoded data removed]",
      "text/plain": [
       "<Figure size 640x480 with 1 Axes>"
      ]
     },
     "metadata": {},
     "output_type": "display_data"
    }
   ],
   "source": [
    "plt.plot(history.history['loss'], color='blue', label='Training Loss')\n",
    "plt.plot(history.history['val_loss'],\n",
    "         color='red', label='Testing Loss')\n",
    "plt.title('Model Loss')\n",
    "plt.xlabel('Epoch')\n",
    "plt.ylabel('Loss')\n",
    "plt.legend()\n",
    "plt.show()"
   ]
  },
  {
   "cell_type": "markdown",
   "metadata": {},
   "source": [
    "### Plot Training and Testing Top 5 Accuracy"
   ]
  },
  {
   "cell_type": "code",
   "execution_count": 20,
   "metadata": {},
   "outputs": [
    {
     "data": {
      "image/png": "[encoded data removed]",
      "text/plain": [
       "<Figure size 640x480 with 1 Axes>"
      ]
     },
     "metadata": {},
     "output_type": "display_data"
    }
   ],
   "source": [
    "plt.plot(history.history['top_5_accuracy'],\n",
    "         color='blue', label='Training Accuracy')\n",
    "plt.plot(history.history['val_top_5_accuracy'],\n",
    "         color='red', label='Testing Accuracy')\n",
    "plt.title('Model Accuracy')\n",
    "plt.xlabel('Epoch')\n",
    "plt.ylabel('Accuracy')\n",
    "plt.legend()\n",
    "plt.show()"
   ]
  }
 ],
 "metadata": {
  "kernelspec": {
   "display_name": "Python 3",
   "language": "python",
   "name": "python3"
  },
  "language_info": {
   "codemirror_mode": {
    "name": "ipython",
    "version": 3
   },
   "file_extension": ".py",
   "mimetype": "text/x-python",
   "name": "python",
   "nbconvert_exporter": "python",
   "pygments_lexer": "ipython3",
   "version": "3.10.12"
  }
 },
 "nbformat": 4,
 "nbformat_minor": 2
}
