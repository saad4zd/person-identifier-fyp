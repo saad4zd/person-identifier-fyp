{
 "cells": [
  {
   "cell_type": "markdown",
   "metadata": {},
   "source": [
    "### Import the Libraries"
   ]
  },
  {
   "cell_type": "code",
   "execution_count": 1,
   "metadata": {},
   "outputs": [
    {
     "name": "stderr",
     "output_type": "stream",
     "text": [
      "2024-04-17 01:23:56.099587: I tensorflow/core/util/port.cc:110] oneDNN custom operations are on. You may see slightly different numerical results due to floating-point round-off errors from different computation orders. To turn them off, set the environment variable `TF_ENABLE_ONEDNN_OPTS=0`.\n",
      "2024-04-17 01:23:56.152157: I tensorflow/core/platform/cpu_feature_guard.cc:182] This TensorFlow binary is optimized to use available CPU instructions in performance-critical operations.\n",
      "To enable the following instructions: AVX2 AVX512F AVX512_VNNI FMA, in other operations, rebuild TensorFlow with the appropriate compiler flags.\n",
      "2024-04-17 01:23:57.108331: W tensorflow/compiler/tf2tensorrt/utils/py_utils.cc:38] TF-TRT Warning: Could not find TensorRT\n",
      "/home/saad-bscs/.local/lib/python3.10/site-packages/matplotlib/projections/__init__.py:63: UserWarning: Unable to import Axes3D. This may be due to multiple versions of Matplotlib being installed (e.g. as a system package and as a pip package). As a result, the 3D projection is not available.\n",
      "  warnings.warn(\"Unable to import Axes3D. This may be due to multiple versions of \"\n"
     ]
    }
   ],
   "source": [
    "import os\n",
    "import tensorflow as tf\n",
    "import matplotlib.pyplot as plt\n",
    "from tensorflow.keras.models import Model\n",
    "from tensorflow.keras.regularizers import l2\n",
    "from tensorflow.keras.optimizers import RMSprop\n",
    "from tensorflow.keras.applications import VGG16\n",
    "from tensorflow.keras.losses import CategoricalCrossentropy\n",
    "from tensorflow.keras.metrics import top_k_categorical_accuracy\n",
    "from tensorflow.keras.preprocessing.image import ImageDataGenerator\n",
    "from tensorflow.keras.callbacks import ModelCheckpoint, EarlyStopping, ReduceLROnPlateau\n",
    "from tensorflow.keras.layers import Dense, GlobalAveragePooling2D, BatchNormalization, Dropout"
   ]
  },
  {
   "cell_type": "markdown",
   "metadata": {},
   "source": [
    "### Constants"
   ]
  },
  {
   "cell_type": "code",
   "execution_count": 2,
   "metadata": {},
   "outputs": [],
   "source": [
    "batch_size = 32\n",
    "num_classes = 124\n",
    "tf.random.set_seed(42)\n",
    "img_height, img_width = 128, 128\n",
    "data_dir = os.path.join(os.getcwd(), \"../5-Gait-Energy-Images\")"
   ]
  },
  {
   "cell_type": "markdown",
   "metadata": {},
   "source": [
    "### Training Data Augmentation"
   ]
  },
  {
   "cell_type": "code",
   "execution_count": 3,
   "metadata": {},
   "outputs": [],
   "source": [
    "train_datagen = ImageDataGenerator(\n",
    "    shear_range=0.2,\n",
    "    rescale=1.0 / 255,\n",
    "    rotation_range=20,\n",
    "    fill_mode=\"nearest\",\n",
    "    horizontal_flip=True,\n",
    "    zoom_range=[0.8, 1.2],\n",
    "    width_shift_range=0.2,\n",
    "    validation_split=0.15,\n",
    "    height_shift_range=0.2,\n",
    "    channel_shift_range=10,\n",
    "    brightness_range=[0.8, 1.2],\n",
    ")"
   ]
  },
  {
   "cell_type": "markdown",
   "metadata": {},
   "source": [
    "### Testing Data Augmentation"
   ]
  },
  {
   "cell_type": "code",
   "execution_count": 4,
   "metadata": {},
   "outputs": [],
   "source": [
    "test_datagen = ImageDataGenerator(rescale=1.0 / 255, validation_split=0.15)"
   ]
  },
  {
   "cell_type": "markdown",
   "metadata": {},
   "source": [
    "### Load and Split Data into Training and Testing Sets"
   ]
  },
  {
   "cell_type": "code",
   "execution_count": 5,
   "metadata": {},
   "outputs": [
    {
     "name": "stdout",
     "output_type": "stream",
     "text": [
      "Found 11587 images belonging to 124 classes.\n",
      "Found 1974 images belonging to 124 classes.\n"
     ]
    }
   ],
   "source": [
    "train_generator = train_datagen.flow_from_directory(\n",
    "    data_dir,\n",
    "    seed=42,\n",
    "    shuffle=True,\n",
    "    subset=\"training\",\n",
    "    batch_size=batch_size,\n",
    "    class_mode=\"categorical\",\n",
    "    target_size=(img_height, img_width),\n",
    ")\n",
    "\n",
    "test_generator = test_datagen.flow_from_directory(\n",
    "    data_dir,\n",
    "    seed=42,\n",
    "    shuffle=False,\n",
    "    subset=\"validation\",\n",
    "    batch_size=batch_size,\n",
    "    class_mode=\"categorical\",\n",
    "    target_size=(img_height, img_width),\n",
    ")"
   ]
  },
  {
   "cell_type": "markdown",
   "metadata": {},
   "source": [
    "### Load Pre-Trained VGG16 without Top Layers"
   ]
  },
  {
   "cell_type": "code",
   "execution_count": 6,
   "metadata": {},
   "outputs": [
    {
     "name": "stderr",
     "output_type": "stream",
     "text": [
      "2024-04-17 01:23:59.453723: W tensorflow/core/common_runtime/gpu/gpu_device.cc:1960] Cannot dlopen some GPU libraries. Please make sure the missing libraries mentioned above are installed properly if you would like to use GPU. Follow the guide at https://www.tensorflow.org/install/gpu for how to download and setup the required libraries for your platform.\n",
      "Skipping registering GPU devices...\n"
     ]
    }
   ],
   "source": [
    "base_model = VGG16(\n",
    "    weights=\"imagenet\", include_top=False, input_shape=(img_height, img_width, 3)\n",
    ")"
   ]
  },
  {
   "cell_type": "markdown",
   "metadata": {},
   "source": [
    "### Add custom classification layers"
   ]
  },
  {
   "cell_type": "code",
   "execution_count": 7,
   "metadata": {},
   "outputs": [],
   "source": [
    "x = base_model.output\n",
    "x = GlobalAveragePooling2D()(x)\n",
    "x = BatchNormalization()(x)\n",
    "x = Dropout(0.5)(x)\n",
    "x = Dense(1024, activation=\"relu\", kernel_regularizer=l2(0.003))(x)\n",
    "x = BatchNormalization()(x)\n",
    "x = Dropout(0.5)(x)\n",
    "x = Dense(1024, activation=\"relu\", kernel_regularizer=l2(0.003))(x)\n",
    "predictions = Dense(num_classes, activation='linear',\n",
    "                    kernel_regularizer=l2(0.003))(x)"
   ]
  },
  {
   "cell_type": "markdown",
   "metadata": {},
   "source": [
    "### Create the model"
   ]
  },
  {
   "cell_type": "code",
   "execution_count": 8,
   "metadata": {},
   "outputs": [],
   "source": [
    "model = Model(inputs=base_model.input, outputs=predictions)"
   ]
  },
  {
   "cell_type": "markdown",
   "metadata": {},
   "source": [
    "### Fine Tune the layers"
   ]
  },
  {
   "cell_type": "code",
   "execution_count": 9,
   "metadata": {},
   "outputs": [],
   "source": [
    "for layer in model.layers:\n",
    "    layer.trainable = True"
   ]
  },
  {
   "cell_type": "markdown",
   "metadata": {},
   "source": [
    "### Define Top k Accuracy Function"
   ]
  },
  {
   "cell_type": "code",
   "execution_count": 10,
   "metadata": {},
   "outputs": [],
   "source": [
    "def top_5_accuracy(y_true, y_pred):\n",
    "    return top_k_categorical_accuracy(y_true, y_pred, k=5)"
   ]
  },
  {
   "cell_type": "markdown",
   "metadata": {},
   "source": [
    "### Compile the model"
   ]
  },
  {
   "cell_type": "code",
   "execution_count": 11,
   "metadata": {},
   "outputs": [],
   "source": [
    "model.compile(\n",
    "    optimizer=RMSprop(\n",
    "        rho=0.9,\n",
    "        momentum=0.0,\n",
    "        epsilon=1e-07,\n",
    "        name=\"RMSprop\",\n",
    "        centered=False,\n",
    "        learning_rate=1e-4,\n",
    "    ),\n",
    "    loss=CategoricalCrossentropy(from_logits=True),\n",
    "    metrics=[\"acc\", top_5_accuracy],\n",
    ")"
   ]
  },
  {
   "cell_type": "markdown",
   "metadata": {},
   "source": [
    "### Define the Callbacks"
   ]
  },
  {
   "cell_type": "code",
   "execution_count": 12,
   "metadata": {},
   "outputs": [],
   "source": [
    "checkpoint = ModelCheckpoint(\n",
    "    \"best_model.h5\", monitor='val_acc', save_best_only=True, mode='max')\n",
    "early_stopping = EarlyStopping(\n",
    "    monitor='val_acc', patience=30, restore_best_weights=True)\n",
    "reduce_lr = ReduceLROnPlateau(\n",
    "    monitor='val_acc', factor=0.1, patience=5, min_lr=1e-7)"
   ]
  },
  {
   "cell_type": "markdown",
   "metadata": {},
   "source": [
    "### Train the model"
   ]
  },
  {
   "cell_type": "code",
   "execution_count": 13,
   "metadata": {},
   "outputs": [
    {
     "name": "stdout",
     "output_type": "stream",
     "text": [
      "Epoch 1/500\n",
      "363/363 [==============================] - ETA: 0s - loss: 10.4961 - acc: 0.0110 - top_5_accuracy: 0.0539"
     ]
    },
    {
     "name": "stderr",
     "output_type": "stream",
     "text": [
      "/usr/local/lib/python3.10/dist-packages/keras/src/engine/training.py:3000: UserWarning: You are saving your model as an HDF5 file via `model.save()`. This file format is considered legacy. We recommend using instead the native Keras format, e.g. `model.save('my_model.keras')`.\n",
      "  saving_api.save_model(\n"
     ]
    },
    {
     "name": "stdout",
     "output_type": "stream",
     "text": [
      "363/363 [==============================] - 517s 1s/step - loss: 10.4961 - acc: 0.0110 - top_5_accuracy: 0.0539 - val_loss: 36.5205 - val_acc: 0.0081 - val_top_5_accuracy: 0.0481 - lr: 1.0000e-04\n",
      "Epoch 2/500\n",
      "363/363 [==============================] - 514s 1s/step - loss: 9.4217 - acc: 0.0162 - top_5_accuracy: 0.0715 - val_loss: 30.3473 - val_acc: 0.0081 - val_top_5_accuracy: 0.0486 - lr: 1.0000e-04\n",
      "Epoch 3/500\n",
      "363/363 [==============================] - 513s 1s/step - loss: 8.7123 - acc: 0.0195 - top_5_accuracy: 0.0820 - val_loss: 17.6920 - val_acc: 0.0081 - val_top_5_accuracy: 0.0608 - lr: 1.0000e-04\n",
      "Epoch 4/500\n",
      "363/363 [==============================] - 516s 1s/step - loss: 8.2379 - acc: 0.0261 - top_5_accuracy: 0.0999 - val_loss: 16.2520 - val_acc: 0.0091 - val_top_5_accuracy: 0.0537 - lr: 1.0000e-04\n",
      "Epoch 5/500\n",
      "363/363 [==============================] - 513s 1s/step - loss: 7.9277 - acc: 0.0276 - top_5_accuracy: 0.1177 - val_loss: 10.2156 - val_acc: 0.0304 - val_top_5_accuracy: 0.1033 - lr: 1.0000e-04\n",
      "Epoch 6/500\n",
      "363/363 [==============================] - 515s 1s/step - loss: 7.7216 - acc: 0.0290 - top_5_accuracy: 0.1261 - val_loss: 13.3423 - val_acc: 0.0223 - val_top_5_accuracy: 0.0603 - lr: 1.0000e-04\n",
      "Epoch 7/500\n",
      "363/363 [==============================] - 513s 1s/step - loss: 7.4535 - acc: 0.0378 - top_5_accuracy: 0.1531 - val_loss: 11.2819 - val_acc: 0.0274 - val_top_5_accuracy: 0.0795 - lr: 1.0000e-04\n",
      "Epoch 8/500\n",
      "363/363 [==============================] - 513s 1s/step - loss: 7.1922 - acc: 0.0501 - top_5_accuracy: 0.1955 - val_loss: 11.7356 - val_acc: 0.0253 - val_top_5_accuracy: 0.0947 - lr: 1.0000e-04\n",
      "Epoch 9/500\n",
      "363/363 [==============================] - 515s 1s/step - loss: 6.9365 - acc: 0.0656 - top_5_accuracy: 0.2435 - val_loss: 7.0691 - val_acc: 0.0613 - val_top_5_accuracy: 0.2204 - lr: 1.0000e-04\n",
      "Epoch 10/500\n",
      "363/363 [==============================] - 515s 1s/step - loss: 6.7260 - acc: 0.0841 - top_5_accuracy: 0.2923 - val_loss: 7.3354 - val_acc: 0.0491 - val_top_5_accuracy: 0.1844 - lr: 1.0000e-04\n",
      "Epoch 11/500\n",
      "363/363 [==============================] - 516s 1s/step - loss: 6.5386 - acc: 0.1003 - top_5_accuracy: 0.3399 - val_loss: 6.1435 - val_acc: 0.1484 - val_top_5_accuracy: 0.4200 - lr: 1.0000e-04\n",
      "Epoch 12/500\n",
      "363/363 [==============================] - 514s 1s/step - loss: 6.3373 - acc: 0.1253 - top_5_accuracy: 0.3922 - val_loss: 10.3804 - val_acc: 0.0137 - val_top_5_accuracy: 0.0927 - lr: 1.0000e-04\n",
      "Epoch 13/500\n",
      "363/363 [==============================] - 514s 1s/step - loss: 6.1544 - acc: 0.1497 - top_5_accuracy: 0.4546 - val_loss: 7.5346 - val_acc: 0.0588 - val_top_5_accuracy: 0.2138 - lr: 1.0000e-04\n",
      "Epoch 14/500\n",
      "363/363 [==============================] - 514s 1s/step - loss: 5.9674 - acc: 0.1777 - top_5_accuracy: 0.5009 - val_loss: 6.0637 - val_acc: 0.1727 - val_top_5_accuracy: 0.4777 - lr: 1.0000e-04\n",
      "Epoch 15/500\n",
      "363/363 [==============================] - 514s 1s/step - loss: 5.7815 - acc: 0.2098 - top_5_accuracy: 0.5481 - val_loss: 7.4448 - val_acc: 0.1044 - val_top_5_accuracy: 0.3151 - lr: 1.0000e-04\n",
      "Epoch 16/500\n",
      "363/363 [==============================] - 516s 1s/step - loss: 5.5816 - acc: 0.2486 - top_5_accuracy: 0.5929 - val_loss: 6.5519 - val_acc: 0.1697 - val_top_5_accuracy: 0.4417 - lr: 1.0000e-04\n",
      "Epoch 17/500\n",
      "363/363 [==============================] - 515s 1s/step - loss: 5.3845 - acc: 0.2956 - top_5_accuracy: 0.6360 - val_loss: 5.0652 - val_acc: 0.3587 - val_top_5_accuracy: 0.7097 - lr: 1.0000e-04\n",
      "Epoch 18/500\n",
      "363/363 [==============================] - 513s 1s/step - loss: 5.2103 - acc: 0.3288 - top_5_accuracy: 0.6787 - val_loss: 6.1721 - val_acc: 0.2264 - val_top_5_accuracy: 0.5066 - lr: 1.0000e-04\n",
      "Epoch 19/500\n",
      "363/363 [==============================] - 516s 1s/step - loss: 5.0557 - acc: 0.3579 - top_5_accuracy: 0.7064 - val_loss: 5.2349 - val_acc: 0.3318 - val_top_5_accuracy: 0.6763 - lr: 1.0000e-04\n",
      "Epoch 20/500\n",
      "363/363 [==============================] - 515s 1s/step - loss: 4.8944 - acc: 0.3897 - top_5_accuracy: 0.7374 - val_loss: 5.1005 - val_acc: 0.3551 - val_top_5_accuracy: 0.6864 - lr: 1.0000e-04\n",
      "Epoch 21/500\n",
      "363/363 [==============================] - 515s 1s/step - loss: 4.7375 - acc: 0.4257 - top_5_accuracy: 0.7676 - val_loss: 7.2088 - val_acc: 0.1479 - val_top_5_accuracy: 0.3582 - lr: 1.0000e-04\n",
      "Epoch 22/500\n",
      "363/363 [==============================] - 512s 1s/step - loss: 4.5888 - acc: 0.4613 - top_5_accuracy: 0.7897 - val_loss: 5.3900 - val_acc: 0.2999 - val_top_5_accuracy: 0.6221 - lr: 1.0000e-04\n",
      "Epoch 23/500\n",
      "363/363 [==============================] - 515s 1s/step - loss: 4.2651 - acc: 0.5468 - top_5_accuracy: 0.8493 - val_loss: 4.3675 - val_acc: 0.4914 - val_top_5_accuracy: 0.8384 - lr: 1.0000e-05\n",
      "Epoch 24/500\n",
      "363/363 [==============================] - 514s 1s/step - loss: 4.1657 - acc: 0.5721 - top_5_accuracy: 0.8633 - val_loss: 4.0982 - val_acc: 0.5826 - val_top_5_accuracy: 0.8774 - lr: 1.0000e-05\n",
      "Epoch 25/500\n",
      "363/363 [==============================] - 513s 1s/step - loss: 4.1190 - acc: 0.5875 - top_5_accuracy: 0.8718 - val_loss: 4.2168 - val_acc: 0.5441 - val_top_5_accuracy: 0.8607 - lr: 1.0000e-05\n",
      "Epoch 26/500\n",
      "363/363 [==============================] - 516s 1s/step - loss: 4.0764 - acc: 0.5961 - top_5_accuracy: 0.8770 - val_loss: 4.0176 - val_acc: 0.6044 - val_top_5_accuracy: 0.8860 - lr: 1.0000e-05\n",
      "Epoch 27/500\n",
      "363/363 [==============================] - 512s 1s/step - loss: 4.0587 - acc: 0.5957 - top_5_accuracy: 0.8790 - val_loss: 4.0934 - val_acc: 0.5811 - val_top_5_accuracy: 0.8642 - lr: 1.0000e-05\n",
      "Epoch 28/500\n",
      "363/363 [==============================] - 514s 1s/step - loss: 4.0197 - acc: 0.6083 - top_5_accuracy: 0.8859 - val_loss: 4.1020 - val_acc: 0.5851 - val_top_5_accuracy: 0.8678 - lr: 1.0000e-05\n",
      "Epoch 29/500\n",
      "363/363 [==============================] - 514s 1s/step - loss: 3.9761 - acc: 0.6216 - top_5_accuracy: 0.8873 - val_loss: 4.1131 - val_acc: 0.5745 - val_top_5_accuracy: 0.8663 - lr: 1.0000e-05\n",
      "Epoch 30/500\n",
      "363/363 [==============================] - 514s 1s/step - loss: 3.9693 - acc: 0.6166 - top_5_accuracy: 0.8903 - val_loss: 3.9956 - val_acc: 0.6059 - val_top_5_accuracy: 0.8845 - lr: 1.0000e-05\n",
      "Epoch 31/500\n",
      "363/363 [==============================] - 513s 1s/step - loss: 3.9306 - acc: 0.6334 - top_5_accuracy: 0.8930 - val_loss: 3.9791 - val_acc: 0.6120 - val_top_5_accuracy: 0.8860 - lr: 1.0000e-05\n",
      "Epoch 32/500\n",
      "363/363 [==============================] - 514s 1s/step - loss: 3.9015 - acc: 0.6369 - top_5_accuracy: 0.8958 - val_loss: 3.8882 - val_acc: 0.6368 - val_top_5_accuracy: 0.8901 - lr: 1.0000e-05\n",
      "Epoch 33/500\n",
      "363/363 [==============================] - 515s 1s/step - loss: 3.8923 - acc: 0.6374 - top_5_accuracy: 0.8980 - val_loss: 4.1148 - val_acc: 0.5699 - val_top_5_accuracy: 0.8576 - lr: 1.0000e-05\n",
      "Epoch 34/500\n",
      "363/363 [==============================] - 513s 1s/step - loss: 3.8476 - acc: 0.6433 - top_5_accuracy: 0.9064 - val_loss: 4.0744 - val_acc: 0.5927 - val_top_5_accuracy: 0.8602 - lr: 1.0000e-05\n",
      "Epoch 35/500\n",
      "363/363 [==============================] - 512s 1s/step - loss: 3.8218 - acc: 0.6549 - top_5_accuracy: 0.9040 - val_loss: 3.9052 - val_acc: 0.6135 - val_top_5_accuracy: 0.8977 - lr: 1.0000e-05\n",
      "Epoch 36/500\n",
      "363/363 [==============================] - 514s 1s/step - loss: 3.7878 - acc: 0.6633 - top_5_accuracy: 0.9116 - val_loss: 4.0054 - val_acc: 0.6089 - val_top_5_accuracy: 0.8698 - lr: 1.0000e-05\n",
      "Epoch 37/500\n",
      "363/363 [==============================] - 515s 1s/step - loss: 3.7826 - acc: 0.6664 - top_5_accuracy: 0.9094 - val_loss: 3.7900 - val_acc: 0.6505 - val_top_5_accuracy: 0.9088 - lr: 1.0000e-05\n",
      "Epoch 38/500\n",
      "363/363 [==============================] - 513s 1s/step - loss: 3.7509 - acc: 0.6694 - top_5_accuracy: 0.9134 - val_loss: 3.8208 - val_acc: 0.6449 - val_top_5_accuracy: 0.9007 - lr: 1.0000e-05\n",
      "Epoch 39/500\n",
      "363/363 [==============================] - 516s 1s/step - loss: 3.7161 - acc: 0.6772 - top_5_accuracy: 0.9191 - val_loss: 3.8523 - val_acc: 0.6246 - val_top_5_accuracy: 0.8956 - lr: 1.0000e-05\n",
      "Epoch 40/500\n",
      "363/363 [==============================] - 514s 1s/step - loss: 3.6931 - acc: 0.6795 - top_5_accuracy: 0.9247 - val_loss: 3.8323 - val_acc: 0.6424 - val_top_5_accuracy: 0.9007 - lr: 1.0000e-05\n",
      "Epoch 41/500\n",
      "363/363 [==============================] - 514s 1s/step - loss: 3.6765 - acc: 0.6840 - top_5_accuracy: 0.9238 - val_loss: 3.8544 - val_acc: 0.6251 - val_top_5_accuracy: 0.8946 - lr: 1.0000e-05\n",
      "Epoch 42/500\n",
      "363/363 [==============================] - 514s 1s/step - loss: 3.6341 - acc: 0.6953 - top_5_accuracy: 0.9247 - val_loss: 3.8664 - val_acc: 0.6165 - val_top_5_accuracy: 0.8845 - lr: 1.0000e-05\n",
      "Epoch 43/500\n",
      "363/363 [==============================] - 515s 1s/step - loss: 3.5947 - acc: 0.7079 - top_5_accuracy: 0.9331 - val_loss: 3.7619 - val_acc: 0.6510 - val_top_5_accuracy: 0.9032 - lr: 1.0000e-06\n",
      "Epoch 44/500\n",
      "363/363 [==============================] - 514s 1s/step - loss: 3.5999 - acc: 0.7067 - top_5_accuracy: 0.9292 - val_loss: 3.7410 - val_acc: 0.6570 - val_top_5_accuracy: 0.9083 - lr: 1.0000e-06\n",
      "Epoch 45/500\n",
      "363/363 [==============================] - 514s 1s/step - loss: 3.6047 - acc: 0.7078 - top_5_accuracy: 0.9274 - val_loss: 3.7490 - val_acc: 0.6550 - val_top_5_accuracy: 0.9027 - lr: 1.0000e-06\n",
      "Epoch 46/500\n",
      "363/363 [==============================] - 514s 1s/step - loss: 3.5971 - acc: 0.7082 - top_5_accuracy: 0.9287 - val_loss: 3.7727 - val_acc: 0.6464 - val_top_5_accuracy: 0.9027 - lr: 1.0000e-06\n",
      "Epoch 47/500\n",
      "363/363 [==============================] - 514s 1s/step - loss: 3.5846 - acc: 0.7090 - top_5_accuracy: 0.9326 - val_loss: 3.7227 - val_acc: 0.6616 - val_top_5_accuracy: 0.9088 - lr: 1.0000e-06\n",
      "Epoch 48/500\n",
      "363/363 [==============================] - 515s 1s/step - loss: 3.6006 - acc: 0.7050 - top_5_accuracy: 0.9264 - val_loss: 3.7633 - val_acc: 0.6454 - val_top_5_accuracy: 0.9032 - lr: 1.0000e-06\n",
      "Epoch 49/500\n",
      "363/363 [==============================] - 515s 1s/step - loss: 3.5801 - acc: 0.7066 - top_5_accuracy: 0.9318 - val_loss: 3.7558 - val_acc: 0.6525 - val_top_5_accuracy: 0.9037 - lr: 1.0000e-06\n",
      "Epoch 50/500\n",
      "363/363 [==============================] - 513s 1s/step - loss: 3.5654 - acc: 0.7157 - top_5_accuracy: 0.9350 - val_loss: 3.7322 - val_acc: 0.6596 - val_top_5_accuracy: 0.9058 - lr: 1.0000e-06\n",
      "Epoch 51/500\n",
      "363/363 [==============================] - 515s 1s/step - loss: 3.5642 - acc: 0.7162 - top_5_accuracy: 0.9355 - val_loss: 3.7226 - val_acc: 0.6591 - val_top_5_accuracy: 0.9108 - lr: 1.0000e-06\n",
      "Epoch 52/500\n",
      "363/363 [==============================] - 512s 1s/step - loss: 3.5659 - acc: 0.7174 - top_5_accuracy: 0.9333 - val_loss: 3.7196 - val_acc: 0.6591 - val_top_5_accuracy: 0.9124 - lr: 1.0000e-06\n",
      "Epoch 53/500\n",
      "363/363 [==============================] - 514s 1s/step - loss: 3.5806 - acc: 0.7105 - top_5_accuracy: 0.9292 - val_loss: 3.7256 - val_acc: 0.6581 - val_top_5_accuracy: 0.9103 - lr: 1.0000e-07\n",
      "Epoch 54/500\n",
      "363/363 [==============================] - 514s 1s/step - loss: 3.5650 - acc: 0.7174 - top_5_accuracy: 0.9302 - val_loss: 3.7241 - val_acc: 0.6555 - val_top_5_accuracy: 0.9134 - lr: 1.0000e-07\n",
      "Epoch 55/500\n",
      "363/363 [==============================] - 515s 1s/step - loss: 3.5656 - acc: 0.7107 - top_5_accuracy: 0.9339 - val_loss: 3.7243 - val_acc: 0.6570 - val_top_5_accuracy: 0.9108 - lr: 1.0000e-07\n",
      "Epoch 56/500\n",
      "363/363 [==============================] - 513s 1s/step - loss: 3.5725 - acc: 0.7146 - top_5_accuracy: 0.9310 - val_loss: 3.7271 - val_acc: 0.6575 - val_top_5_accuracy: 0.9093 - lr: 1.0000e-07\n",
      "Epoch 57/500\n",
      "363/363 [==============================] - 514s 1s/step - loss: 3.5673 - acc: 0.7146 - top_5_accuracy: 0.9306 - val_loss: 3.7219 - val_acc: 0.6591 - val_top_5_accuracy: 0.9119 - lr: 1.0000e-07\n",
      "Epoch 58/500\n",
      "363/363 [==============================] - 513s 1s/step - loss: 3.5623 - acc: 0.7185 - top_5_accuracy: 0.9326 - val_loss: 3.7169 - val_acc: 0.6586 - val_top_5_accuracy: 0.9108 - lr: 1.0000e-07\n",
      "Epoch 59/500\n",
      "363/363 [==============================] - 514s 1s/step - loss: 3.5702 - acc: 0.7140 - top_5_accuracy: 0.9317 - val_loss: 3.7238 - val_acc: 0.6601 - val_top_5_accuracy: 0.9108 - lr: 1.0000e-07\n",
      "Epoch 60/500\n",
      "363/363 [==============================] - 513s 1s/step - loss: 3.5684 - acc: 0.7117 - top_5_accuracy: 0.9342 - val_loss: 3.7188 - val_acc: 0.6560 - val_top_5_accuracy: 0.9108 - lr: 1.0000e-07\n",
      "Epoch 61/500\n",
      "363/363 [==============================] - 513s 1s/step - loss: 3.5666 - acc: 0.7157 - top_5_accuracy: 0.9341 - val_loss: 3.7329 - val_acc: 0.6555 - val_top_5_accuracy: 0.9108 - lr: 1.0000e-07\n",
      "Epoch 62/500\n",
      "363/363 [==============================] - 515s 1s/step - loss: 3.5717 - acc: 0.7131 - top_5_accuracy: 0.9334 - val_loss: 3.7308 - val_acc: 0.6565 - val_top_5_accuracy: 0.9113 - lr: 1.0000e-07\n",
      "Epoch 63/500\n",
      "363/363 [==============================] - 515s 1s/step - loss: 3.5635 - acc: 0.7133 - top_5_accuracy: 0.9373 - val_loss: 3.7266 - val_acc: 0.6586 - val_top_5_accuracy: 0.9103 - lr: 1.0000e-07\n",
      "Epoch 64/500\n",
      "363/363 [==============================] - 514s 1s/step - loss: 3.5622 - acc: 0.7168 - top_5_accuracy: 0.9342 - val_loss: 3.7289 - val_acc: 0.6591 - val_top_5_accuracy: 0.9113 - lr: 1.0000e-07\n",
      "Epoch 65/500\n",
      "363/363 [==============================] - 516s 1s/step - loss: 3.5426 - acc: 0.7256 - top_5_accuracy: 0.9364 - val_loss: 3.7274 - val_acc: 0.6581 - val_top_5_accuracy: 0.9098 - lr: 1.0000e-07\n",
      "Epoch 66/500\n",
      "363/363 [==============================] - 524s 1s/step - loss: 3.5595 - acc: 0.7151 - top_5_accuracy: 0.9349 - val_loss: 3.7279 - val_acc: 0.6565 - val_top_5_accuracy: 0.9098 - lr: 1.0000e-07\n",
      "Epoch 67/500\n",
      "363/363 [==============================] - 555s 2s/step - loss: 3.5573 - acc: 0.7168 - top_5_accuracy: 0.9347 - val_loss: 3.7139 - val_acc: 0.6616 - val_top_5_accuracy: 0.9119 - lr: 1.0000e-07\n",
      "Epoch 68/500\n",
      "363/363 [==============================] - 559s 2s/step - loss: 3.5680 - acc: 0.7135 - top_5_accuracy: 0.9339 - val_loss: 3.7152 - val_acc: 0.6606 - val_top_5_accuracy: 0.9103 - lr: 1.0000e-07\n",
      "Epoch 69/500\n",
      "363/363 [==============================] - 558s 2s/step - loss: 3.5677 - acc: 0.7089 - top_5_accuracy: 0.9325 - val_loss: 3.7266 - val_acc: 0.6575 - val_top_5_accuracy: 0.9098 - lr: 1.0000e-07\n",
      "Epoch 70/500\n",
      "363/363 [==============================] - 563s 2s/step - loss: 3.5627 - acc: 0.7132 - top_5_accuracy: 0.9332 - val_loss: 3.7150 - val_acc: 0.6621 - val_top_5_accuracy: 0.9113 - lr: 1.0000e-07\n",
      "Epoch 71/500\n",
      "363/363 [==============================] - 559s 2s/step - loss: 3.5629 - acc: 0.7108 - top_5_accuracy: 0.9360 - val_loss: 3.7229 - val_acc: 0.6575 - val_top_5_accuracy: 0.9124 - lr: 1.0000e-07\n",
      "Epoch 72/500\n",
      "363/363 [==============================] - 564s 2s/step - loss: 3.5533 - acc: 0.7138 - top_5_accuracy: 0.9355 - val_loss: 3.7157 - val_acc: 0.6596 - val_top_5_accuracy: 0.9108 - lr: 1.0000e-07\n",
      "Epoch 73/500\n",
      "363/363 [==============================] - 558s 2s/step - loss: 3.5674 - acc: 0.7139 - top_5_accuracy: 0.9308 - val_loss: 3.7235 - val_acc: 0.6581 - val_top_5_accuracy: 0.9124 - lr: 1.0000e-07\n",
      "Epoch 74/500\n",
      "363/363 [==============================] - 525s 1s/step - loss: 3.5569 - acc: 0.7149 - top_5_accuracy: 0.9342 - val_loss: 3.7183 - val_acc: 0.6611 - val_top_5_accuracy: 0.9119 - lr: 1.0000e-07\n",
      "Epoch 75/500\n",
      "363/363 [==============================] - 523s 1s/step - loss: 3.5480 - acc: 0.7188 - top_5_accuracy: 0.9352 - val_loss: 3.7175 - val_acc: 0.6606 - val_top_5_accuracy: 0.9098 - lr: 1.0000e-07\n",
      "Epoch 76/500\n",
      "363/363 [==============================] - 524s 1s/step - loss: 3.5528 - acc: 0.7180 - top_5_accuracy: 0.9348 - val_loss: 3.7125 - val_acc: 0.6606 - val_top_5_accuracy: 0.9124 - lr: 1.0000e-07\n",
      "Epoch 77/500\n",
      "363/363 [==============================] - 521s 1s/step - loss: 3.5520 - acc: 0.7156 - top_5_accuracy: 0.9355 - val_loss: 3.7220 - val_acc: 0.6581 - val_top_5_accuracy: 0.9113 - lr: 1.0000e-07\n",
      "Epoch 78/500\n",
      "363/363 [==============================] - 517s 1s/step - loss: 3.5624 - acc: 0.7179 - top_5_accuracy: 0.9304 - val_loss: 3.7187 - val_acc: 0.6596 - val_top_5_accuracy: 0.9098 - lr: 1.0000e-07\n",
      "Epoch 79/500\n",
      "363/363 [==============================] - 516s 1s/step - loss: 3.5535 - acc: 0.7157 - top_5_accuracy: 0.9330 - val_loss: 3.7111 - val_acc: 0.6611 - val_top_5_accuracy: 0.9113 - lr: 1.0000e-07\n",
      "Epoch 80/500\n",
      "363/363 [==============================] - 517s 1s/step - loss: 3.5674 - acc: 0.7090 - top_5_accuracy: 0.9360 - val_loss: 3.7200 - val_acc: 0.6606 - val_top_5_accuracy: 0.9103 - lr: 1.0000e-07\n",
      "Epoch 81/500\n",
      "363/363 [==============================] - 516s 1s/step - loss: 3.5636 - acc: 0.7135 - top_5_accuracy: 0.9324 - val_loss: 3.7161 - val_acc: 0.6581 - val_top_5_accuracy: 0.9103 - lr: 1.0000e-07\n",
      "Epoch 82/500\n",
      "363/363 [==============================] - 515s 1s/step - loss: 3.5649 - acc: 0.7134 - top_5_accuracy: 0.9322 - val_loss: 3.7217 - val_acc: 0.6581 - val_top_5_accuracy: 0.9124 - lr: 1.0000e-07\n",
      "Epoch 83/500\n",
      "363/363 [==============================] - 528s 1s/step - loss: 3.5616 - acc: 0.7151 - top_5_accuracy: 0.9373 - val_loss: 3.7177 - val_acc: 0.6596 - val_top_5_accuracy: 0.9113 - lr: 1.0000e-07\n",
      "Epoch 84/500\n",
      "363/363 [==============================] - 556s 2s/step - loss: 3.5434 - acc: 0.7213 - top_5_accuracy: 0.9379 - val_loss: 3.7190 - val_acc: 0.6601 - val_top_5_accuracy: 0.9093 - lr: 1.0000e-07\n",
      "Epoch 85/500\n",
      "363/363 [==============================] - 603s 2s/step - loss: 3.5645 - acc: 0.7113 - top_5_accuracy: 0.9317 - val_loss: 3.7187 - val_acc: 0.6606 - val_top_5_accuracy: 0.9108 - lr: 1.0000e-07\n",
      "Epoch 86/500\n",
      "363/363 [==============================] - 586s 2s/step - loss: 3.5584 - acc: 0.7166 - top_5_accuracy: 0.9322 - val_loss: 3.7182 - val_acc: 0.6596 - val_top_5_accuracy: 0.9119 - lr: 1.0000e-07\n",
      "Epoch 87/500\n",
      "363/363 [==============================] - 565s 2s/step - loss: 3.5553 - acc: 0.7182 - top_5_accuracy: 0.9337 - val_loss: 3.7153 - val_acc: 0.6575 - val_top_5_accuracy: 0.9124 - lr: 1.0000e-07\n",
      "Epoch 88/500\n",
      "363/363 [==============================] - 565s 2s/step - loss: 3.5440 - acc: 0.7185 - top_5_accuracy: 0.9335 - val_loss: 3.7152 - val_acc: 0.6636 - val_top_5_accuracy: 0.9119 - lr: 1.0000e-07\n",
      "Epoch 89/500\n",
      "363/363 [==============================] - 563s 2s/step - loss: 3.5568 - acc: 0.7137 - top_5_accuracy: 0.9359 - val_loss: 3.7190 - val_acc: 0.6570 - val_top_5_accuracy: 0.9098 - lr: 1.0000e-07\n",
      "Epoch 90/500\n",
      "363/363 [==============================] - 564s 2s/step - loss: 3.5561 - acc: 0.7172 - top_5_accuracy: 0.9335 - val_loss: 3.7220 - val_acc: 0.6606 - val_top_5_accuracy: 0.9098 - lr: 1.0000e-07\n",
      "Epoch 91/500\n",
      "363/363 [==============================] - 564s 2s/step - loss: 3.5584 - acc: 0.7145 - top_5_accuracy: 0.9354 - val_loss: 3.7216 - val_acc: 0.6570 - val_top_5_accuracy: 0.9108 - lr: 1.0000e-07\n",
      "Epoch 92/500\n",
      "363/363 [==============================] - 562s 2s/step - loss: 3.5503 - acc: 0.7174 - top_5_accuracy: 0.9361 - val_loss: 3.7145 - val_acc: 0.6601 - val_top_5_accuracy: 0.9124 - lr: 1.0000e-07\n",
      "Epoch 93/500\n",
      "363/363 [==============================] - 526s 1s/step - loss: 3.5535 - acc: 0.7149 - top_5_accuracy: 0.9328 - val_loss: 3.7145 - val_acc: 0.6606 - val_top_5_accuracy: 0.9119 - lr: 1.0000e-07\n",
      "Epoch 94/500\n",
      "363/363 [==============================] - 525s 1s/step - loss: 3.5506 - acc: 0.7194 - top_5_accuracy: 0.9366 - val_loss: 3.7082 - val_acc: 0.6636 - val_top_5_accuracy: 0.9119 - lr: 1.0000e-07\n",
      "Epoch 95/500\n",
      "363/363 [==============================] - 558s 2s/step - loss: 3.5571 - acc: 0.7197 - top_5_accuracy: 0.9336 - val_loss: 3.7115 - val_acc: 0.6621 - val_top_5_accuracy: 0.9098 - lr: 1.0000e-07\n",
      "Epoch 96/500\n",
      "363/363 [==============================] - 565s 2s/step - loss: 3.5543 - acc: 0.7156 - top_5_accuracy: 0.9347 - val_loss: 3.7177 - val_acc: 0.6601 - val_top_5_accuracy: 0.9113 - lr: 1.0000e-07\n",
      "Epoch 97/500\n",
      "363/363 [==============================] - 562s 2s/step - loss: 3.5615 - acc: 0.7161 - top_5_accuracy: 0.9310 - val_loss: 3.7111 - val_acc: 0.6606 - val_top_5_accuracy: 0.9124 - lr: 1.0000e-07\n",
      "Epoch 98/500\n",
      "363/363 [==============================] - 566s 2s/step - loss: 3.5455 - acc: 0.7204 - top_5_accuracy: 0.9349 - val_loss: 3.7077 - val_acc: 0.6606 - val_top_5_accuracy: 0.9103 - lr: 1.0000e-07\n",
      "Epoch 99/500\n",
      "363/363 [==============================] - 565s 2s/step - loss: 3.5350 - acc: 0.7222 - top_5_accuracy: 0.9370 - val_loss: 3.7161 - val_acc: 0.6591 - val_top_5_accuracy: 0.9098 - lr: 1.0000e-07\n",
      "Epoch 100/500\n",
      "363/363 [==============================] - 528s 1s/step - loss: 3.5538 - acc: 0.7188 - top_5_accuracy: 0.9347 - val_loss: 3.7076 - val_acc: 0.6646 - val_top_5_accuracy: 0.9098 - lr: 1.0000e-07\n",
      "Epoch 101/500\n",
      "363/363 [==============================] - 515s 1s/step - loss: 3.5547 - acc: 0.7133 - top_5_accuracy: 0.9347 - val_loss: 3.7049 - val_acc: 0.6631 - val_top_5_accuracy: 0.9134 - lr: 1.0000e-07\n",
      "Epoch 102/500\n",
      "363/363 [==============================] - 515s 1s/step - loss: 3.5552 - acc: 0.7162 - top_5_accuracy: 0.9326 - val_loss: 3.7182 - val_acc: 0.6611 - val_top_5_accuracy: 0.9083 - lr: 1.0000e-07\n",
      "Epoch 103/500\n",
      "363/363 [==============================] - 515s 1s/step - loss: 3.5514 - acc: 0.7164 - top_5_accuracy: 0.9324 - val_loss: 3.7170 - val_acc: 0.6586 - val_top_5_accuracy: 0.9093 - lr: 1.0000e-07\n",
      "Epoch 104/500\n",
      "363/363 [==============================] - 515s 1s/step - loss: 3.5468 - acc: 0.7186 - top_5_accuracy: 0.9342 - val_loss: 3.7211 - val_acc: 0.6596 - val_top_5_accuracy: 0.9098 - lr: 1.0000e-07\n",
      "Epoch 105/500\n",
      "363/363 [==============================] - 514s 1s/step - loss: 3.5515 - acc: 0.7198 - top_5_accuracy: 0.9356 - val_loss: 3.7156 - val_acc: 0.6611 - val_top_5_accuracy: 0.9103 - lr: 1.0000e-07\n",
      "Epoch 106/500\n",
      "363/363 [==============================] - 514s 1s/step - loss: 3.5553 - acc: 0.7156 - top_5_accuracy: 0.9344 - val_loss: 3.7071 - val_acc: 0.6611 - val_top_5_accuracy: 0.9139 - lr: 1.0000e-07\n",
      "Epoch 107/500\n",
      "363/363 [==============================] - 516s 1s/step - loss: 3.5545 - acc: 0.7139 - top_5_accuracy: 0.9362 - val_loss: 3.7131 - val_acc: 0.6596 - val_top_5_accuracy: 0.9083 - lr: 1.0000e-07\n",
      "Epoch 108/500\n",
      "363/363 [==============================] - 515s 1s/step - loss: 3.5443 - acc: 0.7208 - top_5_accuracy: 0.9352 - val_loss: 3.7095 - val_acc: 0.6596 - val_top_5_accuracy: 0.9113 - lr: 1.0000e-07\n",
      "Epoch 109/500\n",
      "363/363 [==============================] - 516s 1s/step - loss: 3.5472 - acc: 0.7164 - top_5_accuracy: 0.9354 - val_loss: 3.7163 - val_acc: 0.6596 - val_top_5_accuracy: 0.9093 - lr: 1.0000e-07\n",
      "Epoch 110/500\n",
      "363/363 [==============================] - 514s 1s/step - loss: 3.5452 - acc: 0.7175 - top_5_accuracy: 0.9354 - val_loss: 3.7129 - val_acc: 0.6611 - val_top_5_accuracy: 0.9108 - lr: 1.0000e-07\n",
      "Epoch 111/500\n",
      "363/363 [==============================] - 513s 1s/step - loss: 3.5535 - acc: 0.7141 - top_5_accuracy: 0.9351 - val_loss: 3.7058 - val_acc: 0.6621 - val_top_5_accuracy: 0.9124 - lr: 1.0000e-07\n",
      "Epoch 112/500\n",
      "363/363 [==============================] - 514s 1s/step - loss: 3.5494 - acc: 0.7187 - top_5_accuracy: 0.9316 - val_loss: 3.7020 - val_acc: 0.6616 - val_top_5_accuracy: 0.9119 - lr: 1.0000e-07\n",
      "Epoch 113/500\n",
      "363/363 [==============================] - 516s 1s/step - loss: 3.5350 - acc: 0.7222 - top_5_accuracy: 0.9346 - val_loss: 3.7102 - val_acc: 0.6611 - val_top_5_accuracy: 0.9113 - lr: 1.0000e-07\n",
      "Epoch 114/500\n",
      "363/363 [==============================] - 516s 1s/step - loss: 3.5524 - acc: 0.7122 - top_5_accuracy: 0.9334 - val_loss: 3.7041 - val_acc: 0.6621 - val_top_5_accuracy: 0.9129 - lr: 1.0000e-07\n",
      "Epoch 115/500\n",
      "363/363 [==============================] - 554s 2s/step - loss: 3.5367 - acc: 0.7196 - top_5_accuracy: 0.9382 - val_loss: 3.7056 - val_acc: 0.6621 - val_top_5_accuracy: 0.9119 - lr: 1.0000e-07\n",
      "Epoch 116/500\n",
      "363/363 [==============================] - 557s 2s/step - loss: 3.5420 - acc: 0.7136 - top_5_accuracy: 0.9376 - val_loss: 3.7091 - val_acc: 0.6641 - val_top_5_accuracy: 0.9119 - lr: 1.0000e-07\n",
      "Epoch 117/500\n",
      "363/363 [==============================] - 521s 1s/step - loss: 3.5469 - acc: 0.7213 - top_5_accuracy: 0.9331 - val_loss: 3.7141 - val_acc: 0.6601 - val_top_5_accuracy: 0.9129 - lr: 1.0000e-07\n",
      "Epoch 118/500\n",
      "363/363 [==============================] - 517s 1s/step - loss: 3.5504 - acc: 0.7167 - top_5_accuracy: 0.9312 - val_loss: 3.7082 - val_acc: 0.6616 - val_top_5_accuracy: 0.9154 - lr: 1.0000e-07\n",
      "Epoch 119/500\n",
      "363/363 [==============================] - 514s 1s/step - loss: 3.5476 - acc: 0.7157 - top_5_accuracy: 0.9340 - val_loss: 3.7047 - val_acc: 0.6621 - val_top_5_accuracy: 0.9129 - lr: 1.0000e-07\n",
      "Epoch 120/500\n",
      "363/363 [==============================] - 516s 1s/step - loss: 3.5468 - acc: 0.7192 - top_5_accuracy: 0.9372 - val_loss: 3.7060 - val_acc: 0.6616 - val_top_5_accuracy: 0.9119 - lr: 1.0000e-07\n",
      "Epoch 121/500\n",
      "363/363 [==============================] - 518s 1s/step - loss: 3.5452 - acc: 0.7205 - top_5_accuracy: 0.9330 - val_loss: 3.7037 - val_acc: 0.6646 - val_top_5_accuracy: 0.9119 - lr: 1.0000e-07\n",
      "Epoch 122/500\n",
      "363/363 [==============================] - 545s 1s/step - loss: 3.5490 - acc: 0.7176 - top_5_accuracy: 0.9357 - val_loss: 3.7163 - val_acc: 0.6565 - val_top_5_accuracy: 0.9098 - lr: 1.0000e-07\n",
      "Epoch 123/500\n",
      "363/363 [==============================] - 559s 2s/step - loss: 3.5409 - acc: 0.7218 - top_5_accuracy: 0.9330 - val_loss: 3.7092 - val_acc: 0.6621 - val_top_5_accuracy: 0.9119 - lr: 1.0000e-07\n",
      "Epoch 124/500\n",
      "363/363 [==============================] - 560s 2s/step - loss: 3.5396 - acc: 0.7178 - top_5_accuracy: 0.9333 - val_loss: 3.7061 - val_acc: 0.6611 - val_top_5_accuracy: 0.9119 - lr: 1.0000e-07\n",
      "Epoch 125/500\n",
      "363/363 [==============================] - 562s 2s/step - loss: 3.5396 - acc: 0.7231 - top_5_accuracy: 0.9370 - val_loss: 3.7065 - val_acc: 0.6636 - val_top_5_accuracy: 0.9134 - lr: 1.0000e-07\n",
      "Epoch 126/500\n",
      "363/363 [==============================] - 562s 2s/step - loss: 3.5502 - acc: 0.7174 - top_5_accuracy: 0.9337 - val_loss: 3.7043 - val_acc: 0.6616 - val_top_5_accuracy: 0.9113 - lr: 1.0000e-07\n",
      "Epoch 127/500\n",
      "363/363 [==============================] - 535s 1s/step - loss: 3.5440 - acc: 0.7169 - top_5_accuracy: 0.9384 - val_loss: 3.7010 - val_acc: 0.6646 - val_top_5_accuracy: 0.9119 - lr: 1.0000e-07\n",
      "Epoch 128/500\n",
      "363/363 [==============================] - 529s 1s/step - loss: 3.5471 - acc: 0.7188 - top_5_accuracy: 0.9353 - val_loss: 3.7036 - val_acc: 0.6626 - val_top_5_accuracy: 0.9139 - lr: 1.0000e-07\n",
      "Epoch 129/500\n",
      "363/363 [==============================] - 553s 2s/step - loss: 3.5401 - acc: 0.7179 - top_5_accuracy: 0.9355 - val_loss: 3.7051 - val_acc: 0.6591 - val_top_5_accuracy: 0.9108 - lr: 1.0000e-07\n",
      "Epoch 130/500\n",
      "363/363 [==============================] - 560s 2s/step - loss: 3.5494 - acc: 0.7175 - top_5_accuracy: 0.9353 - val_loss: 3.7023 - val_acc: 0.6626 - val_top_5_accuracy: 0.9103 - lr: 1.0000e-07\n"
     ]
    }
   ],
   "source": [
    "history = model.fit(\n",
    "    train_generator,\n",
    "    validation_data=test_generator,\n",
    "    epochs=500,\n",
    "    callbacks=[checkpoint, early_stopping, reduce_lr],\n",
    "    use_multiprocessing=True)"
   ]
  },
  {
   "cell_type": "markdown",
   "metadata": {},
   "source": [
    "### Evaluate Model on Training Set"
   ]
  },
  {
   "cell_type": "code",
   "execution_count": 14,
   "metadata": {},
   "outputs": [
    {
     "name": "stdout",
     "output_type": "stream",
     "text": [
      "363/363 [==============================] - 179s 493ms/step - loss: 3.2793 - acc: 0.7993 - top_5_accuracy: 0.9600\n",
      "Training Loss: 3.28\n",
      "Training Accuracy: 0.8\n",
      "Training Top 5 Accuracy: 0.96\n"
     ]
    }
   ],
   "source": [
    "train_loss, train_accuracy, top5train = model.evaluate(train_generator)\n",
    "print(f\"Training Loss: {round(train_loss, 2)}\")\n",
    "print(f\"Training Accuracy: {round(train_accuracy, 2)}\")\n",
    "print(f\"Training Top 5 Accuracy: {round(top5train, 2)}\")"
   ]
  },
  {
   "cell_type": "markdown",
   "metadata": {},
   "source": [
    "### Evaluate Model on Testing Set"
   ]
  },
  {
   "cell_type": "code",
   "execution_count": 15,
   "metadata": {},
   "outputs": [
    {
     "name": "stdout",
     "output_type": "stream",
     "text": [
      "62/62 [==============================] - 30s 481ms/step - loss: 3.7076 - acc: 0.6646 - top_5_accuracy: 0.9098\n",
      "Testing Loss: 3.71\n",
      "Testing Accuracy: 0.66\n",
      "Testing Top 5 Accuracy: 0.91\n"
     ]
    }
   ],
   "source": [
    "test_loss, test_accuracy, top5test = model.evaluate(test_generator)\n",
    "print(f\"Testing Loss: {round(test_loss, 2)}\")\n",
    "print(f\"Testing Accuracy: {round(test_accuracy, 2)}\")\n",
    "print(f\"Testing Top 5 Accuracy: {round(top5test, 2)}\")"
   ]
  },
  {
   "cell_type": "markdown",
   "metadata": {},
   "source": [
    "### Save the Model"
   ]
  },
  {
   "cell_type": "code",
   "execution_count": 16,
   "metadata": {},
   "outputs": [],
   "source": [
    "model.save('../9-Trained-Fine-Tune-Models/VGG16.h5')"
   ]
  },
  {
   "cell_type": "markdown",
   "metadata": {},
   "source": [
    "### Model Summary"
   ]
  },
  {
   "cell_type": "code",
   "execution_count": 17,
   "metadata": {},
   "outputs": [
    {
     "name": "stdout",
     "output_type": "stream",
     "text": [
      "Model: \"model\"\n",
      "_________________________________________________________________\n",
      " Layer (type)                Output Shape              Param #   \n",
      "=================================================================\n",
      " input_1 (InputLayer)        [(None, 128, 128, 3)]     0         \n",
      "                                                                 \n",
      " block1_conv1 (Conv2D)       (None, 128, 128, 64)      1792      \n",
      "                                                                 \n",
      " block1_conv2 (Conv2D)       (None, 128, 128, 64)      36928     \n",
      "                                                                 \n",
      " block1_pool (MaxPooling2D)  (None, 64, 64, 64)        0         \n",
      "                                                                 \n",
      " block2_conv1 (Conv2D)       (None, 64, 64, 128)       73856     \n",
      "                                                                 \n",
      " block2_conv2 (Conv2D)       (None, 64, 64, 128)       147584    \n",
      "                                                                 \n",
      " block2_pool (MaxPooling2D)  (None, 32, 32, 128)       0         \n",
      "                                                                 \n",
      " block3_conv1 (Conv2D)       (None, 32, 32, 256)       295168    \n",
      "                                                                 \n",
      " block3_conv2 (Conv2D)       (None, 32, 32, 256)       590080    \n",
      "                                                                 \n",
      " block3_conv3 (Conv2D)       (None, 32, 32, 256)       590080    \n",
      "                                                                 \n",
      " block3_pool (MaxPooling2D)  (None, 16, 16, 256)       0         \n",
      "                                                                 \n",
      " block4_conv1 (Conv2D)       (None, 16, 16, 512)       1180160   \n",
      "                                                                 \n",
      " block4_conv2 (Conv2D)       (None, 16, 16, 512)       2359808   \n",
      "                                                                 \n",
      " block4_conv3 (Conv2D)       (None, 16, 16, 512)       2359808   \n",
      "                                                                 \n",
      " block4_pool (MaxPooling2D)  (None, 8, 8, 512)         0         \n",
      "                                                                 \n",
      " block5_conv1 (Conv2D)       (None, 8, 8, 512)         2359808   \n",
      "                                                                 \n",
      " block5_conv2 (Conv2D)       (None, 8, 8, 512)         2359808   \n",
      "                                                                 \n",
      " block5_conv3 (Conv2D)       (None, 8, 8, 512)         2359808   \n",
      "                                                                 \n",
      " block5_pool (MaxPooling2D)  (None, 4, 4, 512)         0         \n",
      "                                                                 \n",
      " global_average_pooling2d (  (None, 512)               0         \n",
      " GlobalAveragePooling2D)                                         \n",
      "                                                                 \n",
      " batch_normalization (Batch  (None, 512)               2048      \n",
      " Normalization)                                                  \n",
      "                                                                 \n",
      " dropout (Dropout)           (None, 512)               0         \n",
      "                                                                 \n",
      " dense (Dense)               (None, 1024)              525312    \n",
      "                                                                 \n",
      " batch_normalization_1 (Bat  (None, 1024)              4096      \n",
      " chNormalization)                                                \n",
      "                                                                 \n",
      " dropout_1 (Dropout)         (None, 1024)              0         \n",
      "                                                                 \n",
      " dense_1 (Dense)             (None, 1024)              1049600   \n",
      "                                                                 \n",
      " dense_2 (Dense)             (None, 124)               127100    \n",
      "                                                                 \n",
      "=================================================================\n",
      "Total params: 16422844 (62.65 MB)\n",
      "Trainable params: 16419772 (62.64 MB)\n",
      "Non-trainable params: 3072 (12.00 KB)\n",
      "_________________________________________________________________\n"
     ]
    }
   ],
   "source": [
    "model.summary()"
   ]
  },
  {
   "cell_type": "markdown",
   "metadata": {},
   "source": [
    "### Plot Training & Validation Accuracy"
   ]
  },
  {
   "cell_type": "code",
   "execution_count": 18,
   "metadata": {},
   "outputs": [
    {
     "data": {
      "image/png": "[encoded data removed]",
      "text/plain": [
       "<Figure size 640x480 with 1 Axes>"
      ]
     },
     "metadata": {},
     "output_type": "display_data"
    }
   ],
   "source": [
    "plt.plot(history.history['acc'], color='blue', label='Training Accuracy')\n",
    "plt.plot(history.history['val_acc'],\n",
    "         color='red', label='Testing Accuracy')\n",
    "plt.title('Model Accuracy')\n",
    "plt.xlabel('Epoch')\n",
    "plt.ylabel('Accuracy')\n",
    "plt.legend()\n",
    "plt.show()"
   ]
  },
  {
   "cell_type": "markdown",
   "metadata": {},
   "source": [
    "### Plot Training and Validation Loss"
   ]
  },
  {
   "cell_type": "code",
   "execution_count": 19,
   "metadata": {},
   "outputs": [
    {
     "data": {
      "image/png": "[encoded data removed]",
      "text/plain": [
       "<Figure size 640x480 with 1 Axes>"
      ]
     },
     "metadata": {},
     "output_type": "display_data"
    }
   ],
   "source": [
    "plt.plot(history.history['loss'], color='blue', label='Training Loss')\n",
    "plt.plot(history.history['val_loss'],\n",
    "         color='red', label='Testing Loss')\n",
    "plt.title('Model Loss')\n",
    "plt.xlabel('Epoch')\n",
    "plt.ylabel('Loss')\n",
    "plt.legend()\n",
    "plt.show()"
   ]
  },
  {
   "cell_type": "markdown",
   "metadata": {},
   "source": [
    "### Plot Training and Testing Top 5 Accuracy"
   ]
  },
  {
   "cell_type": "code",
   "execution_count": 20,
   "metadata": {},
   "outputs": [
    {
     "data": {
      "image/png": "[encoded data removed]",
      "text/plain": [
       "<Figure size 640x480 with 1 Axes>"
      ]
     },
     "metadata": {},
     "output_type": "display_data"
    }
   ],
   "source": [
    "plt.plot(history.history['top_5_accuracy'],\n",
    "         color='blue', label='Training Accuracy')\n",
    "plt.plot(history.history['val_top_5_accuracy'],\n",
    "         color='red', label='Testing Accuracy')\n",
    "plt.title('Model Accuracy')\n",
    "plt.xlabel('Epoch')\n",
    "plt.ylabel('Accuracy')\n",
    "plt.legend()\n",
    "plt.show()"
   ]
  }
 ],
 "metadata": {
  "kernelspec": {
   "display_name": "Python 3",
   "language": "python",
   "name": "python3"
  },
  "language_info": {
   "codemirror_mode": {
    "name": "ipython",
    "version": 3
   },
   "file_extension": ".py",
   "mimetype": "text/x-python",
   "name": "python",
   "nbconvert_exporter": "python",
   "pygments_lexer": "ipython3",
   "version": "3.10.12"
  }
 },
 "nbformat": 4,
 "nbformat_minor": 2
}
